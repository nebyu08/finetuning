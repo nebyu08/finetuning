{
 "cells": [
  {
   "cell_type": "code",
   "execution_count": 1,
   "id": "476b5264-fafa-4e33-8c6f-213f2e30ca39",
   "metadata": {},
   "outputs": [
    {
     "name": "stderr",
     "output_type": "stream",
     "text": [
      "/home/nebiyu/miniconda3/envs/tune/lib/python3.10/site-packages/tqdm/auto.py:21: TqdmWarning: IProgress not found. Please update jupyter and ipywidgets. See https://ipywidgets.readthedocs.io/en/stable/user_install.html\n",
      "  from .autonotebook import tqdm as notebook_tqdm\n"
     ]
    }
   ],
   "source": [
    "from matplotlib import pyplot as plt\n",
    "from datasets import get_dataset_config_names\n",
    "from datasets import load_dataset\n",
    "import pandas as pd"
   ]
  },
  {
   "cell_type": "code",
   "execution_count": 2,
   "id": "f4ff62e6-5020-4c1a-847e-49600df89482",
   "metadata": {},
   "outputs": [
    {
     "data": {
      "text/plain": [
       "['books', 'electronics', 'grocery', 'movies', 'restaurants', 'tripadvisor']"
      ]
     },
     "execution_count": 2,
     "metadata": {},
     "output_type": "execute_result"
    }
   ],
   "source": [
    "domains=get_dataset_config_names(\"subjqa\")\n",
    "domains"
   ]
  },
  {
   "cell_type": "code",
   "execution_count": 3,
   "id": "0cd577c1-4089-4afd-845e-01d80cf1c0fc",
   "metadata": {},
   "outputs": [
    {
     "data": {
      "text/plain": [
       "DatasetDict({\n",
       "    train: Dataset({\n",
       "        features: ['domain', 'nn_mod', 'nn_asp', 'query_mod', 'query_asp', 'q_reviews_id', 'question_subj_level', 'ques_subj_score', 'is_ques_subjective', 'review_id', 'id', 'title', 'context', 'question', 'answers'],\n",
       "        num_rows: 1295\n",
       "    })\n",
       "    test: Dataset({\n",
       "        features: ['domain', 'nn_mod', 'nn_asp', 'query_mod', 'query_asp', 'q_reviews_id', 'question_subj_level', 'ques_subj_score', 'is_ques_subjective', 'review_id', 'id', 'title', 'context', 'question', 'answers'],\n",
       "        num_rows: 358\n",
       "    })\n",
       "    validation: Dataset({\n",
       "        features: ['domain', 'nn_mod', 'nn_asp', 'query_mod', 'query_asp', 'q_reviews_id', 'question_subj_level', 'ques_subj_score', 'is_ques_subjective', 'review_id', 'id', 'title', 'context', 'question', 'answers'],\n",
       "        num_rows: 255\n",
       "    })\n",
       "})"
      ]
     },
     "execution_count": 3,
     "metadata": {},
     "output_type": "execute_result"
    }
   ],
   "source": [
    "subjqa=load_dataset(\"subjqa\",name=\"electronics\")\n",
    "\n",
    "subjqa"
   ]
  },
  {
   "cell_type": "code",
   "execution_count": 4,
   "id": "00ddccf3-0930-4278-9d91-27dc84c88aa8",
   "metadata": {},
   "outputs": [
    {
     "name": "stdout",
     "output_type": "stream",
     "text": [
      "train has 1295 number of elements\n",
      "test has 358 number of elements\n",
      "validation has 255 number of elements\n"
     ]
    }
   ],
   "source": [
    "dfs={label:data.to_pandas() for label,data in subjqa.flatten().items()}\n",
    "\n",
    "for split,df in dfs.items():\n",
    "    print(f\"{split} has {len(df)} number of elements\")"
   ]
  },
  {
   "cell_type": "code",
   "execution_count": 5,
   "id": "971d1553-d34c-48a6-9844-2ff169984a71",
   "metadata": {},
   "outputs": [],
   "source": [
    "qa_columns=[\"title\",\"question\",\"answers.text\",\"answers.answer_start\",\"context\"]\n",
    "\n",
    "sample=dfs[\"train\"][qa_columns].sample(2,random_state=7)"
   ]
  },
  {
   "cell_type": "code",
   "execution_count": 6,
   "id": "3bdafcae-b22f-4811-95c8-4ac3006468d3",
   "metadata": {},
   "outputs": [
    {
     "name": "stderr",
     "output_type": "stream",
     "text": [
      "/home/nebiyu/miniconda3/envs/tune/lib/python3.10/site-packages/huggingface_hub/file_download.py:1142: FutureWarning: `resume_download` is deprecated and will be removed in version 1.0.0. Downloads always resume when possible. If you want to force a new download, use `force_download=True`.\n",
      "  warnings.warn(\n"
     ]
    }
   ],
   "source": [
    "from transformers import AutoTokenizer\n",
    "\n",
    "model_name=\"deepset/minilm-uncased-squad2\"\n",
    "tokenizer=AutoTokenizer.from_pretrained(model_name)"
   ]
  },
  {
   "cell_type": "code",
   "execution_count": 7,
   "id": "6a653724-458a-4741-a9a3-db9a4f0e15fe",
   "metadata": {},
   "outputs": [],
   "source": [
    "question = \"How much music can this hold?\"\n",
    "context = \"\"\"An MP3 is about 1 MB/minute, so about 6000 hours depending on \\\n",
    "file size.\"\"\"\n"
   ]
  },
  {
   "cell_type": "code",
   "execution_count": 8,
   "id": "b5f4f39e-0d4b-4609-9ff7-20a084c4306c",
   "metadata": {},
   "outputs": [
    {
     "name": "stdout",
     "output_type": "stream",
     "text": [
      "{\n",
      "  \"name\" : \"8484cf283848\",\n",
      "  \"cluster_name\" : \"docker-cluster\",\n",
      "  \"cluster_uuid\" : \"4G6Yu1Q5R86hprBmt3km6w\",\n",
      "  \"version\" : {\n",
      "    \"number\" : \"8.15.1\",\n",
      "    \"build_flavor\" : \"default\",\n",
      "    \"build_type\" : \"docker\",\n",
      "    \"build_hash\" : \"253e8544a65ad44581194068936f2a5d57c2c051\",\n",
      "    \"build_date\" : \"2024-09-02T22:04:47.310170297Z\",\n",
      "    \"build_snapshot\" : false,\n",
      "    \"lucene_version\" : \"9.11.1\",\n",
      "    \"minimum_wire_compatibility_version\" : \"7.17.0\",\n",
      "    \"minimum_index_compatibility_version\" : \"7.0.0\"\n",
      "  },\n",
      "  \"tagline\" : \"You Know, for Search\"\n",
      "}\n"
     ]
    }
   ],
   "source": [
    "!curl -X GET \"http://localhost:9200\"\n"
   ]
  },
  {
   "cell_type": "code",
   "execution_count": 9,
   "id": "91643115-740a-4124-a513-e08507e9e4a4",
   "metadata": {},
   "outputs": [
    {
     "name": "stderr",
     "output_type": "stream",
     "text": [
      "Some weights of the model checkpoint at deepset/minilm-uncased-squad2 were not used when initializing BertForQuestionAnswering: ['bert.pooler.dense.bias', 'bert.pooler.dense.weight']\n",
      "- This IS expected if you are initializing BertForQuestionAnswering from the checkpoint of a model trained on another task or with another architecture (e.g. initializing a BertForSequenceClassification model from a BertForPreTraining model).\n",
      "- This IS NOT expected if you are initializing BertForQuestionAnswering from the checkpoint of a model that you expect to be exactly identical (initializing a BertForSequenceClassification model from a BertForSequenceClassification model).\n"
     ]
    }
   ],
   "source": [
    "import torch\n",
    "from transformers import AutoModelForQuestionAnswering\n",
    "\n",
    "model=AutoModelForQuestionAnswering.from_pretrained(model_name)"
   ]
  },
  {
   "cell_type": "code",
   "execution_count": 10,
   "id": "7f4d18ad-0c05-4349-8bec-f7080fccff9c",
   "metadata": {},
   "outputs": [],
   "source": [
    "inputs=tokenizer(question,context,return_tensors=\"pt\")\n"
   ]
  },
  {
   "cell_type": "code",
   "execution_count": 11,
   "id": "5fa6d4c1-ef8d-4f82-bec0-371c8805cc83",
   "metadata": {},
   "outputs": [],
   "source": [
    "with torch.no_grad():\n",
    "    outputs=model(**inputs)"
   ]
  },
  {
   "cell_type": "code",
   "execution_count": 12,
   "id": "b66d03ea-dd2c-42c8-ada8-b882113b0032",
   "metadata": {},
   "outputs": [
    {
     "name": "stdout",
     "output_type": "stream",
     "text": [
      "QuestionAnsweringModelOutput(loss=None, start_logits=tensor([[-0.9862, -4.7750, -5.4025, -5.2378, -5.2863, -5.5117, -4.9819, -6.1880,\n",
      "         -0.9862,  0.2596, -0.2144, -1.7136,  3.7806,  4.8561, -1.0546, -3.9097,\n",
      "         -1.7374, -4.5944, -1.4278,  3.9949,  5.0391, -0.2018, -3.0193, -4.8549,\n",
      "         -2.3107, -3.5110, -3.5713, -0.9862]]), end_logits=tensor([[-0.9623, -5.4733, -5.0326, -5.1639, -5.4278, -5.5151, -5.1749, -4.6233,\n",
      "         -0.9623, -3.7855, -0.8715, -3.7745, -3.0162, -1.1780,  0.1758, -2.7365,\n",
      "          4.8934,  0.3046, -3.1761, -3.2762,  0.8937,  5.6606, -0.3623, -4.9554,\n",
      "         -3.2531, -0.0914,  1.6211, -0.9623]]), hidden_states=None, attentions=None)\n"
     ]
    }
   ],
   "source": [
    "print(outputs)"
   ]
  },
  {
   "cell_type": "code",
   "execution_count": 13,
   "id": "c6f2944d-ba26-416c-bad3-96f864a5c11a",
   "metadata": {},
   "outputs": [
    {
     "name": "stdout",
     "output_type": "stream",
     "text": [
      "Elasticsearch is running: {'name': '8484cf283848', 'cluster_name': 'docker-cluster', 'cluster_uuid': '4G6Yu1Q5R86hprBmt3km6w', 'version': {'number': '8.15.1', 'build_flavor': 'default', 'build_type': 'docker', 'build_hash': '253e8544a65ad44581194068936f2a5d57c2c051', 'build_date': '2024-09-02T22:04:47.310170297Z', 'build_snapshot': False, 'lucene_version': '9.11.1', 'minimum_wire_compatibility_version': '7.17.0', 'minimum_index_compatibility_version': '7.0.0'}, 'tagline': 'You Know, for Search'}\n"
     ]
    }
   ],
   "source": [
    "import os\n",
    "import time\n",
    "import requests\n",
    "from subprocess import Popen, PIPE, STDOUT\n",
    "\n",
    "# Define the path to the Elasticsearch binary\n",
    "es_path = '/usr/share/elasticsearch/bin/elasticsearch'  # Update this to the correct path\n",
    "\n",
    "# Change ownership of Elasticsearch files without requiring a password\n",
    "#os.system('sudo chown -R daemon:daemon /usr/share/elasticsearch/bin/elasticsearch')  # Update this path as well\n",
    "\n",
    "# Start Elasticsearch server\n",
    "es_server = Popen(args=[es_path],\n",
    "                  stdout=PIPE, stderr=STDOUT)\n",
    "\n",
    "# Wait for Elasticsearch to start\n",
    "time.sleep(30)\n",
    "\n",
    "# Check if Elasticsearch is up and running\n",
    "try:\n",
    "    response = requests.get(\"http://localhost:9200/\", auth=('elastic', '8Ffm8AV5DvjhzB3NsQVY'))  # Update the password\n",
    "    response.raise_for_status()  # Raise an error for bad responses\n",
    "    print(\"Elasticsearch is running:\", response.json())\n",
    "except requests.exceptions.RequestException as e:\n",
    "    print(\"Error connecting to Elasticsearch:\", e)"
   ]
  },
  {
   "cell_type": "code",
   "execution_count": 14,
   "id": "f6e29b4c-509e-4612-bca5-c99f3fca3c5e",
   "metadata": {},
   "outputs": [],
   "source": [
    "from haystack import Document\n",
    "from haystack.nodes import BM25Retriever\n",
    "from haystack.document_stores import ElasticsearchDocumentStore"
   ]
  },
  {
   "cell_type": "code",
   "execution_count": 15,
   "id": "a28b565c-6b8b-4a20-888a-e0f0c798180e",
   "metadata": {},
   "outputs": [],
   "source": [
    "document_store=ElasticsearchDocumentStore(\n",
    "    host=\"localhost\",\n",
    "    scheme=\"http\",\n",
    "    index=\"document\"\n",
    ")"
   ]
  },
  {
   "cell_type": "code",
   "execution_count": 16,
   "id": "344ea1eb-eeec-4847-b701-12091af9ed9b",
   "metadata": {},
   "outputs": [],
   "source": [
    "retriever=BM25Retriever(document_store)"
   ]
  },
  {
   "cell_type": "code",
   "execution_count": 17,
   "id": "3d097a05-633b-44fc-9a7a-5e46ac37c0cb",
   "metadata": {},
   "outputs": [
    {
     "name": "stderr",
     "output_type": "stream",
     "text": [
      "/home/nebiyu/miniconda3/envs/tune/lib/python3.10/site-packages/haystack/document_stores/elasticsearch/es8.py:193: DeprecationWarning: Passing transport options in the API method is deprecated. Use 'Elasticsearch.options()' instead.\n",
      "  return bulk(*args, **kwargs)\n"
     ]
    }
   ],
   "source": [
    "for split, df in dfs.items():\n",
    "    docs = [\n",
    "        Document(content= row[\"context\"],\n",
    "    meta={\"item_id\": row[\"title\"], \"question_id\": row[\"id\"],\n",
    "            \"split\": split}\n",
    "                )\n",
    "        for _,row in df.drop_duplicates(subset=\"context\").iterrows()]\n",
    "    document_store.write_documents(docs)"
   ]
  },
  {
   "cell_type": "code",
   "execution_count": 18,
   "id": "7654cf13-2139-40c6-990d-1fa4446d8842",
   "metadata": {},
   "outputs": [
    {
     "name": "stdout",
     "output_type": "stream",
     "text": [
      "Number of documents is 1875\n"
     ]
    }
   ],
   "source": [
    "document_count = document_store.client.count(index='default')[\"count\"]\n",
    "print(f\"Number of documents is {document_count}\")\n",
    "\n",
    "item_id = \"B0074BW614\"\n",
    "query = \"Is it good for reading?\"\n",
    "\n",
    "ret_doc=retriever.retrieve(\n",
    "    query=query,top_k=3,filters={\"item_id\":[item_id],\"split\":[\"train\"]}\n",
    ")"
   ]
  },
  {
   "cell_type": "code",
   "execution_count": 19,
   "id": "dbec839d-9a04-470b-a59b-1d2b843519f6",
   "metadata": {},
   "outputs": [
    {
     "name": "stdout",
     "output_type": "stream",
     "text": [
      "Document 1:\n",
      "Item ID: B0074BW614\n",
      "Split: train\n",
      "Question ID: 868e311275e26dbafe5af70774a300f3\n",
      "Content: This is a gift to myself.  I have been a kindle user for 4 years and this is my third one.  I never thought I would want a fire for I mainly use it for book reading.  I decided to try the fire for when I travel I take my laptop, my phone and my iPod classic.  I love my iPod but watching movies on the plane with it can be challenging because it is so small. Laptops battery life is not as good as the Kindle.  So the Fire combines for me what I needed all three to do. So far so good.\n",
      "Score:0.6859896945894133 \n",
      "\n",
      "\n",
      "Document 2:\n",
      "Item ID: B0074BW614\n",
      "Split: train\n",
      "Question ID: 998d564607f10bf6dbbd20b33b8fbbf1\n",
      "Content: Plays Netflix great, WiFi capability has great range. Resolution on the screen is AMAZING! For the price you cannot go wrong. Bought one for my spouse and myself after becoming addicted to hers! Our son LOVES it and it is great for reading books when no light is available. Amazing sound but I suggest good headphones to really hear it all.Battery life is super long and can go 3 or 4 days without a recharge from moderate use.A steal at $199.99.\n",
      "Score:0.6848480045959734 \n",
      "\n",
      "\n",
      "Document 3:\n",
      "Item ID: B0074BW614\n",
      "Split: train\n",
      "Question ID: 3ecfc76edee933ba1f202069b4fe7847\n",
      "Content: I've used an e-reader since the Rocket ebook in 1999, and I've always believed I wanted only an ebook reader with no other features. I don't get out much, so my computer is convenient for everything else.I've had several Kindles and was happy with all of them, but I had recently played around with my brother's tablet. When my last Kindle died, I decided to replace it with the Kindle Fire. I chose the smaller one because I was concerned about my arthritic hands holding a larger device for long periods. The 7\" is just perfect for me. It's light enough that I can hold it to read, but the larger screen compared to the Kindle makes for easier reading. I love the color, something I never thought would make a difference to me.Oddly enough, high on my favorite list is the ability to review a book as soon as I reach the end. I have written reviews of every book I read on a readers social media site, but I have seldom put in the extra effort to come to Amazon to write a review. On the Kindle Fire, as soon as I come to the end of a book, a review page pops up so I can review it while it's fresh on my mind, and I'm reviewing everything I read.I didn't realize when I placed my order that I was ordering that the device had special offers. I've always thought I would not want to be subject to advertising when I was reading. However, I discovered that the special offers are discreet and no distraction at all. I've even found myself going to the special offers page a time or two to see what's on offer.The only negative is that the battery doesn't last very long. However, with the PowerFast charger, it doesn't take long to charge the battery.I think folks like me who have always used a dedicated ereader and never even used a touch screen will be pleasantly surprised with the Kindle Fire, and people who are used to smartphones and tablets will find everything they expect in a device.Update 11/8/13: I still think the Kindle Fire is a fantastic product, and I use it occasionally for games. However, I have gone back to my Kindle Keyboard for reading novels. The arthritis in my shoulders, elbows, and hands has  worsened since I've been using the Kindle Fire, and even using the device for a short while increases the pain significantly. I can tolerate it for short periods to play a few games. However, I simply can't hold the Kindle Fire long enough for reading. This won't be an issue for most people, but I wanted to mention it for those people who might have similar problems.\n",
      "Score:0.6580296604181661 \n",
      "\n",
      "\n"
     ]
    }
   ],
   "source": [
    "for i, doc in enumerate(ret_doc):\n",
    "    print(f\"Document {i + 1}:\")\n",
    "    print(f\"Item ID: {doc.meta['item_id']}\")\n",
    "    print(f\"Split: {doc.meta['split']}\")\n",
    "    print(f\"Question ID: {doc.meta['question_id']}\")\n",
    "    print(f\"Content: {doc.content}\")\n",
    "    print(f\"Score:{doc.score} \")\n",
    "    print(\"\\n\")"
   ]
  },
  {
   "cell_type": "code",
   "execution_count": 20,
   "id": "9dd5e19b-62b1-48a6-9b75-9f9ef10cd6fd",
   "metadata": {},
   "outputs": [
    {
     "name": "stderr",
     "output_type": "stream",
     "text": [
      "/home/nebiyu/miniconda3/envs/tune/lib/python3.10/site-packages/huggingface_hub/file_download.py:1142: FutureWarning: `resume_download` is deprecated and will be removed in version 1.0.0. Downloads always resume when possible. If you want to force a new download, use `force_download=True`.\n",
      "  warnings.warn(\n",
      "Some weights of the model checkpoint at deepset/minilm-uncased-squad2 were not used when initializing BertForQuestionAnswering: ['bert.pooler.dense.bias', 'bert.pooler.dense.weight']\n",
      "- This IS expected if you are initializing BertForQuestionAnswering from the checkpoint of a model trained on another task or with another architecture (e.g. initializing a BertForSequenceClassification model from a BertForPreTraining model).\n",
      "- This IS NOT expected if you are initializing BertForQuestionAnswering from the checkpoint of a model that you expect to be exactly identical (initializing a BertForSequenceClassification model from a BertForSequenceClassification model).\n"
     ]
    }
   ],
   "source": [
    "from haystack.nodes import FARMReader\n",
    "\n",
    "model_ckpt = \"deepset/minilm-uncased-squad2\"\n",
    "max_seq_length, doc_stride = 384, 128\n",
    "reader = FARMReader(model_name_or_path=model_ckpt, progress_bar=False,\n",
    " max_seq_len=max_seq_length, doc_stride=doc_stride,\n",
    " return_no_answer=True)"
   ]
  },
  {
   "cell_type": "code",
   "execution_count": 21,
   "id": "533a972f-28d0-4e53-9e37-aaeab2d8c038",
   "metadata": {},
   "outputs": [
    {
     "name": "stdout",
     "output_type": "stream",
     "text": [
      "{'query': 'How much music can this hold?', 'no_ans_gap': 12.648091793060303, 'answers': [<Answer {'answer': '6000 hours', 'type': 'extractive', 'score': 0.5293058156967163, 'context': 'An MP3 is about 1 MB/minute, so about 6000 hours depending on file size.', 'offsets_in_document': [{'start': 38, 'end': 48}], 'offsets_in_context': [{'start': 38, 'end': 48}], 'document_ids': ['e344757014e804eff50faa3ecf1c9c75'], 'meta': {}}>]}\n"
     ]
    }
   ],
   "source": [
    "print(reader.predict_on_texts(question=question,texts=[context],top_k=1))"
   ]
  },
  {
   "cell_type": "code",
   "execution_count": 22,
   "id": "3d24cf1f-bcb4-4565-8c3e-7b83484c6b7e",
   "metadata": {},
   "outputs": [],
   "source": [
    "from haystack.pipelines import ExtractiveQAPipeline\n",
    "\n",
    "pipeline=ExtractiveQAPipeline(reader,retriever)\n",
    "\n",
    "n_answers = 3\n",
    "preds = pipeline.run(\n",
    "    query=query,\n",
    "    params={\n",
    "        \"Retriever\": {\n",
    "            \"top_k\": 3,\n",
    "            \"filters\": {\"item_id\": [item_id], \"split\": [\"train\"]}\n",
    "        },\n",
    "        \"Reader\": {\"top_k\": n_answers}\n",
    "    }\n",
    ")"
   ]
  },
  {
   "cell_type": "code",
   "execution_count": 23,
   "id": "7ee3ff63-929a-4f10-acec-f8f94119c434",
   "metadata": {},
   "outputs": [
    {
     "name": "stdout",
     "output_type": "stream",
     "text": [
      "Answer 1: it is great for reading books when no light is available\n",
      "Review snippet: ... ecoming addicted to hers! Our son LOVES it and it is great for reading books when no light is available. Amazing sound but I suggest good headphones t \n",
      "\n",
      "\n",
      "\n",
      "Answer 2: I mainly use it for book reading\n",
      "Review snippet: ...  is my third one.  I never thought I would want a fire for I mainly use it for book reading.  I decided to try the fire for when I travel I take my la \n",
      "\n",
      "\n",
      "\n",
      "Answer 3: \n",
      "Review snippet: ... None \n",
      "\n",
      "\n",
      "\n"
     ]
    }
   ],
   "source": [
    "for idx in range(n_answers):\n",
    "    answer=preds['answers'][idx]\n",
    "    print(f\"Answer {idx+1}: {answer.answer}\")\n",
    "    print(f\"Review snippet: ... {answer.context} \")\n",
    "    print(\"\\n\\n\")"
   ]
  },
  {
   "cell_type": "code",
   "execution_count": 26,
   "id": "f1596f7d-4037-4a80-b7e2-92fbe255945b",
   "metadata": {},
   "outputs": [],
   "source": [
    "from haystack.pipelines import Pipeline\n",
    "    \n",
    "#from haystack.evaluation import DocumentRecallEvaluator"
   ]
  },
  {
   "cell_type": "code",
   "execution_count": 29,
   "id": "6eeda1cc-2749-40ba-9de1-b290eeda80ca",
   "metadata": {},
   "outputs": [
    {
     "name": "stdout",
     "output_type": "stream",
     "text": [
      "['Answer', 'BaseComponent', 'Document', 'EvaluationResult', 'Label', 'MultiLabel', 'Pipeline', 'Span', 'TableCell', '__annotations__', '__builtins__', '__cached__', '__doc__', '__file__', '__loader__', '__name__', '__package__', '__path__', '__spec__', '__version__', 'document_stores', 'environment', 'errors', 'hash128', 'haystack', 'lazy_imports', 'metadata', 'mmh3', 'modeling', 'nodes', 'pipelines', 'schema', 'set_pytorch_secure_model_loading', 'silenceable_tqdm', 'telemetry', 'utils']\n"
     ]
    }
   ],
   "source": [
    "import haystack\n",
    "print(dir(haystack))"
   ]
  },
  {
   "cell_type": "code",
   "execution_count": null,
   "id": "add656bd-673c-441e-a891-bc41fc233338",
   "metadata": {},
   "outputs": [],
   "source": []
  }
 ],
 "metadata": {
  "kernelspec": {
   "display_name": "Python 3 (ipykernel)",
   "language": "python",
   "name": "python3"
  },
  "language_info": {
   "codemirror_mode": {
    "name": "ipython",
    "version": 3
   },
   "file_extension": ".py",
   "mimetype": "text/x-python",
   "name": "python",
   "nbconvert_exporter": "python",
   "pygments_lexer": "ipython3",
   "version": "3.10.14"
  }
 },
 "nbformat": 4,
 "nbformat_minor": 5
}
