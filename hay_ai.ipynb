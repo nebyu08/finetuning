{
 "cells": [
  {
   "cell_type": "code",
   "execution_count": 1,
   "id": "01739cf1-f175-45e1-beb9-f44fe8fa5efa",
   "metadata": {},
   "outputs": [
    {
     "name": "stderr",
     "output_type": "stream",
     "text": [
      "/home/nebiyu/miniconda3/envs/hay/lib/python3.10/site-packages/tqdm/auto.py:21: TqdmWarning: IProgress not found. Please update jupyter and ipywidgets. See https://ipywidgets.readthedocs.io/en/stable/user_install.html\n",
      "  from .autonotebook import tqdm as notebook_tqdm\n"
     ]
    }
   ],
   "source": [
    "from matplotlib import pyplot as plt\n",
    "from datasets import get_dataset_config_names\n",
    "from datasets import load_dataset\n",
    "import pandas as pd"
   ]
  },
  {
   "cell_type": "code",
   "execution_count": 2,
   "id": "b6595bca-9ef3-43a9-83e4-e325b1d3c769",
   "metadata": {},
   "outputs": [
    {
     "data": {
      "text/plain": [
       "['books', 'electronics', 'grocery', 'movies', 'restaurants', 'tripadvisor']"
      ]
     },
     "execution_count": 2,
     "metadata": {},
     "output_type": "execute_result"
    }
   ],
   "source": [
    "domains=get_dataset_config_names(\"subjqa\")\n",
    "domains"
   ]
  },
  {
   "cell_type": "code",
   "execution_count": 3,
   "id": "fbb8bbe7-7220-4c0f-81ea-c71cdaef1314",
   "metadata": {},
   "outputs": [
    {
     "data": {
      "text/plain": [
       "DatasetDict({\n",
       "    train: Dataset({\n",
       "        features: ['domain', 'nn_mod', 'nn_asp', 'query_mod', 'query_asp', 'q_reviews_id', 'question_subj_level', 'ques_subj_score', 'is_ques_subjective', 'review_id', 'id', 'title', 'context', 'question', 'answers'],\n",
       "        num_rows: 1295\n",
       "    })\n",
       "    test: Dataset({\n",
       "        features: ['domain', 'nn_mod', 'nn_asp', 'query_mod', 'query_asp', 'q_reviews_id', 'question_subj_level', 'ques_subj_score', 'is_ques_subjective', 'review_id', 'id', 'title', 'context', 'question', 'answers'],\n",
       "        num_rows: 358\n",
       "    })\n",
       "    validation: Dataset({\n",
       "        features: ['domain', 'nn_mod', 'nn_asp', 'query_mod', 'query_asp', 'q_reviews_id', 'question_subj_level', 'ques_subj_score', 'is_ques_subjective', 'review_id', 'id', 'title', 'context', 'question', 'answers'],\n",
       "        num_rows: 255\n",
       "    })\n",
       "})"
      ]
     },
     "execution_count": 3,
     "metadata": {},
     "output_type": "execute_result"
    }
   ],
   "source": [
    "subjqa=load_dataset(\"subjqa\",name=\"electronics\")\n",
    "\n",
    "subjqa"
   ]
  },
  {
   "cell_type": "code",
   "execution_count": 4,
   "id": "3fa3e051-2255-4f36-bb08-dddf19900306",
   "metadata": {},
   "outputs": [
    {
     "name": "stdout",
     "output_type": "stream",
     "text": [
      "train has 1295 number of elements\n",
      "test has 358 number of elements\n",
      "validation has 255 number of elements\n"
     ]
    }
   ],
   "source": [
    "dfs={label:data.to_pandas() for label,data in subjqa.flatten().items()}\n",
    "\n",
    "for split,df in dfs.items():\n",
    "    print(f\"{split} has {len(df)} number of elements\")"
   ]
  },
  {
   "cell_type": "code",
   "execution_count": 5,
   "id": "65b453c8-44b6-4673-a2ec-536807a1c020",
   "metadata": {},
   "outputs": [],
   "source": [
    "qa_columns=[\"title\",\"question\",\"answers.text\",\"answers.answer_start\",\"context\"]\n",
    "\n",
    "sample=dfs[\"train\"][qa_columns].sample(2,random_state=7)"
   ]
  },
  {
   "cell_type": "code",
   "execution_count": 6,
   "id": "9ec9d19b-6758-47c2-b0f5-512db6cfbd5b",
   "metadata": {},
   "outputs": [],
   "source": [
    "from transformers import AutoTokenizer\n",
    "\n",
    "model_name=\"deepset/minilm-uncased-squad2\"\n",
    "tokenizer=AutoTokenizer.from_pretrained(model_name)"
   ]
  },
  {
   "cell_type": "code",
   "execution_count": 7,
   "id": "b53dadf4-1388-4a25-aa36-b7e2b6f0e22f",
   "metadata": {},
   "outputs": [],
   "source": [
    "question = \"How much music can this hold?\"\n",
    "context = \"\"\"An MP3 is about 1 MB/minute, so about 6000 hours depending on \\\n",
    "file size.\"\"\"\n"
   ]
  },
  {
   "cell_type": "code",
   "execution_count": 8,
   "id": "a9a6b23a-2d54-4b8f-9cfd-54c387e4d005",
   "metadata": {},
   "outputs": [
    {
     "name": "stdout",
     "output_type": "stream",
     "text": [
      "{\n",
      "  \"name\" : \"8484cf283848\",\n",
      "  \"cluster_name\" : \"docker-cluster\",\n",
      "  \"cluster_uuid\" : \"4G6Yu1Q5R86hprBmt3km6w\",\n",
      "  \"version\" : {\n",
      "    \"number\" : \"8.15.1\",\n",
      "    \"build_flavor\" : \"default\",\n",
      "    \"build_type\" : \"docker\",\n",
      "    \"build_hash\" : \"253e8544a65ad44581194068936f2a5d57c2c051\",\n",
      "    \"build_date\" : \"2024-09-02T22:04:47.310170297Z\",\n",
      "    \"build_snapshot\" : false,\n",
      "    \"lucene_version\" : \"9.11.1\",\n",
      "    \"minimum_wire_compatibility_version\" : \"7.17.0\",\n",
      "    \"minimum_index_compatibility_version\" : \"7.0.0\"\n",
      "  },\n",
      "  \"tagline\" : \"You Know, for Search\"\n",
      "}\n"
     ]
    }
   ],
   "source": [
    "!curl -X GET \"http://localhost:9200\""
   ]
  },
  {
   "cell_type": "markdown",
   "id": "9451c661-0672-4683-99c6-27585f1ae93a",
   "metadata": {},
   "source": [
    "# lets make a question and answering pipeline"
   ]
  },
  {
   "cell_type": "code",
   "execution_count": 9,
   "id": "afb9f924-758d-4397-ace9-d4337810ca3e",
   "metadata": {},
   "outputs": [],
   "source": [
    "from haystack_integrations.document_stores.elasticsearch import ElasticsearchDocumentStore\n",
    "from haystack_integrations.components.retrievers.elasticsearch import ElasticsearchBM25Retriever\n",
    "from haystack import Document"
   ]
  },
  {
   "cell_type": "markdown",
   "id": "58757e9a-6767-4705-af4b-9890a77f2cf4",
   "metadata": {},
   "source": [
    "## initiate the elastic search document"
   ]
  },
  {
   "cell_type": "code",
   "execution_count": 10,
   "id": "e16ad2e2-b8be-4943-968d-76f321ec4ac3",
   "metadata": {},
   "outputs": [],
   "source": [
    "#initialize document store\n",
    "document_store=ElasticsearchDocumentStore(hosts=\"http://localhost:9200\")"
   ]
  },
  {
   "cell_type": "code",
   "execution_count": 11,
   "id": "58990a18-9b78-4e66-934a-af99843fa04d",
   "metadata": {},
   "outputs": [
    {
     "name": "stdout",
     "output_type": "stream",
     "text": [
      "health status index   uuid                   pri rep docs.count docs.deleted store.size pri.store.size dataset.size\n",
      "yellow open   default Ae3l6f9fS4CZDT9EO53L2w   1   1                                                               \n"
     ]
    }
   ],
   "source": [
    "!curl -X GET \"http://localhost:9200/_cat/indices?v\""
   ]
  },
  {
   "cell_type": "code",
   "execution_count": 16,
   "id": "e0ed01b5-303d-4c81-b88f-f5962c5e6e67",
   "metadata": {},
   "outputs": [
    {
     "name": "stdout",
     "output_type": "stream",
     "text": [
      "{\"acknowledged\":true}"
     ]
    }
   ],
   "source": [
    "#for delete the previously hold data\n",
    "!curl -X DELETE \"http://localhost:9200/default\""
   ]
  },
  {
   "cell_type": "code",
   "execution_count": 17,
   "id": "4c2f8d51-7dd2-4585-98a2-b9386da21ecc",
   "metadata": {
    "scrolled": true
   },
   "outputs": [],
   "source": [
    "#load data into document store\n",
    "for split, df in dfs.items():\n",
    "    docs = [\n",
    "        Document(content= row[\"context\"],\n",
    "    meta={\"item_id\": row[\"title\"], \"question_id\": row[\"id\"],\n",
    "            \"split\": split}\n",
    "                )\n",
    "        for _,row in df.drop_duplicates(subset=\"context\").iterrows()\n",
    "    ]\n",
    "\n",
    "    document_store.write_documents(docs)"
   ]
  },
  {
   "cell_type": "markdown",
   "id": "a16da84c-dd4c-4850-bbb5-668579108b1d",
   "metadata": {},
   "source": [
    "# initiate retriver"
   ]
  },
  {
   "cell_type": "code",
   "execution_count": 18,
   "id": "0ff8ee9f-eafb-4893-8edb-620ee00bd42d",
   "metadata": {},
   "outputs": [],
   "source": [
    "retriever=ElasticsearchBM25Retriever(document_store=document_store)"
   ]
  },
  {
   "cell_type": "code",
   "execution_count": 26,
   "id": "641d4bff-6fa8-4411-898a-f5595dded75c",
   "metadata": {},
   "outputs": [],
   "source": [
    "item_id = \"B0074BW614\"\n",
    "query = \"Is it good for reading?\"\n",
    "\n",
    "filters = {\n",
    "  \"conditions\": [\n",
    "    {\"field\": \"item_id\", \"value\": [\"B0074BW614\"]},  # Corrected syntax\n",
    "    {\"field\": \"split\", \"value\": [\"train\"]}\n",
    "  ],\n",
    "  \"operator\": \"AND\"  # or \"OR\" depending on your requirement\n",
    "}"
   ]
  },
  {
   "cell_type": "code",
   "execution_count": 27,
   "id": "a521f4dc-596d-426e-9bdc-e82b482535b2",
   "metadata": {},
   "outputs": [
    {
     "ename": "FilterError",
     "evalue": "'operator' key missing in {'field': 'item_id', 'value': ['B0074BW614']}",
     "output_type": "error",
     "traceback": [
      "\u001b[0;31m---------------------------------------------------------------------------\u001b[0m",
      "\u001b[0;31mFilterError\u001b[0m                               Traceback (most recent call last)",
      "Cell \u001b[0;32mIn[27], line 1\u001b[0m\n\u001b[0;32m----> 1\u001b[0m ret_doc\u001b[38;5;241m=\u001b[39m\u001b[43mretriever\u001b[49m\u001b[38;5;241;43m.\u001b[39;49m\u001b[43mrun\u001b[49m\u001b[43m(\u001b[49m\n\u001b[1;32m      2\u001b[0m \u001b[43m    \u001b[49m\u001b[43mquery\u001b[49m\u001b[38;5;241;43m=\u001b[39;49m\u001b[43mquery\u001b[49m\u001b[43m,\u001b[49m\u001b[43mtop_k\u001b[49m\u001b[38;5;241;43m=\u001b[39;49m\u001b[38;5;241;43m3\u001b[39;49m\u001b[43m,\u001b[49m\u001b[43mfilters\u001b[49m\u001b[38;5;241;43m=\u001b[39;49m\u001b[43mfilters\u001b[49m\n\u001b[1;32m      3\u001b[0m \u001b[43m)\u001b[49m\n",
      "File \u001b[0;32m~/miniconda3/envs/hay/lib/python3.10/site-packages/haystack_integrations/components/retrievers/elasticsearch/bm25_retriever.py:132\u001b[0m, in \u001b[0;36mElasticsearchBM25Retriever.run\u001b[0;34m(self, query, filters, top_k)\u001b[0m\n\u001b[1;32m    120\u001b[0m \u001b[38;5;250m\u001b[39m\u001b[38;5;124;03m\"\"\"\u001b[39;00m\n\u001b[1;32m    121\u001b[0m \u001b[38;5;124;03mRetrieve documents using the BM25 keyword-based algorithm.\u001b[39;00m\n\u001b[1;32m    122\u001b[0m \n\u001b[0;32m   (...)\u001b[0m\n\u001b[1;32m    129\u001b[0m \u001b[38;5;124;03m    - `documents`: List of `Document`s that match the query.\u001b[39;00m\n\u001b[1;32m    130\u001b[0m \u001b[38;5;124;03m\"\"\"\u001b[39;00m\n\u001b[1;32m    131\u001b[0m filters \u001b[38;5;241m=\u001b[39m apply_filter_policy(\u001b[38;5;28mself\u001b[39m\u001b[38;5;241m.\u001b[39m_filter_policy, \u001b[38;5;28mself\u001b[39m\u001b[38;5;241m.\u001b[39m_filters, filters)\n\u001b[0;32m--> 132\u001b[0m docs \u001b[38;5;241m=\u001b[39m \u001b[38;5;28;43mself\u001b[39;49m\u001b[38;5;241;43m.\u001b[39;49m\u001b[43m_document_store\u001b[49m\u001b[38;5;241;43m.\u001b[39;49m\u001b[43m_bm25_retrieval\u001b[49m\u001b[43m(\u001b[49m\n\u001b[1;32m    133\u001b[0m \u001b[43m    \u001b[49m\u001b[43mquery\u001b[49m\u001b[38;5;241;43m=\u001b[39;49m\u001b[43mquery\u001b[49m\u001b[43m,\u001b[49m\n\u001b[1;32m    134\u001b[0m \u001b[43m    \u001b[49m\u001b[43mfilters\u001b[49m\u001b[38;5;241;43m=\u001b[39;49m\u001b[43mfilters\u001b[49m\u001b[43m,\u001b[49m\n\u001b[1;32m    135\u001b[0m \u001b[43m    \u001b[49m\u001b[43mfuzziness\u001b[49m\u001b[38;5;241;43m=\u001b[39;49m\u001b[38;5;28;43mself\u001b[39;49m\u001b[38;5;241;43m.\u001b[39;49m\u001b[43m_fuzziness\u001b[49m\u001b[43m,\u001b[49m\n\u001b[1;32m    136\u001b[0m \u001b[43m    \u001b[49m\u001b[43mtop_k\u001b[49m\u001b[38;5;241;43m=\u001b[39;49m\u001b[43mtop_k\u001b[49m\u001b[43m \u001b[49m\u001b[38;5;129;43;01mor\u001b[39;49;00m\u001b[43m \u001b[49m\u001b[38;5;28;43mself\u001b[39;49m\u001b[38;5;241;43m.\u001b[39;49m\u001b[43m_top_k\u001b[49m\u001b[43m,\u001b[49m\n\u001b[1;32m    137\u001b[0m \u001b[43m    \u001b[49m\u001b[43mscale_score\u001b[49m\u001b[38;5;241;43m=\u001b[39;49m\u001b[38;5;28;43mself\u001b[39;49m\u001b[38;5;241;43m.\u001b[39;49m\u001b[43m_scale_score\u001b[49m\u001b[43m,\u001b[49m\n\u001b[1;32m    138\u001b[0m \u001b[43m\u001b[49m\u001b[43m)\u001b[49m\n\u001b[1;32m    139\u001b[0m \u001b[38;5;28;01mreturn\u001b[39;00m {\u001b[38;5;124m\"\u001b[39m\u001b[38;5;124mdocuments\u001b[39m\u001b[38;5;124m\"\u001b[39m: docs}\n",
      "File \u001b[0;32m~/miniconda3/envs/hay/lib/python3.10/site-packages/haystack_integrations/document_stores/elasticsearch/document_store.py:393\u001b[0m, in \u001b[0;36mElasticsearchDocumentStore._bm25_retrieval\u001b[0;34m(self, query, filters, fuzziness, top_k, scale_score)\u001b[0m\n\u001b[1;32m    374\u001b[0m body: Dict[\u001b[38;5;28mstr\u001b[39m, Any] \u001b[38;5;241m=\u001b[39m {\n\u001b[1;32m    375\u001b[0m     \u001b[38;5;124m\"\u001b[39m\u001b[38;5;124msize\u001b[39m\u001b[38;5;124m\"\u001b[39m: top_k,\n\u001b[1;32m    376\u001b[0m     \u001b[38;5;124m\"\u001b[39m\u001b[38;5;124mquery\u001b[39m\u001b[38;5;124m\"\u001b[39m: {\n\u001b[0;32m   (...)\u001b[0m\n\u001b[1;32m    389\u001b[0m     },\n\u001b[1;32m    390\u001b[0m }\n\u001b[1;32m    392\u001b[0m \u001b[38;5;28;01mif\u001b[39;00m filters:\n\u001b[0;32m--> 393\u001b[0m     body[\u001b[38;5;124m\"\u001b[39m\u001b[38;5;124mquery\u001b[39m\u001b[38;5;124m\"\u001b[39m][\u001b[38;5;124m\"\u001b[39m\u001b[38;5;124mbool\u001b[39m\u001b[38;5;124m\"\u001b[39m][\u001b[38;5;124m\"\u001b[39m\u001b[38;5;124mfilter\u001b[39m\u001b[38;5;124m\"\u001b[39m] \u001b[38;5;241m=\u001b[39m \u001b[43m_normalize_filters\u001b[49m\u001b[43m(\u001b[49m\u001b[43mfilters\u001b[49m\u001b[43m)\u001b[49m\n\u001b[1;32m    395\u001b[0m documents \u001b[38;5;241m=\u001b[39m \u001b[38;5;28mself\u001b[39m\u001b[38;5;241m.\u001b[39m_search_documents(\u001b[38;5;241m*\u001b[39m\u001b[38;5;241m*\u001b[39mbody)\n\u001b[1;32m    397\u001b[0m \u001b[38;5;28;01mif\u001b[39;00m scale_score:\n",
      "File \u001b[0;32m~/miniconda3/envs/hay/lib/python3.10/site-packages/haystack_integrations/document_stores/elasticsearch/filters.py:21\u001b[0m, in \u001b[0;36m_normalize_filters\u001b[0;34m(filters)\u001b[0m\n\u001b[1;32m     19\u001b[0m \u001b[38;5;28;01mif\u001b[39;00m \u001b[38;5;124m\"\u001b[39m\u001b[38;5;124mfield\u001b[39m\u001b[38;5;124m\"\u001b[39m \u001b[38;5;129;01min\u001b[39;00m filters:\n\u001b[1;32m     20\u001b[0m     \u001b[38;5;28;01mreturn\u001b[39;00m {\u001b[38;5;124m\"\u001b[39m\u001b[38;5;124mbool\u001b[39m\u001b[38;5;124m\"\u001b[39m: {\u001b[38;5;124m\"\u001b[39m\u001b[38;5;124mmust\u001b[39m\u001b[38;5;124m\"\u001b[39m: _parse_comparison_condition(filters)}}\n\u001b[0;32m---> 21\u001b[0m \u001b[38;5;28;01mreturn\u001b[39;00m \u001b[43m_parse_logical_condition\u001b[49m\u001b[43m(\u001b[49m\u001b[43mfilters\u001b[49m\u001b[43m)\u001b[49m\n",
      "File \u001b[0;32m~/miniconda3/envs/hay/lib/python3.10/site-packages/haystack_integrations/document_stores/elasticsearch/filters.py:33\u001b[0m, in \u001b[0;36m_parse_logical_condition\u001b[0;34m(condition)\u001b[0m\n\u001b[1;32m     30\u001b[0m     \u001b[38;5;28;01mraise\u001b[39;00m FilterError(msg)\n\u001b[1;32m     32\u001b[0m operator \u001b[38;5;241m=\u001b[39m condition[\u001b[38;5;124m\"\u001b[39m\u001b[38;5;124moperator\u001b[39m\u001b[38;5;124m\"\u001b[39m]\n\u001b[0;32m---> 33\u001b[0m conditions \u001b[38;5;241m=\u001b[39m [_parse_comparison_condition(c) \u001b[38;5;28;01mfor\u001b[39;00m c \u001b[38;5;129;01min\u001b[39;00m condition[\u001b[38;5;124m\"\u001b[39m\u001b[38;5;124mconditions\u001b[39m\u001b[38;5;124m\"\u001b[39m]]\n\u001b[1;32m     34\u001b[0m \u001b[38;5;28;01mif\u001b[39;00m \u001b[38;5;28mlen\u001b[39m(conditions) \u001b[38;5;241m>\u001b[39m \u001b[38;5;241m1\u001b[39m:\n\u001b[1;32m     35\u001b[0m     conditions \u001b[38;5;241m=\u001b[39m _normalize_ranges(conditions)\n",
      "File \u001b[0;32m~/miniconda3/envs/hay/lib/python3.10/site-packages/haystack_integrations/document_stores/elasticsearch/filters.py:33\u001b[0m, in \u001b[0;36m<listcomp>\u001b[0;34m(.0)\u001b[0m\n\u001b[1;32m     30\u001b[0m     \u001b[38;5;28;01mraise\u001b[39;00m FilterError(msg)\n\u001b[1;32m     32\u001b[0m operator \u001b[38;5;241m=\u001b[39m condition[\u001b[38;5;124m\"\u001b[39m\u001b[38;5;124moperator\u001b[39m\u001b[38;5;124m\"\u001b[39m]\n\u001b[0;32m---> 33\u001b[0m conditions \u001b[38;5;241m=\u001b[39m [\u001b[43m_parse_comparison_condition\u001b[49m\u001b[43m(\u001b[49m\u001b[43mc\u001b[49m\u001b[43m)\u001b[49m \u001b[38;5;28;01mfor\u001b[39;00m c \u001b[38;5;129;01min\u001b[39;00m condition[\u001b[38;5;124m\"\u001b[39m\u001b[38;5;124mconditions\u001b[39m\u001b[38;5;124m\"\u001b[39m]]\n\u001b[1;32m     34\u001b[0m \u001b[38;5;28;01mif\u001b[39;00m \u001b[38;5;28mlen\u001b[39m(conditions) \u001b[38;5;241m>\u001b[39m \u001b[38;5;241m1\u001b[39m:\n\u001b[1;32m     35\u001b[0m     conditions \u001b[38;5;241m=\u001b[39m _normalize_ranges(conditions)\n",
      "File \u001b[0;32m~/miniconda3/envs/hay/lib/python3.10/site-packages/haystack_integrations/document_stores/elasticsearch/filters.py:209\u001b[0m, in \u001b[0;36m_parse_comparison_condition\u001b[0;34m(condition)\u001b[0m\n\u001b[1;32m    207\u001b[0m \u001b[38;5;28;01mif\u001b[39;00m \u001b[38;5;124m\"\u001b[39m\u001b[38;5;124moperator\u001b[39m\u001b[38;5;124m\"\u001b[39m \u001b[38;5;129;01mnot\u001b[39;00m \u001b[38;5;129;01min\u001b[39;00m condition:\n\u001b[1;32m    208\u001b[0m     msg \u001b[38;5;241m=\u001b[39m \u001b[38;5;124mf\u001b[39m\u001b[38;5;124m\"\u001b[39m\u001b[38;5;124m'\u001b[39m\u001b[38;5;124moperator\u001b[39m\u001b[38;5;124m'\u001b[39m\u001b[38;5;124m key missing in \u001b[39m\u001b[38;5;132;01m{\u001b[39;00mcondition\u001b[38;5;132;01m}\u001b[39;00m\u001b[38;5;124m\"\u001b[39m\n\u001b[0;32m--> 209\u001b[0m     \u001b[38;5;28;01mraise\u001b[39;00m FilterError(msg)\n\u001b[1;32m    210\u001b[0m \u001b[38;5;28;01mif\u001b[39;00m \u001b[38;5;124m\"\u001b[39m\u001b[38;5;124mvalue\u001b[39m\u001b[38;5;124m\"\u001b[39m \u001b[38;5;129;01mnot\u001b[39;00m \u001b[38;5;129;01min\u001b[39;00m condition:\n\u001b[1;32m    211\u001b[0m     msg \u001b[38;5;241m=\u001b[39m \u001b[38;5;124mf\u001b[39m\u001b[38;5;124m\"\u001b[39m\u001b[38;5;124m'\u001b[39m\u001b[38;5;124mvalue\u001b[39m\u001b[38;5;124m'\u001b[39m\u001b[38;5;124m key missing in \u001b[39m\u001b[38;5;132;01m{\u001b[39;00mcondition\u001b[38;5;132;01m}\u001b[39;00m\u001b[38;5;124m\"\u001b[39m\n",
      "\u001b[0;31mFilterError\u001b[0m: 'operator' key missing in {'field': 'item_id', 'value': ['B0074BW614']}"
     ]
    }
   ],
   "source": [
    "ret_doc=retriever.run(\n",
    "    query=query,top_k=3,filters=filters\n",
    ")"
   ]
  },
  {
   "cell_type": "code",
   "execution_count": 29,
   "id": "3822c14b-dafc-48d9-b6bf-f6729e5e3dd2",
   "metadata": {},
   "outputs": [],
   "source": [
    "import haystack\n",
    "print(haystack.__version__)"
   ]
  },
  {
   "cell_type": "code",
   "execution_count": null,
   "id": "003cda94-0c56-45bb-bd05-a29b9e7d95a3",
   "metadata": {},
   "outputs": [],
   "source": []
  }
 ],
 "metadata": {
  "kernelspec": {
   "display_name": "Python 3 (ipykernel)",
   "language": "python",
   "name": "python3"
  },
  "language_info": {
   "codemirror_mode": {
    "name": "ipython",
    "version": 3
   },
   "file_extension": ".py",
   "mimetype": "text/x-python",
   "name": "python",
   "nbconvert_exporter": "python",
   "pygments_lexer": "ipython3",
   "version": "3.10.14"
  }
 },
 "nbformat": 4,
 "nbformat_minor": 5
}
