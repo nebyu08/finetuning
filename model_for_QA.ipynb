{
 "cells": [
  {
   "cell_type": "code",
   "execution_count": 1,
   "id": "1e4d08db-c551-4cf0-a8c7-a30eb99de9ca",
   "metadata": {},
   "outputs": [
    {
     "name": "stderr",
     "output_type": "stream",
     "text": [
      "/home/nebiyu/miniconda3/envs/tunning/lib/python3.10/site-packages/tqdm/auto.py:21: TqdmWarning: IProgress not found. Please update jupyter and ipywidgets. See https://ipywidgets.readthedocs.io/en/stable/user_install.html\n",
      "  from .autonotebook import tqdm as notebook_tqdm\n"
     ]
    }
   ],
   "source": [
    "from matplotlib import pyplot as plt\n",
    "from datasets import get_dataset_config_names\n",
    "from datasets import load_dataset\n",
    "import pandas as pd"
   ]
  },
  {
   "cell_type": "code",
   "execution_count": 2,
   "id": "18cbb2df-14ed-41c4-a837-d1526b5d3614",
   "metadata": {},
   "outputs": [
    {
     "data": {
      "text/plain": [
       "['books', 'electronics', 'grocery', 'movies', 'restaurants', 'tripadvisor']"
      ]
     },
     "execution_count": 2,
     "metadata": {},
     "output_type": "execute_result"
    }
   ],
   "source": [
    "domains=get_dataset_config_names(\"subjqa\")\n",
    "domains"
   ]
  },
  {
   "cell_type": "code",
   "execution_count": 3,
   "id": "78f2e246-c837-428a-8721-f9efb1966952",
   "metadata": {},
   "outputs": [],
   "source": [
    "subjqa=load_dataset(\"subjqa\",name=\"electronics\")"
   ]
  },
  {
   "cell_type": "code",
   "execution_count": 4,
   "id": "63639356-94b3-43f8-97f4-21b1705038f9",
   "metadata": {},
   "outputs": [
    {
     "data": {
      "text/plain": [
       "DatasetDict({\n",
       "    train: Dataset({\n",
       "        features: ['domain', 'nn_mod', 'nn_asp', 'query_mod', 'query_asp', 'q_reviews_id', 'question_subj_level', 'ques_subj_score', 'is_ques_subjective', 'review_id', 'id', 'title', 'context', 'question', 'answers'],\n",
       "        num_rows: 1295\n",
       "    })\n",
       "    test: Dataset({\n",
       "        features: ['domain', 'nn_mod', 'nn_asp', 'query_mod', 'query_asp', 'q_reviews_id', 'question_subj_level', 'ques_subj_score', 'is_ques_subjective', 'review_id', 'id', 'title', 'context', 'question', 'answers'],\n",
       "        num_rows: 358\n",
       "    })\n",
       "    validation: Dataset({\n",
       "        features: ['domain', 'nn_mod', 'nn_asp', 'query_mod', 'query_asp', 'q_reviews_id', 'question_subj_level', 'ques_subj_score', 'is_ques_subjective', 'review_id', 'id', 'title', 'context', 'question', 'answers'],\n",
       "        num_rows: 255\n",
       "    })\n",
       "})"
      ]
     },
     "execution_count": 4,
     "metadata": {},
     "output_type": "execute_result"
    }
   ],
   "source": [
    "subjqa"
   ]
  },
  {
   "cell_type": "code",
   "execution_count": 5,
   "id": "f3725c92-0385-4030-8a09-bb6807098998",
   "metadata": {},
   "outputs": [
    {
     "name": "stdout",
     "output_type": "stream",
     "text": [
      "dict_keys(['domain', 'nn_mod', 'nn_asp', 'query_mod', 'query_asp', 'q_reviews_id', 'question_subj_level', 'ques_subj_score', 'is_ques_subjective', 'review_id', 'id', 'title', 'context', 'question', 'answers'])\n"
     ]
    }
   ],
   "source": [
    "print(subjqa[\"train\"][1].keys())"
   ]
  },
  {
   "cell_type": "code",
   "execution_count": 6,
   "id": "56d6acba-5fad-4245-98c1-c2bee3846904",
   "metadata": {},
   "outputs": [
    {
     "name": "stdout",
     "output_type": "stream",
     "text": [
      "Is this music song have a goo bass?\n"
     ]
    }
   ],
   "source": [
    "print(subjqa[\"train\"][1][\"question\"])"
   ]
  },
  {
   "cell_type": "code",
   "execution_count": 7,
   "id": "cb7d44ad-8fdb-4d05-adac-5eed01c6be64",
   "metadata": {},
   "outputs": [
    {
     "name": "stdout",
     "output_type": "stream",
     "text": [
      "{'text': ['Bass is weak as expected', 'Bass is weak as expected, even with EQ adjusted up'], 'answer_start': [1302, 1302], 'answer_subj_level': [1, 1], 'ans_subj_score': [0.5083333253860474, 0.5083333253860474], 'is_ans_subjective': [True, True]}\n"
     ]
    }
   ],
   "source": [
    "print(subjqa[\"train\"][1][\"answers\"])"
   ]
  },
  {
   "cell_type": "code",
   "execution_count": 8,
   "id": "0756f445-71a8-4bca-8e41-376b962f343f",
   "metadata": {},
   "outputs": [
    {
     "name": "stdout",
     "output_type": "stream",
     "text": [
      "dict_keys(['text', 'answer_start', 'answer_subj_level', 'ans_subj_score', 'is_ans_subjective'])\n"
     ]
    }
   ],
   "source": [
    "print(subjqa[\"train\"][\"answers\"][1].keys())"
   ]
  },
  {
   "cell_type": "markdown",
   "id": "194dabbf-f165-4265-845d-32a0ddf7c28e",
   "metadata": {},
   "source": [
    "# turn the data into dataframe"
   ]
  },
  {
   "cell_type": "code",
   "execution_count": 9,
   "id": "362cd57a-ac1d-4dc2-ae27-5f27d063e2d6",
   "metadata": {},
   "outputs": [],
   "source": [
    "dfs={label:data.to_pandas() for label,data in subjqa.flatten().items()}"
   ]
  },
  {
   "cell_type": "code",
   "execution_count": 10,
   "id": "b009e5ac-9bc2-4d72-b726-44209e5c89ab",
   "metadata": {},
   "outputs": [
    {
     "data": {
      "text/plain": [
       "1908"
      ]
     },
     "execution_count": 10,
     "metadata": {},
     "output_type": "execute_result"
    }
   ],
   "source": [
    "1295+358+255"
   ]
  },
  {
   "cell_type": "code",
   "execution_count": 11,
   "id": "4d198594-5a8f-4e63-acaf-8465f978cbbe",
   "metadata": {},
   "outputs": [
    {
     "data": {
      "text/plain": [
       "dict"
      ]
     },
     "execution_count": 11,
     "metadata": {},
     "output_type": "execute_result"
    }
   ],
   "source": [
    "type(dfs)"
   ]
  },
  {
   "cell_type": "code",
   "execution_count": 12,
   "id": "5c32a42a-cde2-48b1-9dda-8eab04da6d4b",
   "metadata": {},
   "outputs": [
    {
     "name": "stdout",
     "output_type": "stream",
     "text": [
      "train has 1295 number of elements\n",
      "test has 358 number of elements\n",
      "validation has 255 number of elements\n"
     ]
    }
   ],
   "source": [
    "for split,df in dfs.items():\n",
    "    print(f\"{split} has {len(df)} number of elements\")"
   ]
  },
  {
   "cell_type": "code",
   "execution_count": 13,
   "id": "c42282e2-40e6-447d-b3c5-73150d138ae9",
   "metadata": {},
   "outputs": [],
   "source": [
    "qa_columns=[\"title\",\"question\",\"answers.text\",\"answers.answer_start\",\"context\"]\n",
    "\n",
    "sample=dfs[\"train\"][qa_columns].sample(2,random_state=7)"
   ]
  },
  {
   "cell_type": "code",
   "execution_count": 14,
   "id": "83e6410c-6c3e-4164-9fac-a299ef523eea",
   "metadata": {},
   "outputs": [
    {
     "data": {
      "text/html": [
       "<div>\n",
       "<style scoped>\n",
       "    .dataframe tbody tr th:only-of-type {\n",
       "        vertical-align: middle;\n",
       "    }\n",
       "\n",
       "    .dataframe tbody tr th {\n",
       "        vertical-align: top;\n",
       "    }\n",
       "\n",
       "    .dataframe thead th {\n",
       "        text-align: right;\n",
       "    }\n",
       "</style>\n",
       "<table border=\"1\" class=\"dataframe\">\n",
       "  <thead>\n",
       "    <tr style=\"text-align: right;\">\n",
       "      <th></th>\n",
       "      <th>title</th>\n",
       "      <th>question</th>\n",
       "      <th>answers.text</th>\n",
       "      <th>answers.answer_start</th>\n",
       "      <th>context</th>\n",
       "    </tr>\n",
       "  </thead>\n",
       "  <tbody>\n",
       "    <tr>\n",
       "      <th>791</th>\n",
       "      <td>B005DKZTMG</td>\n",
       "      <td>Does the keyboard lightweight?</td>\n",
       "      <td>[this keyboard is compact]</td>\n",
       "      <td>[215]</td>\n",
       "      <td>I really like this keyboard.  I give it 4 star...</td>\n",
       "    </tr>\n",
       "    <tr>\n",
       "      <th>1159</th>\n",
       "      <td>B00AAIPT76</td>\n",
       "      <td>How is the battery?</td>\n",
       "      <td>[]</td>\n",
       "      <td>[]</td>\n",
       "      <td>I bought this after the first spare gopro batt...</td>\n",
       "    </tr>\n",
       "  </tbody>\n",
       "</table>\n",
       "</div>"
      ],
      "text/plain": [
       "           title                        question                answers.text  \\\n",
       "791   B005DKZTMG  Does the keyboard lightweight?  [this keyboard is compact]   \n",
       "1159  B00AAIPT76             How is the battery?                          []   \n",
       "\n",
       "     answers.answer_start                                            context  \n",
       "791                 [215]  I really like this keyboard.  I give it 4 star...  \n",
       "1159                   []  I bought this after the first spare gopro batt...  "
      ]
     },
     "execution_count": 14,
     "metadata": {},
     "output_type": "execute_result"
    }
   ],
   "source": [
    "sample"
   ]
  },
  {
   "cell_type": "code",
   "execution_count": 15,
   "id": "6a43affd-f95f-4a23-ae34-ebf7622d507d",
   "metadata": {},
   "outputs": [],
   "source": [
    "#lets extracte the text \n",
    "start_index=sample[\"answers.answer_start\"].iloc[0][0]\n",
    "end_index=start_index+len(sample[\"answers.text\"].iloc[0][0])"
   ]
  },
  {
   "cell_type": "code",
   "execution_count": 16,
   "id": "75985be9-3e0c-4518-b967-ad2bb1ecf2e8",
   "metadata": {},
   "outputs": [
    {
     "data": {
      "text/plain": [
       "'this keyboard is compact'"
      ]
     },
     "execution_count": 16,
     "metadata": {},
     "output_type": "execute_result"
    }
   ],
   "source": [
    "sample[\"context\"].iloc[0][start_index:end_index]"
   ]
  },
  {
   "cell_type": "code",
   "execution_count": 17,
   "id": "88d2664e-3beb-4ab6-be75-89671b26ea6d",
   "metadata": {},
   "outputs": [
    {
     "data": {
      "text/plain": [
       "(239, 215)"
      ]
     },
     "execution_count": 17,
     "metadata": {},
     "output_type": "execute_result"
    }
   ],
   "source": [
    "end_index,start_index"
   ]
  },
  {
   "cell_type": "code",
   "execution_count": 18,
   "id": "91b12398-72f7-4365-a0b6-b7c7708c03be",
   "metadata": {},
   "outputs": [
    {
     "data": {
      "text/plain": [
       "\"I really like this keyboard.  I give it 4 stars because it doesn't have a CAPS LOCK key so I never know if my caps are on.  But for the price, it really suffices as a wireless keyboard.  I have very large hands and this keyboard is compact, but I have no complaints.\""
      ]
     },
     "execution_count": 18,
     "metadata": {},
     "output_type": "execute_result"
    }
   ],
   "source": [
    "sample['context'].iloc[0]"
   ]
  },
  {
   "cell_type": "code",
   "execution_count": 19,
   "id": "4af868cb-2792-47e7-825e-ddd16d2bfdbe",
   "metadata": {},
   "outputs": [
    {
     "data": {
      "text/html": [
       "<div>\n",
       "<style scoped>\n",
       "    .dataframe tbody tr th:only-of-type {\n",
       "        vertical-align: middle;\n",
       "    }\n",
       "\n",
       "    .dataframe tbody tr th {\n",
       "        vertical-align: top;\n",
       "    }\n",
       "\n",
       "    .dataframe thead th {\n",
       "        text-align: right;\n",
       "    }\n",
       "</style>\n",
       "<table border=\"1\" class=\"dataframe\">\n",
       "  <thead>\n",
       "    <tr style=\"text-align: right;\">\n",
       "      <th></th>\n",
       "      <th>domain</th>\n",
       "      <th>nn_mod</th>\n",
       "      <th>nn_asp</th>\n",
       "      <th>query_mod</th>\n",
       "      <th>query_asp</th>\n",
       "      <th>q_reviews_id</th>\n",
       "      <th>question_subj_level</th>\n",
       "      <th>ques_subj_score</th>\n",
       "      <th>is_ques_subjective</th>\n",
       "      <th>review_id</th>\n",
       "      <th>id</th>\n",
       "      <th>title</th>\n",
       "      <th>context</th>\n",
       "      <th>question</th>\n",
       "      <th>answers.text</th>\n",
       "      <th>answers.answer_start</th>\n",
       "      <th>answers.answer_subj_level</th>\n",
       "      <th>answers.ans_subj_score</th>\n",
       "      <th>answers.is_ans_subjective</th>\n",
       "    </tr>\n",
       "  </thead>\n",
       "  <tbody>\n",
       "    <tr>\n",
       "      <th>0</th>\n",
       "      <td>electronics</td>\n",
       "      <td>great</td>\n",
       "      <td>bass response</td>\n",
       "      <td>excellent</td>\n",
       "      <td>bass</td>\n",
       "      <td>0514ee34b672623dff659334a25b599b</td>\n",
       "      <td>5</td>\n",
       "      <td>0.50</td>\n",
       "      <td>False</td>\n",
       "      <td>882b1e2745a4779c8f17b3d4406b91c7</td>\n",
       "      <td>2543d296da9766d8d17d040ecc781699</td>\n",
       "      <td>B00001P4ZH</td>\n",
       "      <td>I have had Koss headphones in the past, Pro 4A...</td>\n",
       "      <td>How is the bass?</td>\n",
       "      <td>[]</td>\n",
       "      <td>[]</td>\n",
       "      <td>[]</td>\n",
       "      <td>[]</td>\n",
       "      <td>[]</td>\n",
       "    </tr>\n",
       "    <tr>\n",
       "      <th>1</th>\n",
       "      <td>electronics</td>\n",
       "      <td>harsh</td>\n",
       "      <td>high</td>\n",
       "      <td>not strong</td>\n",
       "      <td>bass</td>\n",
       "      <td>7c46670208f7bf5497480fbdbb44561a</td>\n",
       "      <td>1</td>\n",
       "      <td>0.50</td>\n",
       "      <td>False</td>\n",
       "      <td>ce76793f036494eabe07b33a9a67288a</td>\n",
       "      <td>d476830bf9282e2b9033e2bb44bbb995</td>\n",
       "      <td>B00001P4ZH</td>\n",
       "      <td>To anyone who hasn't tried all the various typ...</td>\n",
       "      <td>Is this music song have a goo bass?</td>\n",
       "      <td>[Bass is weak as expected, Bass is weak as exp...</td>\n",
       "      <td>[1302, 1302]</td>\n",
       "      <td>[1, 1]</td>\n",
       "      <td>[0.5083333, 0.5083333]</td>\n",
       "      <td>[True, True]</td>\n",
       "    </tr>\n",
       "    <tr>\n",
       "      <th>2</th>\n",
       "      <td>electronics</td>\n",
       "      <td>neutral</td>\n",
       "      <td>sound</td>\n",
       "      <td>present</td>\n",
       "      <td>bass</td>\n",
       "      <td>8fbf26792c438aa83178c2d507af5d77</td>\n",
       "      <td>1</td>\n",
       "      <td>0.50</td>\n",
       "      <td>False</td>\n",
       "      <td>d040f2713caa2aff0ce95affb40e12c2</td>\n",
       "      <td>455575557886d6dfeea5aa19577e5de4</td>\n",
       "      <td>B00001P4ZH</td>\n",
       "      <td>I have had many sub-$100 headphones from $5 Pa...</td>\n",
       "      <td>How is the bass?</td>\n",
       "      <td>[The only fault in the sound is the bass]</td>\n",
       "      <td>[650]</td>\n",
       "      <td>[2]</td>\n",
       "      <td>[0.6333333]</td>\n",
       "      <td>[True]</td>\n",
       "    </tr>\n",
       "    <tr>\n",
       "      <th>3</th>\n",
       "      <td>electronics</td>\n",
       "      <td>muddy</td>\n",
       "      <td>bass</td>\n",
       "      <td>awesome</td>\n",
       "      <td>bass</td>\n",
       "      <td>9876fd06ed8f075fcad70d1e30e7e8be</td>\n",
       "      <td>1</td>\n",
       "      <td>0.50</td>\n",
       "      <td>False</td>\n",
       "      <td>043e7162df91f6ea916c790c8a6f6b22</td>\n",
       "      <td>6895a59b470d8feee0f39da6c53a92e5</td>\n",
       "      <td>B00001WRSJ</td>\n",
       "      <td>My sister's Bose headphones finally died and s...</td>\n",
       "      <td>How is the audio bass?</td>\n",
       "      <td>[the best of all of them]</td>\n",
       "      <td>[1609]</td>\n",
       "      <td>[1]</td>\n",
       "      <td>[0.3]</td>\n",
       "      <td>[False]</td>\n",
       "    </tr>\n",
       "    <tr>\n",
       "      <th>4</th>\n",
       "      <td>electronics</td>\n",
       "      <td>perfect</td>\n",
       "      <td>bass</td>\n",
       "      <td>incredible</td>\n",
       "      <td>sound</td>\n",
       "      <td>16506b53e2d4c2b6a65881d9462256c2</td>\n",
       "      <td>1</td>\n",
       "      <td>0.65</td>\n",
       "      <td>True</td>\n",
       "      <td>29ccd7e690050e2951be49289e915382</td>\n",
       "      <td>7a2173c502da97c5bd5950eae7cd7430</td>\n",
       "      <td>B00001WRSJ</td>\n",
       "      <td>Wow. Just wow. I'm a 22 yr old with a crazy ob...</td>\n",
       "      <td>Why do I have an incredible sound?</td>\n",
       "      <td>[The sound is so crisp, crazy obsession with s...</td>\n",
       "      <td>[141, 38]</td>\n",
       "      <td>[1, 1]</td>\n",
       "      <td>[0.40833333, 0.40833333]</td>\n",
       "      <td>[False, False]</td>\n",
       "    </tr>\n",
       "  </tbody>\n",
       "</table>\n",
       "</div>"
      ],
      "text/plain": [
       "        domain   nn_mod         nn_asp   query_mod query_asp  \\\n",
       "0  electronics    great  bass response   excellent      bass   \n",
       "1  electronics    harsh           high  not strong      bass   \n",
       "2  electronics  neutral          sound     present      bass   \n",
       "3  electronics    muddy           bass     awesome      bass   \n",
       "4  electronics  perfect           bass  incredible     sound   \n",
       "\n",
       "                       q_reviews_id  question_subj_level  ques_subj_score  \\\n",
       "0  0514ee34b672623dff659334a25b599b                    5             0.50   \n",
       "1  7c46670208f7bf5497480fbdbb44561a                    1             0.50   \n",
       "2  8fbf26792c438aa83178c2d507af5d77                    1             0.50   \n",
       "3  9876fd06ed8f075fcad70d1e30e7e8be                    1             0.50   \n",
       "4  16506b53e2d4c2b6a65881d9462256c2                    1             0.65   \n",
       "\n",
       "   is_ques_subjective                         review_id  \\\n",
       "0               False  882b1e2745a4779c8f17b3d4406b91c7   \n",
       "1               False  ce76793f036494eabe07b33a9a67288a   \n",
       "2               False  d040f2713caa2aff0ce95affb40e12c2   \n",
       "3               False  043e7162df91f6ea916c790c8a6f6b22   \n",
       "4                True  29ccd7e690050e2951be49289e915382   \n",
       "\n",
       "                                 id       title  \\\n",
       "0  2543d296da9766d8d17d040ecc781699  B00001P4ZH   \n",
       "1  d476830bf9282e2b9033e2bb44bbb995  B00001P4ZH   \n",
       "2  455575557886d6dfeea5aa19577e5de4  B00001P4ZH   \n",
       "3  6895a59b470d8feee0f39da6c53a92e5  B00001WRSJ   \n",
       "4  7a2173c502da97c5bd5950eae7cd7430  B00001WRSJ   \n",
       "\n",
       "                                             context  \\\n",
       "0  I have had Koss headphones in the past, Pro 4A...   \n",
       "1  To anyone who hasn't tried all the various typ...   \n",
       "2  I have had many sub-$100 headphones from $5 Pa...   \n",
       "3  My sister's Bose headphones finally died and s...   \n",
       "4  Wow. Just wow. I'm a 22 yr old with a crazy ob...   \n",
       "\n",
       "                              question  \\\n",
       "0                     How is the bass?   \n",
       "1  Is this music song have a goo bass?   \n",
       "2                     How is the bass?   \n",
       "3               How is the audio bass?   \n",
       "4   Why do I have an incredible sound?   \n",
       "\n",
       "                                        answers.text answers.answer_start  \\\n",
       "0                                                 []                   []   \n",
       "1  [Bass is weak as expected, Bass is weak as exp...         [1302, 1302]   \n",
       "2          [The only fault in the sound is the bass]                [650]   \n",
       "3                          [the best of all of them]               [1609]   \n",
       "4  [The sound is so crisp, crazy obsession with s...            [141, 38]   \n",
       "\n",
       "  answers.answer_subj_level    answers.ans_subj_score  \\\n",
       "0                        []                        []   \n",
       "1                    [1, 1]    [0.5083333, 0.5083333]   \n",
       "2                       [2]               [0.6333333]   \n",
       "3                       [1]                     [0.3]   \n",
       "4                    [1, 1]  [0.40833333, 0.40833333]   \n",
       "\n",
       "  answers.is_ans_subjective  \n",
       "0                        []  \n",
       "1              [True, True]  \n",
       "2                    [True]  \n",
       "3                   [False]  \n",
       "4            [False, False]  "
      ]
     },
     "execution_count": 19,
     "metadata": {},
     "output_type": "execute_result"
    }
   ],
   "source": [
    "dfs[\"train\"].head()"
   ]
  },
  {
   "cell_type": "markdown",
   "id": "a23510fa-c53e-42ad-8dce-b6dc77b85503",
   "metadata": {},
   "source": [
    "# count question that start with certain phrases"
   ]
  },
  {
   "cell_type": "code",
   "execution_count": 20,
   "id": "b3849d8b-02e2-4255-a9bb-ae0622db9c8c",
   "metadata": {},
   "outputs": [],
   "source": [
    "counts = {}\n",
    "question_types = [\"What\", \"How\", \"Is\", \"Does\", \"Do\", \"Was\", \"Where\", \"Why\"]"
   ]
  },
  {
   "cell_type": "code",
   "execution_count": 21,
   "id": "9fcc99e5-c813-4ec8-b6f9-d9245a119ab7",
   "metadata": {},
   "outputs": [],
   "source": [
    "for q in question_types:\n",
    "    counts[q]=dfs[\"train\"][\"question\"].str.startswith(q).value_counts()[True]"
   ]
  },
  {
   "cell_type": "markdown",
   "id": "f1dde557-3a74-44b1-9fa1-78d3c3b664cd",
   "metadata": {},
   "source": [
    "## ploting "
   ]
  },
  {
   "cell_type": "code",
   "execution_count": 22,
   "id": "b7b320e7-4b94-44ad-8125-c9bd14d5f5e3",
   "metadata": {},
   "outputs": [
    {
     "data": {
      "image/png": "[encoded data removed]",
      "text/plain": [
       "<Figure size 640x480 with 1 Axes>"
      ]
     },
     "metadata": {},
     "output_type": "display_data"
    }
   ],
   "source": [
    "pd.Series(counts).sort_values().plot.barh()\n",
    "plt.title(\"frequency of question\")\n",
    "plt.show()"
   ]
  },
  {
   "cell_type": "code",
   "execution_count": 23,
   "id": "7e3bee80-9970-4007-91b3-7c37f588139c",
   "metadata": {},
   "outputs": [
    {
     "name": "stdout",
     "output_type": "stream",
     "text": [
      "How is the camera?\n",
      "How do you like the control?\n",
      "How fast is the charger?\n",
      "What is direction?\n",
      "What is the quality of the construction of the bag?\n",
      "What is your impression of the product?\n",
      "Is this how zoom works?\n",
      "Is sound clear?\n",
      "Is it a wireless keyboard?\n"
     ]
    }
   ],
   "source": [
    "few_question=[\"How\",\"What\",\"Is\"]\n",
    "\n",
    "for questions in few_question:\n",
    "    for question in (dfs[\"train\"][dfs[\"train\"].question.str.startswith(questions)].sample(n=3,random_state=42)['question']):\n",
    "        print(question)"
   ]
  },
  {
   "cell_type": "markdown",
   "id": "112e9f1f-abe7-4788-828d-a8dfcce2f783",
   "metadata": {},
   "source": [
    "# lets load the model"
   ]
  },
  {
   "cell_type": "code",
   "execution_count": 24,
   "id": "5792e777-79f3-41e7-a7c3-c2fbaa35aee3",
   "metadata": {},
   "outputs": [],
   "source": [
    "from transformers import AutoTokenizer"
   ]
  },
  {
   "cell_type": "code",
   "execution_count": 25,
   "id": "56ea3006-e02f-4683-b4e8-6e6aae3f1194",
   "metadata": {},
   "outputs": [
    {
     "name": "stderr",
     "output_type": "stream",
     "text": [
      "/home/nebiyu/miniconda3/envs/tunning/lib/python3.10/site-packages/huggingface_hub/file_download.py:1142: FutureWarning: `resume_download` is deprecated and will be removed in version 1.0.0. Downloads always resume when possible. If you want to force a new download, use `force_download=True`.\n",
      "  warnings.warn(\n"
     ]
    }
   ],
   "source": [
    "model_name=\"deepset/minilm-uncased-squad2\"\n",
    "tokenizer=AutoTokenizer.from_pretrained(model_name)"
   ]
  },
  {
   "cell_type": "code",
   "execution_count": 26,
   "id": "4b5514ef-8c5f-4919-93a2-d6be01fc3d94",
   "metadata": {},
   "outputs": [],
   "source": [
    "import torch"
   ]
  },
  {
   "cell_type": "code",
   "execution_count": 27,
   "id": "5deaf7a8-a84b-4697-acbe-cabbc4010d66",
   "metadata": {},
   "outputs": [],
   "source": [
    "question = \"How much music can this hold?\"\n",
    "context = \"\"\"An MP3 is about 1 MB/minute, so about 6000 hours depending on \\\n",
    "file size.\"\"\"\n",
    "\n",
    "inputs=tokenizer(question,context,return_tensors=\"pt\")"
   ]
  },
  {
   "cell_type": "code",
   "execution_count": 28,
   "id": "b9bf0933-ab72-4f38-870e-b34189f5a15d",
   "metadata": {},
   "outputs": [
    {
     "data": {
      "text/plain": [
       "{'input_ids': tensor([[  101,  2129,  2172,  2189,  2064,  2023,  2907,  1029,   102,  2019,\n",
       "         23378,  2003,  2055,  1015, 16914,  1013,  3371,  1010,  2061,  2055,\n",
       "         25961,  2847,  5834,  2006,  5371,  2946,  1012,   102]]), 'token_type_ids': tensor([[0, 0, 0, 0, 0, 0, 0, 0, 0, 1, 1, 1, 1, 1, 1, 1, 1, 1, 1, 1, 1, 1, 1, 1,\n",
       "         1, 1, 1, 1]]), 'attention_mask': tensor([[1, 1, 1, 1, 1, 1, 1, 1, 1, 1, 1, 1, 1, 1, 1, 1, 1, 1, 1, 1, 1, 1, 1, 1,\n",
       "         1, 1, 1, 1]])}"
      ]
     },
     "execution_count": 28,
     "metadata": {},
     "output_type": "execute_result"
    }
   ],
   "source": [
    "inputs"
   ]
  },
  {
   "cell_type": "code",
   "execution_count": 29,
   "id": "1d0157ca-1b1f-4a2c-ac3f-ae3f23879bf5",
   "metadata": {},
   "outputs": [
    {
     "data": {
      "text/plain": [
       "'[CLS] how much music can this hold? [SEP] an mp3 is about 1 mb / minute, so about 6000 hours depending on file size. [SEP]'"
      ]
     },
     "execution_count": 29,
     "metadata": {},
     "output_type": "execute_result"
    }
   ],
   "source": [
    "tokenizer.decode(inputs[\"input_ids\"][0])"
   ]
  },
  {
   "cell_type": "code",
   "execution_count": 30,
   "id": "12bb8aff-8ede-4f53-993c-95e3164f8be3",
   "metadata": {},
   "outputs": [
    {
     "data": {
      "text/plain": [
       "'[CLS] how much music can this hold? [SEP] an mp3 is about 1 mb / minute, so about 6000 hours depending on file size. [SEP]'"
      ]
     },
     "execution_count": 30,
     "metadata": {},
     "output_type": "execute_result"
    }
   ],
   "source": [
    "tokenizer.decode(inputs[\"input_ids\"][0])"
   ]
  },
  {
   "cell_type": "markdown",
   "id": "93707454-97eb-4fad-ba23-e807a316c3a0",
   "metadata": {},
   "source": [
    "# pass input to the model"
   ]
  },
  {
   "cell_type": "code",
   "execution_count": 31,
   "id": "46171247-acad-43ff-bc42-bf250a125b10",
   "metadata": {},
   "outputs": [],
   "source": [
    "import torch\n",
    "from transformers import AutoModelForQuestionAnswering"
   ]
  },
  {
   "cell_type": "code",
   "execution_count": 32,
   "id": "a042108b-8ec5-4976-966d-209af447348f",
   "metadata": {},
   "outputs": [
    {
     "name": "stderr",
     "output_type": "stream",
     "text": [
      "Some weights of the model checkpoint at deepset/minilm-uncased-squad2 were not used when initializing BertForQuestionAnswering: ['bert.pooler.dense.bias', 'bert.pooler.dense.weight']\n",
      "- This IS expected if you are initializing BertForQuestionAnswering from the checkpoint of a model trained on another task or with another architecture (e.g. initializing a BertForSequenceClassification model from a BertForPreTraining model).\n",
      "- This IS NOT expected if you are initializing BertForQuestionAnswering from the checkpoint of a model that you expect to be exactly identical (initializing a BertForSequenceClassification model from a BertForSequenceClassification model).\n"
     ]
    }
   ],
   "source": [
    "model=AutoModelForQuestionAnswering.from_pretrained(model_name)"
   ]
  },
  {
   "cell_type": "code",
   "execution_count": 33,
   "id": "8dc492ce-04c5-48e1-b88f-715c677ec1a9",
   "metadata": {},
   "outputs": [
    {
     "name": "stdout",
     "output_type": "stream",
     "text": [
      "QuestionAnsweringModelOutput(loss=None, start_logits=tensor([[-0.9862, -4.7750, -5.4025, -5.2378, -5.2863, -5.5117, -4.9819, -6.1880,\n",
      "         -0.9862,  0.2596, -0.2144, -1.7136,  3.7806,  4.8561, -1.0546, -3.9097,\n",
      "         -1.7374, -4.5944, -1.4278,  3.9949,  5.0391, -0.2018, -3.0193, -4.8549,\n",
      "         -2.3107, -3.5110, -3.5713, -0.9862]]), end_logits=tensor([[-0.9623, -5.4733, -5.0326, -5.1639, -5.4278, -5.5151, -5.1749, -4.6233,\n",
      "         -0.9623, -3.7855, -0.8715, -3.7745, -3.0162, -1.1780,  0.1758, -2.7365,\n",
      "          4.8934,  0.3046, -3.1761, -3.2762,  0.8937,  5.6606, -0.3623, -4.9554,\n",
      "         -3.2531, -0.0914,  1.6211, -0.9623]]), hidden_states=None, attentions=None)\n"
     ]
    }
   ],
   "source": [
    "##pass the inputs\n",
    "with torch.no_grad():\n",
    "    outputs=model(**inputs)\n",
    "\n",
    "print(outputs)"
   ]
  },
  {
   "cell_type": "code",
   "execution_count": 34,
   "id": "f527617d-5c23-45cc-84aa-62e1271f1963",
   "metadata": {},
   "outputs": [],
   "source": [
    "#we get the start and end token\n",
    "start_logits=outputs.start_logits\n",
    "end_logits=outputs.end_logits"
   ]
  },
  {
   "cell_type": "code",
   "execution_count": 35,
   "id": "b140c13f-6a86-4f8f-b432-92820ec7f64e",
   "metadata": {},
   "outputs": [
    {
     "name": "stdout",
     "output_type": "stream",
     "text": [
      "torch.Size([1, 28])\n",
      "torch.Size([1, 28])\n",
      "torch.Size([1, 28])\n"
     ]
    }
   ],
   "source": [
    "print(start_logits.shape)\n",
    "print(end_logits.shape)\n",
    "print(inputs['input_ids'].shape)"
   ]
  },
  {
   "cell_type": "code",
   "execution_count": 36,
   "id": "e7009523-8505-49d1-b60b-85253725c190",
   "metadata": {},
   "outputs": [
    {
     "name": "stdout",
     "output_type": "stream",
     "text": [
      "tensor([[-0.9862, -4.7750, -5.4025, -5.2378, -5.2863, -5.5117, -4.9819, -6.1880,\n",
      "         -0.9862,  0.2596, -0.2144, -1.7136,  3.7806,  4.8561, -1.0546, -3.9097,\n",
      "         -1.7374, -4.5944, -1.4278,  3.9949,  5.0391, -0.2018, -3.0193, -4.8549,\n",
      "         -2.3107, -3.5110, -3.5713, -0.9862]])\n",
      "\n",
      "tensor([[-0.9623, -5.4733, -5.0326, -5.1639, -5.4278, -5.5151, -5.1749, -4.6233,\n",
      "         -0.9623, -3.7855, -0.8715, -3.7745, -3.0162, -1.1780,  0.1758, -2.7365,\n",
      "          4.8934,  0.3046, -3.1761, -3.2762,  0.8937,  5.6606, -0.3623, -4.9554,\n",
      "         -3.2531, -0.0914,  1.6211, -0.9623]])\n"
     ]
    }
   ],
   "source": [
    "print(start_logits)\n",
    "print()\n",
    "print(end_logits)"
   ]
  },
  {
   "cell_type": "markdown",
   "id": "12ef87aa-5ce4-466d-9885-08c6d2827d97",
   "metadata": {},
   "source": [
    "## extract answer"
   ]
  },
  {
   "cell_type": "code",
   "execution_count": 37,
   "id": "60e8fd5c-7165-4076-be51-2b01b820925f",
   "metadata": {},
   "outputs": [
    {
     "name": "stdout",
     "output_type": "stream",
     "text": [
      "question is How much music can this hold?\n",
      "answer is 6000 hours\n"
     ]
    }
   ],
   "source": [
    "start_idx=torch.argmax(start_logits)\n",
    "end_idx=torch.argmax(end_logits)+1\n",
    "answer_span=inputs['input_ids'][0][start_idx:end_idx]\n",
    "answer=tokenizer.decode(answer_span)\n",
    "\n",
    "print(f'question is {question}')\n",
    "print(f'answer is {answer}')"
   ]
  },
  {
   "cell_type": "markdown",
   "id": "e5ce0024-73c8-4f47-8196-ffa399887be3",
   "metadata": {},
   "source": [
    "# automate it with piepline"
   ]
  },
  {
   "cell_type": "code",
   "execution_count": 38,
   "id": "ac647ac1-8bfb-4280-a6ae-ad43df474f4a",
   "metadata": {},
   "outputs": [],
   "source": [
    "from transformers import pipeline"
   ]
  },
  {
   "cell_type": "code",
   "execution_count": 39,
   "id": "96d8edf2-cf96-4b29-bbb6-e94895abcb17",
   "metadata": {},
   "outputs": [],
   "source": [
    "pipe=pipeline(\"question-answering\",model=model,tokenizer=tokenizer)"
   ]
  },
  {
   "cell_type": "code",
   "execution_count": 40,
   "id": "09bb2ef0-62ba-4b6b-a883-5dd7c75134fd",
   "metadata": {},
   "outputs": [
    {
     "data": {
      "text/plain": [
       "[{'score': 0.2651619017124176, 'start': 38, 'end': 48, 'answer': '6000 hours'},\n",
       " {'score': 0.22082971036434174,\n",
       "  'start': 16,\n",
       "  'end': 48,\n",
       "  'answer': '1 MB/minute, so about 6000 hours'},\n",
       " {'score': 0.10253506153821945,\n",
       "  'start': 16,\n",
       "  'end': 27,\n",
       "  'answer': '1 MB/minute'}]"
      ]
     },
     "execution_count": 40,
     "metadata": {},
     "output_type": "execute_result"
    }
   ],
   "source": [
    "pipe(question=question,context=context,top_k=3)"
   ]
  },
  {
   "cell_type": "markdown",
   "id": "925cd7b9-7c7e-4937-893a-fafec443d2bb",
   "metadata": {},
   "source": [
    "# more context size than model can handlem"
   ]
  },
  {
   "cell_type": "code",
   "execution_count": 41,
   "id": "669ae165-d7bc-4f3e-85a1-e6249c82db88",
   "metadata": {},
   "outputs": [],
   "source": [
    "example=dfs['train'].iloc[0][['question','context']]"
   ]
  },
  {
   "cell_type": "code",
   "execution_count": 42,
   "id": "f1ab7c44-fbef-4215-8154-b20e10c6f3fa",
   "metadata": {},
   "outputs": [
    {
     "name": "stderr",
     "output_type": "stream",
     "text": [
      "Truncation was not explicitly activated but `max_length` is provided a specific value, please use `truncation=True` to explicitly truncate examples to max length. Defaulting to 'longest_first' truncation strategy. If you encode pairs of sequences (GLUE-style) with the tokenizer you can select this strategy more precisely by providing a specific strategy to `truncation`.\n"
     ]
    }
   ],
   "source": [
    "tokenized_example=tokenizer(example['question'],example['context'],\n",
    "                           return_overflowing_tokens=True,max_length=100,stride=25\n",
    "                           )"
   ]
  },
  {
   "cell_type": "code",
   "execution_count": 43,
   "id": "210bd30d-ca44-4942-9625-9c42f4c0b906",
   "metadata": {},
   "outputs": [
    {
     "data": {
      "text/plain": [
       "{'input_ids': [[101, 2129, 2003, 1996, 3321, 1029, 102, 1045, 2031, 2018, 12849, 4757, 2132, 19093, 1999, 1996, 2627, 1010, 4013, 26424, 2050, 1998, 1053, 2480, 1011, 5585, 1012, 1996, 12849, 4757, 3417, 9331, 3217, 2003, 12109, 1998, 2038, 2307, 3321, 3433, 1012, 1996, 2147, 2307, 2007, 2026, 11924, 3042, 1998, 2064, 2022, 1000, 4565, 2039, 1000, 2000, 2022, 3344, 1999, 2026, 9055, 6598, 2030, 3274, 4524, 2302, 2893, 24514, 2098, 1012, 2027, 2024, 2200, 2422, 1998, 2079, 2025, 2514, 3082, 2030, 4562, 2091, 2006, 2115, 5551, 2130, 2044, 5962, 2000, 2189, 2007, 2068, 2006, 2035, 2154, 1012, 1996, 2614, 2003, 102], [101, 2129, 2003, 1996, 3321, 1029, 102, 1998, 2079, 2025, 2514, 3082, 2030, 4562, 2091, 2006, 2115, 5551, 2130, 2044, 5962, 2000, 2189, 2007, 2068, 2006, 2035, 2154, 1012, 1996, 2614, 2003, 2305, 1998, 2154, 2488, 2084, 2151, 4540, 1011, 13007, 2071, 2022, 1998, 2024, 2471, 2004, 2204, 2004, 1996, 4013, 26424, 2050, 1012, 2027, 2024, 1000, 2330, 2250, 1000, 2132, 19093, 2061, 2017, 3685, 2674, 1996, 3321, 2000, 1996, 10203, 4127, 1010, 2021, 2009, 3310, 2485, 1012, 2005, 1002, 3590, 1010, 2017, 3685, 2175, 3308, 1012, 102]], 'token_type_ids': [[0, 0, 0, 0, 0, 0, 0, 1, 1, 1, 1, 1, 1, 1, 1, 1, 1, 1, 1, 1, 1, 1, 1, 1, 1, 1, 1, 1, 1, 1, 1, 1, 1, 1, 1, 1, 1, 1, 1, 1, 1, 1, 1, 1, 1, 1, 1, 1, 1, 1, 1, 1, 1, 1, 1, 1, 1, 1, 1, 1, 1, 1, 1, 1, 1, 1, 1, 1, 1, 1, 1, 1, 1, 1, 1, 1, 1, 1, 1, 1, 1, 1, 1, 1, 1, 1, 1, 1, 1, 1, 1, 1, 1, 1, 1, 1, 1, 1, 1, 1], [0, 0, 0, 0, 0, 0, 0, 1, 1, 1, 1, 1, 1, 1, 1, 1, 1, 1, 1, 1, 1, 1, 1, 1, 1, 1, 1, 1, 1, 1, 1, 1, 1, 1, 1, 1, 1, 1, 1, 1, 1, 1, 1, 1, 1, 1, 1, 1, 1, 1, 1, 1, 1, 1, 1, 1, 1, 1, 1, 1, 1, 1, 1, 1, 1, 1, 1, 1, 1, 1, 1, 1, 1, 1, 1, 1, 1, 1, 1, 1, 1, 1, 1, 1, 1, 1, 1, 1]], 'attention_mask': [[1, 1, 1, 1, 1, 1, 1, 1, 1, 1, 1, 1, 1, 1, 1, 1, 1, 1, 1, 1, 1, 1, 1, 1, 1, 1, 1, 1, 1, 1, 1, 1, 1, 1, 1, 1, 1, 1, 1, 1, 1, 1, 1, 1, 1, 1, 1, 1, 1, 1, 1, 1, 1, 1, 1, 1, 1, 1, 1, 1, 1, 1, 1, 1, 1, 1, 1, 1, 1, 1, 1, 1, 1, 1, 1, 1, 1, 1, 1, 1, 1, 1, 1, 1, 1, 1, 1, 1, 1, 1, 1, 1, 1, 1, 1, 1, 1, 1, 1, 1], [1, 1, 1, 1, 1, 1, 1, 1, 1, 1, 1, 1, 1, 1, 1, 1, 1, 1, 1, 1, 1, 1, 1, 1, 1, 1, 1, 1, 1, 1, 1, 1, 1, 1, 1, 1, 1, 1, 1, 1, 1, 1, 1, 1, 1, 1, 1, 1, 1, 1, 1, 1, 1, 1, 1, 1, 1, 1, 1, 1, 1, 1, 1, 1, 1, 1, 1, 1, 1, 1, 1, 1, 1, 1, 1, 1, 1, 1, 1, 1, 1, 1, 1, 1, 1, 1, 1, 1]], 'overflow_to_sample_mapping': [0, 0]}"
      ]
     },
     "execution_count": 43,
     "metadata": {},
     "output_type": "execute_result"
    }
   ],
   "source": [
    "tokenized_example"
   ]
  },
  {
   "cell_type": "code",
   "execution_count": 44,
   "id": "e861db24-a75d-4bf5-b04a-ac33651fa7de",
   "metadata": {},
   "outputs": [
    {
     "name": "stdout",
     "output_type": "stream",
     "text": [
      "0 has 100 number of tokens \n",
      "1 has 88 number of tokens \n"
     ]
    }
   ],
   "source": [
    "for idx,tokens in enumerate(tokenized_example['input_ids']):\n",
    "    print(f\"{idx} has {len(tokens)} number of tokens \")"
   ]
  },
  {
   "cell_type": "code",
   "execution_count": 45,
   "id": "468d2cb3-a8da-4a87-a93d-b3f51bee6e03",
   "metadata": {
    "jupyter": {
     "source_hidden": true
    }
   },
   "outputs": [
    {
     "name": "stdout",
     "output_type": "stream",
     "text": [
      "[CLS] how is the bass? [SEP] i have had koss headphones in the past, pro 4aa and qz - 99. the koss portapro is portable and has great bass response. the work great with my android phone and can be \" rolled up \" to be carried in my motorcycle jacket or computer bag without getting crunched. they are very light and do not feel heavy or bear down on your ears even after listening to music with them on all day. the sound is [SEP]\n",
      "[CLS] how is the bass? [SEP] and do not feel heavy or bear down on your ears even after listening to music with them on all day. the sound is night and day better than any ear - bud could be and are almost as good as the pro 4aa. they are \" open air \" headphones so you cannot match the bass to the sealed types, but it comes close. for $ 32, you cannot go wrong. [SEP]\n"
     ]
    }
   ],
   "source": [
    "for window in tokenized_example['input_ids']:\n",
    "    print(f\"{tokenizer.decode(window)}\")"
   ]
  },
  {
   "cell_type": "markdown",
   "id": "dd57f244-3d72-408d-9c8a-b0739d66499b",
   "metadata": {},
   "source": [
    "# lets install some stuff"
   ]
  },
  {
   "cell_type": "markdown",
   "id": "7b460a60-8f96-4721-ad5e-0cac473d330a",
   "metadata": {},
   "source": [
    "## create a sub process"
   ]
  },
  {
   "cell_type": "code",
   "execution_count": 46,
   "id": "4bfc52ca-b5f2-4187-b2dc-c29481f6d0af",
   "metadata": {},
   "outputs": [],
   "source": [
    "# import os\n",
    "# import time\n",
    "# import requests\n",
    "# from subprocess import Popen, PIPE, STDOUT\n",
    "\n",
    "# # Start Elasticsearch Docker container\n",
    "# docker_command = [\n",
    "#     'docker', 'run', '-d', '--name', 'elasticsearch',\n",
    "#     '-p', '9200:9200', '-e', 'discovery.type=single-node',\n",
    "#     '-e', 'ELASTIC_PASSWORD=peQBjqFfi-FSUMDfjORi',\n",
    "#     'docker.elastic.co/elasticsearch/elasticsearch:8.15.1'\n",
    "# ]\n",
    "\n",
    "# # Start the Docker container\n",
    "# with Popen(docker_command, stdout=PIPE, stderr=STDOUT) as es_server:\n",
    "#     # Wait for Elasticsearch to start\n",
    "#     time.sleep(30)\n",
    "\n",
    "#     # Check if Elasticsearch is up and running\n",
    "#     try:\n",
    "#         response = requests.get(\"http://localhost:9200/\", auth=('elastic', 'peQBjqFfi-FSUMDfjORi'))\n",
    "#         response.raise_for_status()  # Raise an error for bad responses\n",
    "#         print(\"Elasticsearch is running:\", response.json())\n",
    "#     except requests.exceptions.RequestException as e:\n",
    "#         print(\"Error connecting to Elasticsearch:\", e)\n"
   ]
  },
  {
   "cell_type": "markdown",
   "id": "998879e5-601b-42cd-bb8b-c753d7be8ade",
   "metadata": {},
   "source": [
    "# Docker form"
   ]
  },
  {
   "cell_type": "code",
   "execution_count": 47,
   "id": "33829920-8af5-4109-85e5-e2176e7a87e0",
   "metadata": {
    "scrolled": true
   },
   "outputs": [],
   "source": [
    "# import docker\n",
    "# import time\n",
    "# import requests\n",
    "# from subprocess import Popen, PIPE, STDOUT\n",
    "\n",
    "# # Define the path to the Elasticsearch binary\n",
    "# es_path = '/usr/share/elasticsearch/bin/elasticsearch'  # Update this to the correct path\n",
    "\n",
    "# # Connect to the Docker daemon\n",
    "# client = docker.from_env()\n",
    "\n",
    "# # Start the Elasticsearch container\n",
    "# container = client.containers.run(\n",
    "#     image=\"docker.elastic.co/elasticsearch/elasticsearch:8.15.1\",  # Replace with your desired Elasticsearch image\n",
    "#     detach=True,\n",
    "#     name=\"es01\"  # Specify the container name\n",
    "# )\n",
    "\n",
    "# # Wait for Elasticsearch to start\n",
    "# time.sleep(30)\n",
    "\n",
    "# # Check if Elasticsearch is up and running\n",
    "# try:\n",
    "#     response = requests.get(\"http://localhost:9200/\", auth=('elastic', '8Ffm8AV5DvjhzB3NsQVY'))  # Update the password\n",
    "#     response.raise_for_status()  # Raise an error for bad responses\n",
    "#     print(\"Elasticsearch is running:\", response.json())\n",
    "# except requests.exceptions.RequestException as e:\n",
    "#     print(\"Error connecting to Elasticsearch:\", e)\n",
    "\n",
    "# # Stop the container when finished\n",
    "# container.stop()"
   ]
  },
  {
   "cell_type": "code",
   "execution_count": 48,
   "id": "2bbec7cc-e085-4cb0-a68b-d6bed6e51af1",
   "metadata": {},
   "outputs": [
    {
     "name": "stdout",
     "output_type": "stream",
     "text": [
      "Elasticsearch is running: {'name': '8484cf283848', 'cluster_name': 'docker-cluster', 'cluster_uuid': '4G6Yu1Q5R86hprBmt3km6w', 'version': {'number': '8.15.1', 'build_flavor': 'default', 'build_type': 'docker', 'build_hash': '253e8544a65ad44581194068936f2a5d57c2c051', 'build_date': '2024-09-02T22:04:47.310170297Z', 'build_snapshot': False, 'lucene_version': '9.11.1', 'minimum_wire_compatibility_version': '7.17.0', 'minimum_index_compatibility_version': '7.0.0'}, 'tagline': 'You Know, for Search'}\n"
     ]
    }
   ],
   "source": [
    "import os\n",
    "import time\n",
    "import requests\n",
    "from subprocess import Popen, PIPE, STDOUT\n",
    "\n",
    "# Define the path to the Elasticsearch binary\n",
    "es_path = '/usr/share/elasticsearch/bin/elasticsearch'  # Update this to the correct path\n",
    "\n",
    "# Change ownership of Elasticsearch files without requiring a password\n",
    "#os.system('sudo chown -R daemon:daemon /usr/share/elasticsearch/bin/elasticsearch')  # Update this path as well\n",
    "\n",
    "# Start Elasticsearch server\n",
    "es_server = Popen(args=[es_path],\n",
    "                  stdout=PIPE, stderr=STDOUT)\n",
    "\n",
    "# Wait for Elasticsearch to start\n",
    "time.sleep(30)\n",
    "\n",
    "# Check if Elasticsearch is up and running\n",
    "try:\n",
    "    response = requests.get(\"http://localhost:9200/\", auth=('elastic', '8Ffm8AV5DvjhzB3NsQVY'))  # Update the password\n",
    "    response.raise_for_status()  # Raise an error for bad responses\n",
    "    print(\"Elasticsearch is running:\", response.json())\n",
    "except requests.exceptions.RequestException as e:\n",
    "    print(\"Error connecting to Elasticsearch:\", e)"
   ]
  },
  {
   "cell_type": "code",
   "execution_count": 49,
   "id": "a81f8efe-6e90-4852-ab82-3f46693d36d2",
   "metadata": {},
   "outputs": [],
   "source": [
    "new_password=\"8Ffm8AV5DvjhzB3NsQVY\""
   ]
  },
  {
   "cell_type": "code",
   "execution_count": 50,
   "id": "a3e58560-b53a-4494-bb45-f475f6ebf815",
   "metadata": {},
   "outputs": [
    {
     "name": "stdout",
     "output_type": "stream",
     "text": [
      "{\n",
      "  \"name\" : \"8484cf283848\",\n",
      "  \"cluster_name\" : \"docker-cluster\",\n",
      "  \"cluster_uuid\" : \"4G6Yu1Q5R86hprBmt3km6w\",\n",
      "  \"version\" : {\n",
      "    \"number\" : \"8.15.1\",\n",
      "    \"build_flavor\" : \"default\",\n",
      "    \"build_type\" : \"docker\",\n",
      "    \"build_hash\" : \"253e8544a65ad44581194068936f2a5d57c2c051\",\n",
      "    \"build_date\" : \"2024-09-02T22:04:47.310170297Z\",\n",
      "    \"build_snapshot\" : false,\n",
      "    \"lucene_version\" : \"9.11.1\",\n",
      "    \"minimum_wire_compatibility_version\" : \"7.17.0\",\n",
      "    \"minimum_index_compatibility_version\" : \"7.0.0\"\n",
      "  },\n",
      "  \"tagline\" : \"You Know, for Search\"\n",
      "}\n"
     ]
    }
   ],
   "source": [
    "!curl -X GET \"http://localhost:9200\""
   ]
  },
  {
   "cell_type": "markdown",
   "id": "afba0c39-1e5a-41c7-903e-e4c361c505a8",
   "metadata": {},
   "source": [
    "# add the document store"
   ]
  },
  {
   "cell_type": "code",
   "execution_count": 51,
   "id": "e43a5970-cfd5-47e2-8c9c-c352ffc3ab6d",
   "metadata": {},
   "outputs": [],
   "source": [
    "#new_password=\"peQBjqFfi-FSUMDfjORi\""
   ]
  },
  {
   "cell_type": "code",
   "execution_count": 52,
   "id": "dd01f6cb-5fcb-4795-9dbf-243f881e0cd3",
   "metadata": {},
   "outputs": [],
   "source": [
    "#!curl -k -u elastic:peQBjqFfi-FSUMDfjORi -X GET \"https://localhost:9200/?pretty\""
   ]
  },
  {
   "cell_type": "code",
   "execution_count": 53,
   "id": "34fa40c8-ff0d-4056-99b1-609ac71fd2c2",
   "metadata": {},
   "outputs": [
    {
     "name": "stdout",
     "output_type": "stream",
     "text": [
      "{\n",
      "  \"name\" : \"8484cf283848\",\n",
      "  \"cluster_name\" : \"docker-cluster\",\n",
      "  \"cluster_uuid\" : \"4G6Yu1Q5R86hprBmt3km6w\",\n",
      "  \"version\" : {\n",
      "    \"number\" : \"8.15.1\",\n",
      "    \"build_flavor\" : \"default\",\n",
      "    \"build_type\" : \"docker\",\n",
      "    \"build_hash\" : \"253e8544a65ad44581194068936f2a5d57c2c051\",\n",
      "    \"build_date\" : \"2024-09-02T22:04:47.310170297Z\",\n",
      "    \"build_snapshot\" : false,\n",
      "    \"lucene_version\" : \"9.11.1\",\n",
      "    \"minimum_wire_compatibility_version\" : \"7.17.0\",\n",
      "    \"minimum_index_compatibility_version\" : \"7.0.0\"\n",
      "  },\n",
      "  \"tagline\" : \"You Know, for Search\"\n",
      "}\n"
     ]
    }
   ],
   "source": [
    "!curl -X GET \"localhost:9200/\""
   ]
  },
  {
   "cell_type": "code",
   "execution_count": 54,
   "id": "9f29c962-e1da-4208-900c-19680400894f",
   "metadata": {},
   "outputs": [
    {
     "name": "stdout",
     "output_type": "stream",
     "text": [
      "{\n",
      "  \"name\" : \"8484cf283848\",\n",
      "  \"cluster_name\" : \"docker-cluster\",\n",
      "  \"cluster_uuid\" : \"4G6Yu1Q5R86hprBmt3km6w\",\n",
      "  \"version\" : {\n",
      "    \"number\" : \"8.15.1\",\n",
      "    \"build_flavor\" : \"default\",\n",
      "    \"build_type\" : \"docker\",\n",
      "    \"build_hash\" : \"253e8544a65ad44581194068936f2a5d57c2c051\",\n",
      "    \"build_date\" : \"2024-09-02T22:04:47.310170297Z\",\n",
      "    \"build_snapshot\" : false,\n",
      "    \"lucene_version\" : \"9.11.1\",\n",
      "    \"minimum_wire_compatibility_version\" : \"7.17.0\",\n",
      "    \"minimum_index_compatibility_version\" : \"7.0.0\"\n",
      "  },\n",
      "  \"tagline\" : \"You Know, for Search\"\n",
      "}\n"
     ]
    }
   ],
   "source": [
    "!curl -X GET http://localhost:9200/"
   ]
  },
  {
   "cell_type": "code",
   "execution_count": 55,
   "id": "845f501f-2353-4ff0-ad3b-8623f89395b1",
   "metadata": {},
   "outputs": [],
   "source": [
    "# \"https:localhost:9200/\" --\"insecure\""
   ]
  },
  {
   "cell_type": "code",
   "execution_count": 56,
   "id": "601160c4-f891-49dc-a6b9-736952e9438e",
   "metadata": {},
   "outputs": [],
   "source": [
    "from haystack.document_stores import ElasticsearchDocumentStore\n",
    "from haystack import Document"
   ]
  },
  {
   "cell_type": "code",
   "execution_count": 57,
   "id": "d4a40805-8f19-4087-9447-2beb04bb41da",
   "metadata": {
    "scrolled": true
   },
   "outputs": [],
   "source": [
    "new_document_store=ElasticsearchDocumentStore(\n",
    "    host=\"localhost\",\n",
    "    port=9200\n",
    ")"
   ]
  },
  {
   "cell_type": "markdown",
   "id": "823e3356-0aaa-4e5b-b75b-786a33ea03b4",
   "metadata": {},
   "source": [
    "## saving data in document store"
   ]
  },
  {
   "cell_type": "code",
   "execution_count": 58,
   "id": "bd35a530-f30b-4a7a-bf50-bab3ab15c4c2",
   "metadata": {
    "scrolled": true
   },
   "outputs": [],
   "source": [
    "#new_document_store.delete_all_documents()\n",
    "for split, df in dfs.items():\n",
    "    docs = [\n",
    "        Document(content= row[\"context\"],\n",
    "    meta={\"item_id\": row[\"title\"], \"question_id\": row[\"id\"],\n",
    "            \"split\": split}\n",
    "                )\n",
    "        for _,row in df.drop_duplicates(subset=\"context\").iterrows()]\n",
    "    new_document_store.write_documents(docs)"
   ]
  },
  {
   "cell_type": "code",
   "execution_count": 59,
   "id": "fec25d1e-ef38-4467-aae9-3e7dc127ec48",
   "metadata": {},
   "outputs": [
    {
     "name": "stdout",
     "output_type": "stream",
     "text": [
      "Number of documents is 1875\n"
     ]
    }
   ],
   "source": [
    "document_count = new_document_store.client.count(index='default')[\"count\"]\n",
    "print(f\"Number of documents is {document_count}\")"
   ]
  },
  {
   "cell_type": "markdown",
   "id": "033f2ab4-6d32-4b90-9364-7d8cffdea326",
   "metadata": {},
   "source": [
    "# initializing retriver"
   ]
  },
  {
   "cell_type": "code",
   "execution_count": 60,
   "id": "4409d1fc-3da5-4ac2-9c6f-57a00f21c917",
   "metadata": {},
   "outputs": [],
   "source": [
    "from haystack.nodes import BM25Retriever\n",
    "\n",
    "retriever = BM25Retriever(new_document_store)"
   ]
  },
  {
   "cell_type": "code",
   "execution_count": 86,
   "id": "fd8392d1-2e2c-4fd4-b0e3-36e5297737e9",
   "metadata": {},
   "outputs": [],
   "source": [
    "# item_id=\"B0074BW614\"\n",
    "# query=\"Is it good for reading?\"\n",
    "# filters = {\n",
    "#     \"operator\": \"AND\",\n",
    "#     \"conditions\": [\n",
    "#         {\"field\": \"meta.item_id\", \"operator\": \"==\", \"value\": \"B0074BW614\"},\n",
    "#         {\"field\": \"meta.split\", \"operator\": \"==\", \"value\": \"train\"}\n",
    "#     ]\n",
    "# }\n",
    "\n",
    "# retriever_docs=retriever.retrieve(\n",
    "#     query=query,top_k=3,filters=filters\n",
    "# )"
   ]
  },
  {
   "cell_type": "code",
   "execution_count": 87,
   "id": "0f3f7552-54ae-4192-91b7-7f3cd4e6a8f8",
   "metadata": {},
   "outputs": [],
   "source": [
    "#updated retriver\n",
    "ret_doc=retriever.retrieve(\n",
    "    query=query,top_k=3,filters={\"item_id\":[item_id],\"split\":[\"train\"]}\n",
    ")"
   ]
  },
  {
   "cell_type": "code",
   "execution_count": 88,
   "id": "a5e69e43-9558-48f1-9fe3-f4facd0e72cd",
   "metadata": {},
   "outputs": [],
   "source": [
    "#ret_doc"
   ]
  },
  {
   "cell_type": "code",
   "execution_count": 89,
   "id": "642b039e-7b36-4498-a23b-e353d52003a3",
   "metadata": {},
   "outputs": [
    {
     "name": "stdout",
     "output_type": "stream",
     "text": [
      "Document 1:\n",
      "Item ID: B0074BW614\n",
      "Split: train\n",
      "Question ID: 868e311275e26dbafe5af70774a300f3\n",
      "Content: This is a gift to myself.  I have been a kindle user for 4 years and this is my third one.  I never thought I would want a fire for I mainly use it for book reading.  I decided to try the fire for when I travel I take my laptop, my phone and my iPod classic.  I love my iPod but watching movies on the plane with it can be challenging because it is so small. Laptops battery life is not as good as the Kindle.  So the Fire combines for me what I needed all three to do. So far so good.\n",
      "Score:0.6857824513476455 \n",
      "\n",
      "\n",
      "Document 2:\n",
      "Item ID: B0074BW614\n",
      "Split: train\n",
      "Question ID: 998d564607f10bf6dbbd20b33b8fbbf1\n",
      "Content: Plays Netflix great, WiFi capability has great range. Resolution on the screen is AMAZING! For the price you cannot go wrong. Bought one for my spouse and myself after becoming addicted to hers! Our son LOVES it and it is great for reading books when no light is available. Amazing sound but I suggest good headphones to really hear it all.Battery life is super long and can go 3 or 4 days without a recharge from moderate use.A steal at $199.99.\n",
      "Score:0.6846554055365114 \n",
      "\n",
      "\n",
      "Document 3:\n",
      "Item ID: B0074BW614\n",
      "Split: train\n",
      "Question ID: 3ecfc76edee933ba1f202069b4fe7847\n",
      "Content: I've used an e-reader since the Rocket ebook in 1999, and I've always believed I wanted only an ebook reader with no other features. I don't get out much, so my computer is convenient for everything else.I've had several Kindles and was happy with all of them, but I had recently played around with my brother's tablet. When my last Kindle died, I decided to replace it with the Kindle Fire. I chose the smaller one because I was concerned about my arthritic hands holding a larger device for long periods. The 7\" is just perfect for me. It's light enough that I can hold it to read, but the larger screen compared to the Kindle makes for easier reading. I love the color, something I never thought would make a difference to me.Oddly enough, high on my favorite list is the ability to review a book as soon as I reach the end. I have written reviews of every book I read on a readers social media site, but I have seldom put in the extra effort to come to Amazon to write a review. On the Kindle Fire, as soon as I come to the end of a book, a review page pops up so I can review it while it's fresh on my mind, and I'm reviewing everything I read.I didn't realize when I placed my order that I was ordering that the device had special offers. I've always thought I would not want to be subject to advertising when I was reading. However, I discovered that the special offers are discreet and no distraction at all. I've even found myself going to the special offers page a time or two to see what's on offer.The only negative is that the battery doesn't last very long. However, with the PowerFast charger, it doesn't take long to charge the battery.I think folks like me who have always used a dedicated ereader and never even used a touch screen will be pleasantly surprised with the Kindle Fire, and people who are used to smartphones and tablets will find everything they expect in a device.Update 11/8/13: I still think the Kindle Fire is a fantastic product, and I use it occasionally for games. However, I have gone back to my Kindle Keyboard for reading novels. The arthritis in my shoulders, elbows, and hands has  worsened since I've been using the Kindle Fire, and even using the device for a short while increases the pain significantly. I can tolerate it for short periods to play a few games. However, I simply can't hold the Kindle Fire long enough for reading. This won't be an issue for most people, but I wanted to mention it for those people who might have similar problems.\n",
      "Score:0.6578420310105323 \n",
      "\n",
      "\n"
     ]
    }
   ],
   "source": [
    "for i, doc in enumerate(ret_doc):\n",
    "    print(f\"Document {i + 1}:\")\n",
    "    print(f\"Item ID: {doc.meta['item_id']}\")\n",
    "    print(f\"Split: {doc.meta['split']}\")\n",
    "    print(f\"Question ID: {doc.meta['question_id']}\")\n",
    "    print(f\"Content: {doc.content}\")\n",
    "    print(f\"Score:{doc.score} \")\n",
    "    print(\"\\n\")"
   ]
  },
  {
   "cell_type": "markdown",
   "id": "db849349-1fa3-42bf-9fc8-cb4cb296ac20",
   "metadata": {},
   "source": [
    "# initializing a reader"
   ]
  },
  {
   "cell_type": "code",
   "execution_count": 110,
   "id": "3c118969-a9f2-486d-abe1-f1d57d9e564e",
   "metadata": {},
   "outputs": [
    {
     "name": "stderr",
     "output_type": "stream",
     "text": [
      "/home/nebiyu/miniconda3/envs/tunning/lib/python3.10/site-packages/huggingface_hub/file_download.py:1142: FutureWarning: `resume_download` is deprecated and will be removed in version 1.0.0. Downloads always resume when possible. If you want to force a new download, use `force_download=True`.\n",
      "  warnings.warn(\n"
     ]
    }
   ],
   "source": [
    "from haystack.nodes import FARMReader\n",
    "\n",
    "model_=\"deepset/roberta-base-squad2\"\n",
    "max_seq,doc_stride=384,128\n",
    "\n",
    "reader=FARMReader(\n",
    "    \"deepset/roberta-base-squad2\",return_no_answer=True\n",
    ")"
   ]
  },
  {
   "cell_type": "code",
   "execution_count": 111,
   "id": "9421bbfa-952d-45e2-951c-e9af70a19dac",
   "metadata": {},
   "outputs": [
    {
     "name": "stderr",
     "output_type": "stream",
     "text": [
      "Inferencing Samples: 100%|██████████████████| 1/1 [00:00<00:00,  2.49 Batches/s]"
     ]
    },
    {
     "name": "stdout",
     "output_type": "stream",
     "text": [
      "{'query': 'How much music can this hold?', 'no_ans_gap': 4.915360450744629, 'answers': [<Answer {'answer': '', 'type': 'extractive', 'score': 0.5798550006072436, 'context': None, 'offsets_in_document': [{'start': 0, 'end': 0}], 'offsets_in_context': [{'start': 0, 'end': 0}], 'document_ids': None, 'meta': {}}>]}\n"
     ]
    },
    {
     "name": "stderr",
     "output_type": "stream",
     "text": [
      "\n"
     ]
    }
   ],
   "source": [
    "print(reader.predict_on_texts(question=question,texts=[context],top_k=1))"
   ]
  },
  {
   "cell_type": "markdown",
   "id": "017bfd4b-c88d-40d5-a64b-1d67ca385d9b",
   "metadata": {},
   "source": [
    "# lets make a pipeline"
   ]
  },
  {
   "cell_type": "code",
   "execution_count": 121,
   "id": "5566ff88-7b5a-4102-b3a1-b60a0c88a6b8",
   "metadata": {},
   "outputs": [],
   "source": [
    "filtered_docs = retriever.retrieve(query=query, filters={\"item_id\": [item_id], \"split\": [\"train\"]})"
   ]
  },
  {
   "cell_type": "code",
   "execution_count": 115,
   "id": "eb059f7a-4d8f-4523-8f05-276c1dd88ec1",
   "metadata": {},
   "outputs": [],
   "source": [
    "from haystack.pipelines import ExtractiveQAPipeline"
   ]
  },
  {
   "cell_type": "code",
   "execution_count": 116,
   "id": "b77c503b-d22d-410d-bbc2-4225f1073d71",
   "metadata": {},
   "outputs": [],
   "source": [
    "pipline=ExtractiveQAPipeline(reader,retriever)"
   ]
  },
  {
   "cell_type": "code",
   "execution_count": 129,
   "id": "bdb410b9-ce2a-49cc-be90-964da30476cf",
   "metadata": {},
   "outputs": [
    {
     "ename": "AttributeError",
     "evalue": "'function' object has no attribute 'run'",
     "output_type": "error",
     "traceback": [
      "\u001b[0;31m---------------------------------------------------------------------------\u001b[0m",
      "\u001b[0;31mAttributeError\u001b[0m                            Traceback (most recent call last)",
      "Cell \u001b[0;32mIn[129], line 2\u001b[0m\n\u001b[1;32m      1\u001b[0m n_answers \u001b[38;5;241m=\u001b[39m \u001b[38;5;241m3\u001b[39m\n\u001b[0;32m----> 2\u001b[0m preds \u001b[38;5;241m=\u001b[39m \u001b[43mpipeline\u001b[49m\u001b[38;5;241;43m.\u001b[39;49m\u001b[43mrun\u001b[49m(\n\u001b[1;32m      3\u001b[0m     query\u001b[38;5;241m=\u001b[39mquery,\n\u001b[1;32m      4\u001b[0m     params\u001b[38;5;241m=\u001b[39m{\n\u001b[1;32m      5\u001b[0m         \u001b[38;5;124m\"\u001b[39m\u001b[38;5;124mRetriever\u001b[39m\u001b[38;5;124m\"\u001b[39m: {\n\u001b[1;32m      6\u001b[0m             \u001b[38;5;124m\"\u001b[39m\u001b[38;5;124mtop_k\u001b[39m\u001b[38;5;124m\"\u001b[39m: \u001b[38;5;241m3\u001b[39m,\n\u001b[1;32m      7\u001b[0m             \u001b[38;5;124m\"\u001b[39m\u001b[38;5;124mfilters\u001b[39m\u001b[38;5;124m\"\u001b[39m: {\u001b[38;5;124m\"\u001b[39m\u001b[38;5;124mitem_id\u001b[39m\u001b[38;5;124m\"\u001b[39m: [item_id], \u001b[38;5;124m\"\u001b[39m\u001b[38;5;124msplit\u001b[39m\u001b[38;5;124m\"\u001b[39m: [\u001b[38;5;124m\"\u001b[39m\u001b[38;5;124mtrain\u001b[39m\u001b[38;5;124m\"\u001b[39m]}\n\u001b[1;32m      8\u001b[0m         },\n\u001b[1;32m      9\u001b[0m         \u001b[38;5;124m\"\u001b[39m\u001b[38;5;124mReader\u001b[39m\u001b[38;5;124m\"\u001b[39m: {\u001b[38;5;124m\"\u001b[39m\u001b[38;5;124mtop_k\u001b[39m\u001b[38;5;124m\"\u001b[39m: n_answers}\n\u001b[1;32m     10\u001b[0m     }\n\u001b[1;32m     11\u001b[0m )\n",
      "\u001b[0;31mAttributeError\u001b[0m: 'function' object has no attribute 'run'"
     ]
    }
   ],
   "source": [
    "n_answers = 3\n",
    "preds = pipeline.run(\n",
    "    query=query,\n",
    "    params={\n",
    "        \"Retriever\": {\n",
    "            \"top_k\": 3,\n",
    "            \"filters\": {\"item_id\": [item_id], \"split\": [\"train\"]}\n",
    "        },\n",
    "        \"Reader\": {\"top_k\": n_answers}\n",
    "    }\n",
    ")\n"
   ]
  },
  {
   "cell_type": "code",
   "execution_count": 120,
   "id": "d8dd5288-6f88-4ee5-a6df-6e8d4f5b7c10",
   "metadata": {},
   "outputs": [
    {
     "data": {
      "text/plain": [
       "{'operator': 'AND',\n",
       " 'conditions': [{'field': 'meta.item_id',\n",
       "   'operator': '==',\n",
       "   'value': 'B0074BW614'},\n",
       "  {'field': 'meta.split', 'operator': '==', 'value': 'train'}]}"
      ]
     },
     "execution_count": 120,
     "metadata": {},
     "output_type": "execute_result"
    }
   ],
   "source": []
  },
  {
   "cell_type": "code",
   "execution_count": null,
   "id": "8fd849db-86e4-4d7f-b8b1-1cf9b659d17b",
   "metadata": {},
   "outputs": [],
   "source": []
  }
 ],
 "metadata": {
  "kernelspec": {
   "display_name": "Python 3 (ipykernel)",
   "language": "python",
   "name": "python3"
  },
  "language_info": {
   "codemirror_mode": {
    "name": "ipython",
    "version": 3
   },
   "file_extension": ".py",
   "mimetype": "text/x-python",
   "name": "python",
   "nbconvert_exporter": "python",
   "pygments_lexer": "ipython3",
   "version": "3.10.14"
  }
 },
 "nbformat": 4,
 "nbformat_minor": 5
}
