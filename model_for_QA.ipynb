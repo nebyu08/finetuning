{
 "cells": [
  {
   "cell_type": "code",
   "execution_count": null,
   "id": "1e4d08db-c551-4cf0-a8c7-a30eb99de9ca",
   "metadata": {},
   "outputs": [],
   "source": [
    "from matplotlib import pyplot as plt\n",
    "from datasets import get_dataset_config_names\n",
    "from datasets import load_dataset\n",
    "import pandas as pd"
   ]
  },
  {
   "cell_type": "code",
   "execution_count": null,
   "id": "18cbb2df-14ed-41c4-a837-d1526b5d3614",
   "metadata": {},
   "outputs": [],
   "source": [
    "domains=get_dataset_config_names(\"subjqa\")\n",
    "domains"
   ]
  },
  {
   "cell_type": "code",
   "execution_count": null,
   "id": "78f2e246-c837-428a-8721-f9efb1966952",
   "metadata": {},
   "outputs": [],
   "source": [
    "subjqa=load_dataset(\"subjqa\",name=\"electronics\")"
   ]
  },
  {
   "cell_type": "code",
   "execution_count": null,
   "id": "63639356-94b3-43f8-97f4-21b1705038f9",
   "metadata": {},
   "outputs": [],
   "source": [
    "subjqa"
   ]
  },
  {
   "cell_type": "code",
   "execution_count": null,
   "id": "f3725c92-0385-4030-8a09-bb6807098998",
   "metadata": {},
   "outputs": [],
   "source": [
    "print(subjqa[\"train\"][1].keys())"
   ]
  },
  {
   "cell_type": "code",
   "execution_count": null,
   "id": "56d6acba-5fad-4245-98c1-c2bee3846904",
   "metadata": {},
   "outputs": [],
   "source": [
    "print(subjqa[\"train\"][1][\"question\"])"
   ]
  },
  {
   "cell_type": "code",
   "execution_count": null,
   "id": "cb7d44ad-8fdb-4d05-adac-5eed01c6be64",
   "metadata": {},
   "outputs": [],
   "source": [
    "print(subjqa[\"train\"][1][\"answers\"])"
   ]
  },
  {
   "cell_type": "code",
   "execution_count": null,
   "id": "0756f445-71a8-4bca-8e41-376b962f343f",
   "metadata": {},
   "outputs": [],
   "source": [
    "print(subjqa[\"train\"][\"answers\"][1].keys())"
   ]
  },
  {
   "cell_type": "markdown",
   "id": "194dabbf-f165-4265-845d-32a0ddf7c28e",
   "metadata": {},
   "source": [
    "# turn the data into dataframe"
   ]
  },
  {
   "cell_type": "code",
   "execution_count": null,
   "id": "362cd57a-ac1d-4dc2-ae27-5f27d063e2d6",
   "metadata": {},
   "outputs": [],
   "source": [
    "dfs={label:data.to_pandas() for label,data in subjqa.flatten().items()}"
   ]
  },
  {
   "cell_type": "code",
   "execution_count": null,
   "id": "4d198594-5a8f-4e63-acaf-8465f978cbbe",
   "metadata": {},
   "outputs": [],
   "source": [
    "type(dfs)"
   ]
  },
  {
   "cell_type": "code",
   "execution_count": null,
   "id": "5c32a42a-cde2-48b1-9dda-8eab04da6d4b",
   "metadata": {},
   "outputs": [],
   "source": [
    "for split,df in dfs.items():\n",
    "    print(f\"{split} has {len(df)} number of elements\")"
   ]
  },
  {
   "cell_type": "code",
   "execution_count": null,
   "id": "c42282e2-40e6-447d-b3c5-73150d138ae9",
   "metadata": {},
   "outputs": [],
   "source": [
    "qa_columns=[\"title\",\"question\",\"answers.text\",\"answers.answer_start\",\"context\"]\n",
    "\n",
    "sample=dfs[\"train\"][qa_columns].sample(2,random_state=7)"
   ]
  },
  {
   "cell_type": "code",
   "execution_count": null,
   "id": "83e6410c-6c3e-4164-9fac-a299ef523eea",
   "metadata": {},
   "outputs": [],
   "source": [
    "sample"
   ]
  },
  {
   "cell_type": "code",
   "execution_count": null,
   "id": "6a43affd-f95f-4a23-ae34-ebf7622d507d",
   "metadata": {},
   "outputs": [],
   "source": [
    "#lets extracte the text \n",
    "start_index=sample[\"answers.answer_start\"].iloc[0][0]\n",
    "end_index=start_index+len(sample[\"answers.text\"].iloc[0][0])"
   ]
  },
  {
   "cell_type": "code",
   "execution_count": null,
   "id": "75985be9-3e0c-4518-b967-ad2bb1ecf2e8",
   "metadata": {},
   "outputs": [],
   "source": [
    "sample[\"context\"].iloc[0][start_index:end_index]"
   ]
  },
  {
   "cell_type": "code",
   "execution_count": null,
   "id": "88d2664e-3beb-4ab6-be75-89671b26ea6d",
   "metadata": {},
   "outputs": [],
   "source": [
    "end_index,start_index"
   ]
  },
  {
   "cell_type": "code",
   "execution_count": null,
   "id": "91b12398-72f7-4365-a0b6-b7c7708c03be",
   "metadata": {},
   "outputs": [],
   "source": [
    "sample['context'].iloc[0]"
   ]
  },
  {
   "cell_type": "code",
   "execution_count": null,
   "id": "4af868cb-2792-47e7-825e-ddd16d2bfdbe",
   "metadata": {},
   "outputs": [],
   "source": [
    "dfs[\"train\"].head()"
   ]
  },
  {
   "cell_type": "markdown",
   "id": "a23510fa-c53e-42ad-8dce-b6dc77b85503",
   "metadata": {},
   "source": [
    "# count question that start with certain phrases"
   ]
  },
  {
   "cell_type": "code",
   "execution_count": null,
   "id": "b3849d8b-02e2-4255-a9bb-ae0622db9c8c",
   "metadata": {},
   "outputs": [],
   "source": [
    "counts = {}\n",
    "question_types = [\"What\", \"How\", \"Is\", \"Does\", \"Do\", \"Was\", \"Where\", \"Why\"]"
   ]
  },
  {
   "cell_type": "code",
   "execution_count": null,
   "id": "9fcc99e5-c813-4ec8-b6f9-d9245a119ab7",
   "metadata": {},
   "outputs": [],
   "source": [
    "for q in question_types:\n",
    "    counts[q]=dfs[\"train\"][\"question\"].str.startswith(q).value_counts()[True]"
   ]
  },
  {
   "cell_type": "markdown",
   "id": "f1dde557-3a74-44b1-9fa1-78d3c3b664cd",
   "metadata": {},
   "source": [
    "## ploting "
   ]
  },
  {
   "cell_type": "code",
   "execution_count": null,
   "id": "b7b320e7-4b94-44ad-8125-c9bd14d5f5e3",
   "metadata": {},
   "outputs": [],
   "source": [
    "pd.Series(counts).sort_values().plot.barh()\n",
    "plt.title(\"frequency of question\")\n",
    "plt.show()"
   ]
  },
  {
   "cell_type": "code",
   "execution_count": null,
   "id": "7e3bee80-9970-4007-91b3-7c37f588139c",
   "metadata": {},
   "outputs": [],
   "source": [
    "few_question=[\"How\",\"What\",\"Is\"]\n",
    "\n",
    "for questions in few_question:\n",
    "    for question in (dfs[\"train\"][dfs[\"train\"].question.str.startswith(questions)].sample(n=3,random_state=42)['question']):\n",
    "        print(question)"
   ]
  },
  {
   "cell_type": "markdown",
   "id": "112e9f1f-abe7-4788-828d-a8dfcce2f783",
   "metadata": {},
   "source": [
    "# lets load the model"
   ]
  },
  {
   "cell_type": "code",
   "execution_count": null,
   "id": "5792e777-79f3-41e7-a7c3-c2fbaa35aee3",
   "metadata": {},
   "outputs": [],
   "source": [
    "from transformers import AutoTokenizer"
   ]
  },
  {
   "cell_type": "code",
   "execution_count": null,
   "id": "56ea3006-e02f-4683-b4e8-6e6aae3f1194",
   "metadata": {},
   "outputs": [],
   "source": [
    "model_name=\"deepset/minilm-uncased-squad2\"\n",
    "tokenizer=AutoTokenizer.from_pretrained(model_name)"
   ]
  },
  {
   "cell_type": "code",
   "execution_count": null,
   "id": "4b5514ef-8c5f-4919-93a2-d6be01fc3d94",
   "metadata": {},
   "outputs": [],
   "source": [
    "import torch"
   ]
  },
  {
   "cell_type": "code",
   "execution_count": null,
   "id": "5deaf7a8-a84b-4697-acbe-cabbc4010d66",
   "metadata": {},
   "outputs": [],
   "source": [
    "question = \"How much music can this hold?\"\n",
    "context = \"\"\"An MP3 is about 1 MB/minute, so about 6000 hours depending on \\\n",
    "file size.\"\"\"\n",
    "\n",
    "inputs=tokenizer(question,context,return_tensors=\"pt\")"
   ]
  },
  {
   "cell_type": "code",
   "execution_count": null,
   "id": "b9bf0933-ab72-4f38-870e-b34189f5a15d",
   "metadata": {},
   "outputs": [],
   "source": [
    "inputs"
   ]
  },
  {
   "cell_type": "code",
   "execution_count": null,
   "id": "1d0157ca-1b1f-4a2c-ac3f-ae3f23879bf5",
   "metadata": {},
   "outputs": [],
   "source": [
    "tokenizer.decode(inputs[\"input_ids\"][0])"
   ]
  },
  {
   "cell_type": "code",
   "execution_count": null,
   "id": "12bb8aff-8ede-4f53-993c-95e3164f8be3",
   "metadata": {},
   "outputs": [],
   "source": [
    "tokenizer.decode(inputs[\"input_ids\"][0])"
   ]
  },
  {
   "cell_type": "markdown",
   "id": "93707454-97eb-4fad-ba23-e807a316c3a0",
   "metadata": {},
   "source": [
    "# pass input to the model"
   ]
  },
  {
   "cell_type": "code",
   "execution_count": null,
   "id": "46171247-acad-43ff-bc42-bf250a125b10",
   "metadata": {},
   "outputs": [],
   "source": [
    "import torch\n",
    "from transformers import AutoModelForQuestionAnswering"
   ]
  },
  {
   "cell_type": "code",
   "execution_count": null,
   "id": "a042108b-8ec5-4976-966d-209af447348f",
   "metadata": {},
   "outputs": [],
   "source": [
    "model=AutoModelForQuestionAnswering.from_pretrained(model_name)"
   ]
  },
  {
   "cell_type": "code",
   "execution_count": null,
   "id": "8dc492ce-04c5-48e1-b88f-715c677ec1a9",
   "metadata": {},
   "outputs": [],
   "source": [
    "##pass the inputs\n",
    "with torch.no_grad():\n",
    "    outputs=model(**inputs)\n",
    "\n",
    "print(outputs)"
   ]
  },
  {
   "cell_type": "code",
   "execution_count": null,
   "id": "f527617d-5c23-45cc-84aa-62e1271f1963",
   "metadata": {},
   "outputs": [],
   "source": [
    "#we get the start and end token\n",
    "start_logits=outputs.start_logits\n",
    "end_logits=outputs.end_logits"
   ]
  },
  {
   "cell_type": "code",
   "execution_count": null,
   "id": "b140c13f-6a86-4f8f-b432-92820ec7f64e",
   "metadata": {},
   "outputs": [],
   "source": [
    "print(start_logits.shape)\n",
    "print(end_logits.shape)\n",
    "print(inputs['input_ids'].shape)"
   ]
  },
  {
   "cell_type": "code",
   "execution_count": null,
   "id": "e7009523-8505-49d1-b60b-85253725c190",
   "metadata": {},
   "outputs": [],
   "source": [
    "print(start_logits)\n",
    "print()\n",
    "print(end_logits)"
   ]
  },
  {
   "cell_type": "markdown",
   "id": "12ef87aa-5ce4-466d-9885-08c6d2827d97",
   "metadata": {},
   "source": [
    "## extract answer"
   ]
  },
  {
   "cell_type": "code",
   "execution_count": null,
   "id": "60e8fd5c-7165-4076-be51-2b01b820925f",
   "metadata": {},
   "outputs": [],
   "source": [
    "start_idx=torch.argmax(start_logits)\n",
    "end_idx=torch.argmax(end_logits)+1\n",
    "answer_span=inputs['input_ids'][0][start_idx:end_idx]\n",
    "answer=tokenizer.decode(answer_span)\n",
    "\n",
    "print(f'question is {question}')\n",
    "print(f'answer is {answer}')"
   ]
  },
  {
   "cell_type": "markdown",
   "id": "e5ce0024-73c8-4f47-8196-ffa399887be3",
   "metadata": {},
   "source": [
    "# automate it with piepline"
   ]
  },
  {
   "cell_type": "code",
   "execution_count": null,
   "id": "ac647ac1-8bfb-4280-a6ae-ad43df474f4a",
   "metadata": {},
   "outputs": [],
   "source": [
    "from transformers import pipeline"
   ]
  },
  {
   "cell_type": "code",
   "execution_count": null,
   "id": "96d8edf2-cf96-4b29-bbb6-e94895abcb17",
   "metadata": {},
   "outputs": [],
   "source": [
    "pipe=pipeline(\"question-answering\",model=model,tokenizer=tokenizer)"
   ]
  },
  {
   "cell_type": "code",
   "execution_count": null,
   "id": "09bb2ef0-62ba-4b6b-a883-5dd7c75134fd",
   "metadata": {},
   "outputs": [],
   "source": [
    "pipe(question=question,context=context,top_k=3)"
   ]
  },
  {
   "cell_type": "markdown",
   "id": "925cd7b9-7c7e-4937-893a-fafec443d2bb",
   "metadata": {},
   "source": [
    "# more context size than model can handlem"
   ]
  },
  {
   "cell_type": "code",
   "execution_count": null,
   "id": "669ae165-d7bc-4f3e-85a1-e6249c82db88",
   "metadata": {},
   "outputs": [],
   "source": [
    "example=dfs['train'].iloc[0][['question','context']]"
   ]
  },
  {
   "cell_type": "code",
   "execution_count": null,
   "id": "f1ab7c44-fbef-4215-8154-b20e10c6f3fa",
   "metadata": {},
   "outputs": [],
   "source": [
    "tokenized_example=tokenizer(example['question'],example['context'],\n",
    "                           return_overflowing_tokens=True,max_length=100,stride=25\n",
    "                           )"
   ]
  },
  {
   "cell_type": "code",
   "execution_count": null,
   "id": "210bd30d-ca44-4942-9625-9c42f4c0b906",
   "metadata": {},
   "outputs": [],
   "source": [
    "tokenized_example"
   ]
  },
  {
   "cell_type": "code",
   "execution_count": null,
   "id": "e861db24-a75d-4bf5-b04a-ac33651fa7de",
   "metadata": {},
   "outputs": [],
   "source": [
    "for idx,tokens in enumerate(tokenized_example['input_ids']):\n",
    "    print(f\"{idx} has {len(tokens)} number of tokens \")"
   ]
  },
  {
   "cell_type": "code",
   "execution_count": null,
   "id": "468d2cb3-a8da-4a87-a93d-b3f51bee6e03",
   "metadata": {
    "jupyter": {
     "source_hidden": true
    }
   },
   "outputs": [],
   "source": [
    "for window in tokenized_example['input_ids']:\n",
    "    print(f\"{tokenizer.decode(window)}\")"
   ]
  },
  {
   "cell_type": "markdown",
   "id": "dd57f244-3d72-408d-9c8a-b0739d66499b",
   "metadata": {},
   "source": [
    "# lets install some stuff"
   ]
  },
  {
   "cell_type": "markdown",
   "id": "7b460a60-8f96-4721-ad5e-0cac473d330a",
   "metadata": {},
   "source": [
    "## create a sub process"
   ]
  },
  {
   "cell_type": "code",
   "execution_count": null,
   "id": "b05e6503-f239-4704-bcce-a94d6bc61bd7",
   "metadata": {},
   "outputs": [],
   "source": [
    "!chown -R daemon:daemon elasticsearch-8.15.1"
   ]
  },
  {
   "cell_type": "code",
   "execution_count": null,
   "id": "76d48f90-4b22-412c-8481-fa2bc8b8b188",
   "metadata": {},
   "outputs": [],
   "source": [
    "#new_password"
   ]
  },
  {
   "cell_type": "code",
   "execution_count": null,
   "id": "2bbec7cc-e085-4cb0-a68b-d6bed6e51af1",
   "metadata": {},
   "outputs": [],
   "source": [
    "import os\n",
    "import time\n",
    "import requests\n",
    "from subprocess import Popen, PIPE, STDOUT\n",
    "\n",
    "# Define the path to the Elasticsearch binary\n",
    "es_path = '/usr/share/elasticsearch/bin/elasticsearch'  # Update this to the correct path\n",
    "\n",
    "# Change ownership of Elasticsearch files without requiring a password\n",
    "#os.system('sudo chown -R daemon:daemon /usr/share/elasticsearch/bin/elasticsearch')  # Update this path as well\n",
    "\n",
    "# Start Elasticsearch server\n",
    "es_server = Popen(args=[es_path],\n",
    "                  stdout=PIPE, stderr=STDOUT)\n",
    "\n",
    "# Wait for Elasticsearch to start\n",
    "time.sleep(30)\n",
    "\n",
    "# Check if Elasticsearch is up and running\n",
    "try:\n",
    "    response = requests.get(\"http://localhost:9200/\", auth=('elastic', 'peQBjqFfi-FSUMDfjORi'))  # Update the password\n",
    "    response.raise_for_status()  # Raise an error for bad responses\n",
    "    print(\"Elasticsearch is running:\", response.json())\n",
    "except requests.exceptions.RequestException as e:\n",
    "    print(\"Error connecting to Elasticsearch:\", e)"
   ]
  },
  {
   "cell_type": "code",
   "execution_count": null,
   "id": "f637b1f5-90f5-4314-a944-c77ce0e8e639",
   "metadata": {},
   "outputs": [],
   "source": [
    "#!curl -k -u -X GET \"https://localhost:9200/?pretty\""
   ]
  },
  {
   "cell_type": "code",
   "execution_count": null,
   "id": "6f6031dc-f1a3-47ba-bc57-30ce47b9a0e7",
   "metadata": {},
   "outputs": [],
   "source": [
    "!curl -k -u elastic:peQBjqFfi-FSUMDfjORi -X GET \"https://localhost:9200/?pretty\""
   ]
  },
  {
   "cell_type": "markdown",
   "id": "b5443c52-9e7c-4955-b8f6-1e847e17d677",
   "metadata": {},
   "source": [
    "#\n",
    "* password is:peQBjqFfi-FSUMDfjORi"
   ]
  },
  {
   "cell_type": "markdown",
   "id": "afba0c39-1e5a-41c7-903e-e4c361c505a8",
   "metadata": {},
   "source": [
    "# add the document store"
   ]
  },
  {
   "cell_type": "code",
   "execution_count": null,
   "id": "e43a5970-cfd5-47e2-8c9c-c352ffc3ab6d",
   "metadata": {},
   "outputs": [],
   "source": [
    "new_password=\"peQBjqFfi-FSUMDfjORi\""
   ]
  },
  {
   "cell_type": "code",
   "execution_count": null,
   "id": "dd01f6cb-5fcb-4795-9dbf-243f881e0cd3",
   "metadata": {},
   "outputs": [],
   "source": [
    "!curl -k -u elastic:peQBjqFfi-FSUMDfjORi -X GET \"https://localhost:9200/?pretty\""
   ]
  },
  {
   "cell_type": "code",
   "execution_count": null,
   "id": "34fa40c8-ff0d-4056-99b1-609ac71fd2c2",
   "metadata": {},
   "outputs": [],
   "source": [
    "!curl -X GET \"localhost:9200/\""
   ]
  },
  {
   "cell_type": "code",
   "execution_count": null,
   "id": "efaca8af-8b03-4ca1-8d9a-1364a3d69175",
   "metadata": {},
   "outputs": [],
   "source": [
    "from haystack.document_stores import ElasticsearchDocumentStore"
   ]
  },
  {
   "cell_type": "code",
   "execution_count": null,
   "id": "32f5d6d0-d924-42ad-b8e1-edcf976f1447",
   "metadata": {},
   "outputs": [],
   "source": [
    "from haystack.telemetry import send_event"
   ]
  },
  {
   "cell_type": "code",
   "execution_count": null,
   "id": "11977c91-c556-4075-87df-82ee256ef043",
   "metadata": {},
   "outputs": [],
   "source": [
    "import haystack\n",
    "print(haystack.__version__)"
   ]
  },
  {
   "cell_type": "code",
   "execution_count": null,
   "id": "0868ef5d-391e-4516-a7e6-925aece2abdd",
   "metadata": {},
   "outputs": [],
   "source": [
    "#!systemctl start elasticsearch"
   ]
  },
  {
   "cell_type": "code",
   "execution_count": null,
   "id": "fa5050d7-a41c-4747-851b-3274e68ee256",
   "metadata": {},
   "outputs": [],
   "source": [
    "import warnings\n",
    "from urllib3.exceptions import InsecureRequestWarning\n",
    "\n",
    "warnings.filterwarnings(\"ignore\", category=InsecureRequestWarning)\n",
    "from elasticsearch import Elasticsearch\n",
    "\n",
    "es = Elasticsearch(\n",
    "    hosts=[{'host': 'localhost', 'port': 9200}],\n",
    "    scheme='https',\n",
    "    verify_certs=False,\n",
    "    http_auth=('elastic','peQBjqFfi-FSUMDfjORi')\n",
    ")\n"
   ]
  },
  {
   "cell_type": "code",
   "execution_count": null,
   "id": "1890c77a-ed81-4707-a40d-32dc90a3352e",
   "metadata": {},
   "outputs": [],
   "source": [
    "# Check connection\n",
    "es.info()"
   ]
  },
  {
   "cell_type": "code",
   "execution_count": null,
   "id": "658adb35-fc2e-44ba-a412-04716f5cb583",
   "metadata": {},
   "outputs": [],
   "source": [
    "!curl -X GET \"http://localhost:9200\""
   ]
  },
  {
   "cell_type": "code",
   "execution_count": 3,
   "id": "64f51c04-3df6-48b6-9ff5-db9db8fe45d3",
   "metadata": {},
   "outputs": [],
   "source": [
    "from haystack_integrations.document_stores.elasticsearch import ElasticsearchDocumentStore\n",
    "from haystack import Document\n",
    "#from elasticsearch import Elasticsearch\n",
    "\n",
    "# Initialize the Elasticsearch Document Store\n",
    "document_store = ElasticsearchDocumentStore(\n",
    "    hosts=[\"http://localhost:9200\"]\n",
    ")\n",
    "\n",
    "documents = [\n",
    "    Document(content=\"This is the first document.\"),\n",
    "    Document(content=\"This is the second document.\")\n",
    "]"
   ]
  },
  {
   "cell_type": "code",
   "execution_count": 4,
   "id": "e489239b-af54-4d00-ad1e-3e4eec7efce5",
   "metadata": {},
   "outputs": [
    {
     "ename": "TypeError",
     "evalue": "ElasticsearchDocumentStore.delete_documents() got an unexpected keyword argument 'filters'",
     "output_type": "error",
     "traceback": [
      "\u001b[0;31m---------------------------------------------------------------------------\u001b[0m",
      "\u001b[0;31mTypeError\u001b[0m                                 Traceback (most recent call last)",
      "Cell \u001b[0;32mIn[4], line 1\u001b[0m\n\u001b[0;32m----> 1\u001b[0m \u001b[43mdocument_store\u001b[49m\u001b[38;5;241;43m.\u001b[39;49m\u001b[43mdelete_documents\u001b[49m\u001b[43m(\u001b[49m\u001b[43mfilters\u001b[49m\u001b[38;5;241;43m=\u001b[39;49m\u001b[43m{\u001b[49m\u001b[38;5;124;43m\"\u001b[39;49m\u001b[38;5;124;43mid\u001b[39;49m\u001b[38;5;124;43m\"\u001b[39;49m\u001b[43m:\u001b[49m\u001b[43m \u001b[49m\u001b[43m[\u001b[49m\u001b[38;5;124;43m\"\u001b[39;49m\u001b[38;5;124;43m44c92a45a97fb23eaed24a20fc80da937d53735b23ea60550fea1c4654a8a370\u001b[39;49m\u001b[38;5;124;43m\"\u001b[39;49m\u001b[43m,\u001b[49m\u001b[43m \u001b[49m\u001b[38;5;124;43m\"\u001b[39;49m\u001b[38;5;124;43mcda6bc67977d185948c791d9ef01d11a42b2457c503df2808ddb44d5a2b6cfb1\u001b[39;49m\u001b[38;5;124;43m\"\u001b[39;49m\u001b[43m]\u001b[49m\u001b[43m}\u001b[49m\u001b[43m)\u001b[49m\n",
      "\u001b[0;31mTypeError\u001b[0m: ElasticsearchDocumentStore.delete_documents() got an unexpected keyword argument 'filters'"
     ]
    }
   ],
   "source": [
    "document_store.delete_by_id(ids=[\"44c92a45a97fb23eaed24a20fc80da937d53735b23ea60550fea1c4654a8a370\", \"cda6bc67977d185948c791d9ef01d11a42b2457c503df2808ddb44d5a2b6cfb1\"]})"
   ]
  },
  {
   "cell_type": "code",
   "execution_count": 2,
   "id": "617837e3-a35c-4574-ad96-f24471220e76",
   "metadata": {},
   "outputs": [
    {
     "ename": "NameError",
     "evalue": "name 'document_store' is not defined",
     "output_type": "error",
     "traceback": [
      "\u001b[0;31m---------------------------------------------------------------------------\u001b[0m",
      "\u001b[0;31mNameError\u001b[0m                                 Traceback (most recent call last)",
      "Cell \u001b[0;32mIn[2], line 5\u001b[0m\n\u001b[1;32m      1\u001b[0m documents \u001b[38;5;241m=\u001b[39m [\n\u001b[1;32m      2\u001b[0m     Document(content\u001b[38;5;241m=\u001b[39m\u001b[38;5;124m\"\u001b[39m\u001b[38;5;124mThis is the first document.\u001b[39m\u001b[38;5;124m\"\u001b[39m),\n\u001b[1;32m      3\u001b[0m     Document(content\u001b[38;5;241m=\u001b[39m\u001b[38;5;124m\"\u001b[39m\u001b[38;5;124mThis is the second document.\u001b[39m\u001b[38;5;124m\"\u001b[39m)\n\u001b[1;32m      4\u001b[0m ]\n\u001b[0;32m----> 5\u001b[0m \u001b[43mdocument_store\u001b[49m\u001b[38;5;241m.\u001b[39mwrite_documents(documents)\n\u001b[1;32m      6\u001b[0m \u001b[38;5;28mprint\u001b[39m(document_store\u001b[38;5;241m.\u001b[39mcount_documents())\n",
      "\u001b[0;31mNameError\u001b[0m: name 'document_store' is not defined"
     ]
    }
   ],
   "source": [
    "document_store.write_documents(documents)\n",
    "print(document_store.count_documents())"
   ]
  },
  {
   "cell_type": "code",
   "execution_count": null,
   "id": "f83b0d47-e964-4dc3-995d-fdff57f118ee",
   "metadata": {},
   "outputs": [],
   "source": []
  },
  {
   "cell_type": "code",
   "execution_count": null,
   "id": "e9980e19-6971-4a34-8324-66fdd07a57ea",
   "metadata": {},
   "outputs": [],
   "source": []
  },
  {
   "cell_type": "code",
   "execution_count": null,
   "id": "bd35a530-f30b-4a7a-bf50-bab3ab15c4c2",
   "metadata": {},
   "outputs": [],
   "source": []
  }
 ],
 "metadata": {
  "kernelspec": {
   "display_name": "Python 3 (ipykernel)",
   "language": "python",
   "name": "python3"
  },
  "language_info": {
   "codemirror_mode": {
    "name": "ipython",
    "version": 3
   },
   "file_extension": ".py",
   "mimetype": "text/x-python",
   "name": "python",
   "nbconvert_exporter": "python",
   "pygments_lexer": "ipython3",
   "version": "3.10.14"
  }
 },
 "nbformat": 4,
 "nbformat_minor": 5
}
