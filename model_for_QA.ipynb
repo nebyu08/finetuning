{
 "cells": [
  {
   "cell_type": "code",
   "execution_count": 1,
   "id": "1e4d08db-c551-4cf0-a8c7-a30eb99de9ca",
   "metadata": {},
   "outputs": [
    {
     "name": "stderr",
     "output_type": "stream",
     "text": [
      "/home/nebiyu/miniconda3/envs/tune/lib/python3.10/site-packages/tqdm/auto.py:21: TqdmWarning: IProgress not found. Please update jupyter and ipywidgets. See https://ipywidgets.readthedocs.io/en/stable/user_install.html\n",
      "  from .autonotebook import tqdm as notebook_tqdm\n"
     ]
    }
   ],
   "source": [
    "from matplotlib import pyplot as plt\n",
    "from datasets import get_dataset_config_names\n",
    "from datasets import load_dataset\n",
    "import pandas as pd"
   ]
  },
  {
   "cell_type": "code",
   "execution_count": 2,
   "id": "18cbb2df-14ed-41c4-a837-d1526b5d3614",
   "metadata": {},
   "outputs": [
    {
     "data": {
      "text/plain": [
       "['books', 'electronics', 'grocery', 'movies', 'restaurants', 'tripadvisor']"
      ]
     },
     "execution_count": 2,
     "metadata": {},
     "output_type": "execute_result"
    }
   ],
   "source": [
    "domains=get_dataset_config_names(\"subjqa\")\n",
    "domains"
   ]
  },
  {
   "cell_type": "code",
   "execution_count": 3,
   "id": "78f2e246-c837-428a-8721-f9efb1966952",
   "metadata": {},
   "outputs": [],
   "source": [
    "subjqa=load_dataset(\"subjqa\",name=\"electronics\")"
   ]
  },
  {
   "cell_type": "code",
   "execution_count": 4,
   "id": "63639356-94b3-43f8-97f4-21b1705038f9",
   "metadata": {},
   "outputs": [
    {
     "data": {
      "text/plain": [
       "DatasetDict({\n",
       "    train: Dataset({\n",
       "        features: ['domain', 'nn_mod', 'nn_asp', 'query_mod', 'query_asp', 'q_reviews_id', 'question_subj_level', 'ques_subj_score', 'is_ques_subjective', 'review_id', 'id', 'title', 'context', 'question', 'answers'],\n",
       "        num_rows: 1295\n",
       "    })\n",
       "    test: Dataset({\n",
       "        features: ['domain', 'nn_mod', 'nn_asp', 'query_mod', 'query_asp', 'q_reviews_id', 'question_subj_level', 'ques_subj_score', 'is_ques_subjective', 'review_id', 'id', 'title', 'context', 'question', 'answers'],\n",
       "        num_rows: 358\n",
       "    })\n",
       "    validation: Dataset({\n",
       "        features: ['domain', 'nn_mod', 'nn_asp', 'query_mod', 'query_asp', 'q_reviews_id', 'question_subj_level', 'ques_subj_score', 'is_ques_subjective', 'review_id', 'id', 'title', 'context', 'question', 'answers'],\n",
       "        num_rows: 255\n",
       "    })\n",
       "})"
      ]
     },
     "execution_count": 4,
     "metadata": {},
     "output_type": "execute_result"
    }
   ],
   "source": [
    "subjqa"
   ]
  },
  {
   "cell_type": "code",
   "execution_count": 5,
   "id": "f3725c92-0385-4030-8a09-bb6807098998",
   "metadata": {},
   "outputs": [
    {
     "name": "stdout",
     "output_type": "stream",
     "text": [
      "dict_keys(['domain', 'nn_mod', 'nn_asp', 'query_mod', 'query_asp', 'q_reviews_id', 'question_subj_level', 'ques_subj_score', 'is_ques_subjective', 'review_id', 'id', 'title', 'context', 'question', 'answers'])\n"
     ]
    }
   ],
   "source": [
    "print(subjqa[\"train\"][1].keys())"
   ]
  },
  {
   "cell_type": "code",
   "execution_count": 6,
   "id": "56d6acba-5fad-4245-98c1-c2bee3846904",
   "metadata": {},
   "outputs": [
    {
     "name": "stdout",
     "output_type": "stream",
     "text": [
      "Is this music song have a goo bass?\n"
     ]
    }
   ],
   "source": [
    "print(subjqa[\"train\"][1][\"question\"])"
   ]
  },
  {
   "cell_type": "code",
   "execution_count": 7,
   "id": "cb7d44ad-8fdb-4d05-adac-5eed01c6be64",
   "metadata": {},
   "outputs": [
    {
     "name": "stdout",
     "output_type": "stream",
     "text": [
      "{'text': ['Bass is weak as expected', 'Bass is weak as expected, even with EQ adjusted up'], 'answer_start': [1302, 1302], 'answer_subj_level': [1, 1], 'ans_subj_score': [0.5083333253860474, 0.5083333253860474], 'is_ans_subjective': [True, True]}\n"
     ]
    }
   ],
   "source": [
    "print(subjqa[\"train\"][1][\"answers\"])"
   ]
  },
  {
   "cell_type": "code",
   "execution_count": 8,
   "id": "0756f445-71a8-4bca-8e41-376b962f343f",
   "metadata": {},
   "outputs": [
    {
     "name": "stdout",
     "output_type": "stream",
     "text": [
      "dict_keys(['text', 'answer_start', 'answer_subj_level', 'ans_subj_score', 'is_ans_subjective'])\n"
     ]
    }
   ],
   "source": [
    "print(subjqa[\"train\"][\"answers\"][1].keys())"
   ]
  },
  {
   "cell_type": "markdown",
   "id": "194dabbf-f165-4265-845d-32a0ddf7c28e",
   "metadata": {},
   "source": [
    "# turn the data into dataframe"
   ]
  },
  {
   "cell_type": "code",
   "execution_count": 9,
   "id": "362cd57a-ac1d-4dc2-ae27-5f27d063e2d6",
   "metadata": {},
   "outputs": [],
   "source": [
    "dfs={label:data.to_pandas() for label,data in subjqa.flatten().items()}"
   ]
  },
  {
   "cell_type": "code",
   "execution_count": 10,
   "id": "b009e5ac-9bc2-4d72-b726-44209e5c89ab",
   "metadata": {},
   "outputs": [
    {
     "data": {
      "text/plain": [
       "1908"
      ]
     },
     "execution_count": 10,
     "metadata": {},
     "output_type": "execute_result"
    }
   ],
   "source": [
    "1295+358+255"
   ]
  },
  {
   "cell_type": "code",
   "execution_count": 11,
   "id": "4d198594-5a8f-4e63-acaf-8465f978cbbe",
   "metadata": {},
   "outputs": [
    {
     "data": {
      "text/plain": [
       "dict"
      ]
     },
     "execution_count": 11,
     "metadata": {},
     "output_type": "execute_result"
    }
   ],
   "source": [
    "type(dfs)"
   ]
  },
  {
   "cell_type": "code",
   "execution_count": 12,
   "id": "5c32a42a-cde2-48b1-9dda-8eab04da6d4b",
   "metadata": {},
   "outputs": [
    {
     "name": "stdout",
     "output_type": "stream",
     "text": [
      "train has 1295 number of elements\n",
      "test has 358 number of elements\n",
      "validation has 255 number of elements\n"
     ]
    }
   ],
   "source": [
    "for split,df in dfs.items():\n",
    "    print(f\"{split} has {len(df)} number of elements\")"
   ]
  },
  {
   "cell_type": "code",
   "execution_count": 13,
   "id": "c42282e2-40e6-447d-b3c5-73150d138ae9",
   "metadata": {},
   "outputs": [],
   "source": [
    "qa_columns=[\"title\",\"question\",\"answers.text\",\"answers.answer_start\",\"context\"]\n",
    "\n",
    "sample=dfs[\"train\"][qa_columns].sample(2,random_state=7)"
   ]
  },
  {
   "cell_type": "code",
   "execution_count": 14,
   "id": "83e6410c-6c3e-4164-9fac-a299ef523eea",
   "metadata": {},
   "outputs": [
    {
     "data": {
      "text/html": [
       "<div>\n",
       "<style scoped>\n",
       "    .dataframe tbody tr th:only-of-type {\n",
       "        vertical-align: middle;\n",
       "    }\n",
       "\n",
       "    .dataframe tbody tr th {\n",
       "        vertical-align: top;\n",
       "    }\n",
       "\n",
       "    .dataframe thead th {\n",
       "        text-align: right;\n",
       "    }\n",
       "</style>\n",
       "<table border=\"1\" class=\"dataframe\">\n",
       "  <thead>\n",
       "    <tr style=\"text-align: right;\">\n",
       "      <th></th>\n",
       "      <th>title</th>\n",
       "      <th>question</th>\n",
       "      <th>answers.text</th>\n",
       "      <th>answers.answer_start</th>\n",
       "      <th>context</th>\n",
       "    </tr>\n",
       "  </thead>\n",
       "  <tbody>\n",
       "    <tr>\n",
       "      <th>791</th>\n",
       "      <td>B005DKZTMG</td>\n",
       "      <td>Does the keyboard lightweight?</td>\n",
       "      <td>[this keyboard is compact]</td>\n",
       "      <td>[215]</td>\n",
       "      <td>I really like this keyboard.  I give it 4 star...</td>\n",
       "    </tr>\n",
       "    <tr>\n",
       "      <th>1159</th>\n",
       "      <td>B00AAIPT76</td>\n",
       "      <td>How is the battery?</td>\n",
       "      <td>[]</td>\n",
       "      <td>[]</td>\n",
       "      <td>I bought this after the first spare gopro batt...</td>\n",
       "    </tr>\n",
       "  </tbody>\n",
       "</table>\n",
       "</div>"
      ],
      "text/plain": [
       "           title                        question                answers.text  \\\n",
       "791   B005DKZTMG  Does the keyboard lightweight?  [this keyboard is compact]   \n",
       "1159  B00AAIPT76             How is the battery?                          []   \n",
       "\n",
       "     answers.answer_start                                            context  \n",
       "791                 [215]  I really like this keyboard.  I give it 4 star...  \n",
       "1159                   []  I bought this after the first spare gopro batt...  "
      ]
     },
     "execution_count": 14,
     "metadata": {},
     "output_type": "execute_result"
    }
   ],
   "source": [
    "sample"
   ]
  },
  {
   "cell_type": "code",
   "execution_count": 15,
   "id": "6a43affd-f95f-4a23-ae34-ebf7622d507d",
   "metadata": {},
   "outputs": [],
   "source": [
    "#lets extracte the text \n",
    "start_index=sample[\"answers.answer_start\"].iloc[0][0]\n",
    "end_index=start_index+len(sample[\"answers.text\"].iloc[0][0])"
   ]
  },
  {
   "cell_type": "code",
   "execution_count": 16,
   "id": "75985be9-3e0c-4518-b967-ad2bb1ecf2e8",
   "metadata": {},
   "outputs": [
    {
     "data": {
      "text/plain": [
       "'this keyboard is compact'"
      ]
     },
     "execution_count": 16,
     "metadata": {},
     "output_type": "execute_result"
    }
   ],
   "source": [
    "sample[\"context\"].iloc[0][start_index:end_index]"
   ]
  },
  {
   "cell_type": "code",
   "execution_count": 17,
   "id": "88d2664e-3beb-4ab6-be75-89671b26ea6d",
   "metadata": {},
   "outputs": [
    {
     "data": {
      "text/plain": [
       "(239, 215)"
      ]
     },
     "execution_count": 17,
     "metadata": {},
     "output_type": "execute_result"
    }
   ],
   "source": [
    "end_index,start_index"
   ]
  },
  {
   "cell_type": "code",
   "execution_count": 18,
   "id": "91b12398-72f7-4365-a0b6-b7c7708c03be",
   "metadata": {},
   "outputs": [
    {
     "data": {
      "text/plain": [
       "\"I really like this keyboard.  I give it 4 stars because it doesn't have a CAPS LOCK key so I never know if my caps are on.  But for the price, it really suffices as a wireless keyboard.  I have very large hands and this keyboard is compact, but I have no complaints.\""
      ]
     },
     "execution_count": 18,
     "metadata": {},
     "output_type": "execute_result"
    }
   ],
   "source": [
    "sample['context'].iloc[0]"
   ]
  },
  {
   "cell_type": "code",
   "execution_count": 19,
   "id": "4af868cb-2792-47e7-825e-ddd16d2bfdbe",
   "metadata": {},
   "outputs": [
    {
     "data": {
      "text/html": [
       "<div>\n",
       "<style scoped>\n",
       "    .dataframe tbody tr th:only-of-type {\n",
       "        vertical-align: middle;\n",
       "    }\n",
       "\n",
       "    .dataframe tbody tr th {\n",
       "        vertical-align: top;\n",
       "    }\n",
       "\n",
       "    .dataframe thead th {\n",
       "        text-align: right;\n",
       "    }\n",
       "</style>\n",
       "<table border=\"1\" class=\"dataframe\">\n",
       "  <thead>\n",
       "    <tr style=\"text-align: right;\">\n",
       "      <th></th>\n",
       "      <th>domain</th>\n",
       "      <th>nn_mod</th>\n",
       "      <th>nn_asp</th>\n",
       "      <th>query_mod</th>\n",
       "      <th>query_asp</th>\n",
       "      <th>q_reviews_id</th>\n",
       "      <th>question_subj_level</th>\n",
       "      <th>ques_subj_score</th>\n",
       "      <th>is_ques_subjective</th>\n",
       "      <th>review_id</th>\n",
       "      <th>id</th>\n",
       "      <th>title</th>\n",
       "      <th>context</th>\n",
       "      <th>question</th>\n",
       "      <th>answers.text</th>\n",
       "      <th>answers.answer_start</th>\n",
       "      <th>answers.answer_subj_level</th>\n",
       "      <th>answers.ans_subj_score</th>\n",
       "      <th>answers.is_ans_subjective</th>\n",
       "    </tr>\n",
       "  </thead>\n",
       "  <tbody>\n",
       "    <tr>\n",
       "      <th>0</th>\n",
       "      <td>electronics</td>\n",
       "      <td>great</td>\n",
       "      <td>bass response</td>\n",
       "      <td>excellent</td>\n",
       "      <td>bass</td>\n",
       "      <td>0514ee34b672623dff659334a25b599b</td>\n",
       "      <td>5</td>\n",
       "      <td>0.50</td>\n",
       "      <td>False</td>\n",
       "      <td>882b1e2745a4779c8f17b3d4406b91c7</td>\n",
       "      <td>2543d296da9766d8d17d040ecc781699</td>\n",
       "      <td>B00001P4ZH</td>\n",
       "      <td>I have had Koss headphones in the past, Pro 4A...</td>\n",
       "      <td>How is the bass?</td>\n",
       "      <td>[]</td>\n",
       "      <td>[]</td>\n",
       "      <td>[]</td>\n",
       "      <td>[]</td>\n",
       "      <td>[]</td>\n",
       "    </tr>\n",
       "    <tr>\n",
       "      <th>1</th>\n",
       "      <td>electronics</td>\n",
       "      <td>harsh</td>\n",
       "      <td>high</td>\n",
       "      <td>not strong</td>\n",
       "      <td>bass</td>\n",
       "      <td>7c46670208f7bf5497480fbdbb44561a</td>\n",
       "      <td>1</td>\n",
       "      <td>0.50</td>\n",
       "      <td>False</td>\n",
       "      <td>ce76793f036494eabe07b33a9a67288a</td>\n",
       "      <td>d476830bf9282e2b9033e2bb44bbb995</td>\n",
       "      <td>B00001P4ZH</td>\n",
       "      <td>To anyone who hasn't tried all the various typ...</td>\n",
       "      <td>Is this music song have a goo bass?</td>\n",
       "      <td>[Bass is weak as expected, Bass is weak as exp...</td>\n",
       "      <td>[1302, 1302]</td>\n",
       "      <td>[1, 1]</td>\n",
       "      <td>[0.5083333, 0.5083333]</td>\n",
       "      <td>[True, True]</td>\n",
       "    </tr>\n",
       "    <tr>\n",
       "      <th>2</th>\n",
       "      <td>electronics</td>\n",
       "      <td>neutral</td>\n",
       "      <td>sound</td>\n",
       "      <td>present</td>\n",
       "      <td>bass</td>\n",
       "      <td>8fbf26792c438aa83178c2d507af5d77</td>\n",
       "      <td>1</td>\n",
       "      <td>0.50</td>\n",
       "      <td>False</td>\n",
       "      <td>d040f2713caa2aff0ce95affb40e12c2</td>\n",
       "      <td>455575557886d6dfeea5aa19577e5de4</td>\n",
       "      <td>B00001P4ZH</td>\n",
       "      <td>I have had many sub-$100 headphones from $5 Pa...</td>\n",
       "      <td>How is the bass?</td>\n",
       "      <td>[The only fault in the sound is the bass]</td>\n",
       "      <td>[650]</td>\n",
       "      <td>[2]</td>\n",
       "      <td>[0.6333333]</td>\n",
       "      <td>[True]</td>\n",
       "    </tr>\n",
       "    <tr>\n",
       "      <th>3</th>\n",
       "      <td>electronics</td>\n",
       "      <td>muddy</td>\n",
       "      <td>bass</td>\n",
       "      <td>awesome</td>\n",
       "      <td>bass</td>\n",
       "      <td>9876fd06ed8f075fcad70d1e30e7e8be</td>\n",
       "      <td>1</td>\n",
       "      <td>0.50</td>\n",
       "      <td>False</td>\n",
       "      <td>043e7162df91f6ea916c790c8a6f6b22</td>\n",
       "      <td>6895a59b470d8feee0f39da6c53a92e5</td>\n",
       "      <td>B00001WRSJ</td>\n",
       "      <td>My sister's Bose headphones finally died and s...</td>\n",
       "      <td>How is the audio bass?</td>\n",
       "      <td>[the best of all of them]</td>\n",
       "      <td>[1609]</td>\n",
       "      <td>[1]</td>\n",
       "      <td>[0.3]</td>\n",
       "      <td>[False]</td>\n",
       "    </tr>\n",
       "    <tr>\n",
       "      <th>4</th>\n",
       "      <td>electronics</td>\n",
       "      <td>perfect</td>\n",
       "      <td>bass</td>\n",
       "      <td>incredible</td>\n",
       "      <td>sound</td>\n",
       "      <td>16506b53e2d4c2b6a65881d9462256c2</td>\n",
       "      <td>1</td>\n",
       "      <td>0.65</td>\n",
       "      <td>True</td>\n",
       "      <td>29ccd7e690050e2951be49289e915382</td>\n",
       "      <td>7a2173c502da97c5bd5950eae7cd7430</td>\n",
       "      <td>B00001WRSJ</td>\n",
       "      <td>Wow. Just wow. I'm a 22 yr old with a crazy ob...</td>\n",
       "      <td>Why do I have an incredible sound?</td>\n",
       "      <td>[The sound is so crisp, crazy obsession with s...</td>\n",
       "      <td>[141, 38]</td>\n",
       "      <td>[1, 1]</td>\n",
       "      <td>[0.40833333, 0.40833333]</td>\n",
       "      <td>[False, False]</td>\n",
       "    </tr>\n",
       "  </tbody>\n",
       "</table>\n",
       "</div>"
      ],
      "text/plain": [
       "        domain   nn_mod         nn_asp   query_mod query_asp  \\\n",
       "0  electronics    great  bass response   excellent      bass   \n",
       "1  electronics    harsh           high  not strong      bass   \n",
       "2  electronics  neutral          sound     present      bass   \n",
       "3  electronics    muddy           bass     awesome      bass   \n",
       "4  electronics  perfect           bass  incredible     sound   \n",
       "\n",
       "                       q_reviews_id  question_subj_level  ques_subj_score  \\\n",
       "0  0514ee34b672623dff659334a25b599b                    5             0.50   \n",
       "1  7c46670208f7bf5497480fbdbb44561a                    1             0.50   \n",
       "2  8fbf26792c438aa83178c2d507af5d77                    1             0.50   \n",
       "3  9876fd06ed8f075fcad70d1e30e7e8be                    1             0.50   \n",
       "4  16506b53e2d4c2b6a65881d9462256c2                    1             0.65   \n",
       "\n",
       "   is_ques_subjective                         review_id  \\\n",
       "0               False  882b1e2745a4779c8f17b3d4406b91c7   \n",
       "1               False  ce76793f036494eabe07b33a9a67288a   \n",
       "2               False  d040f2713caa2aff0ce95affb40e12c2   \n",
       "3               False  043e7162df91f6ea916c790c8a6f6b22   \n",
       "4                True  29ccd7e690050e2951be49289e915382   \n",
       "\n",
       "                                 id       title  \\\n",
       "0  2543d296da9766d8d17d040ecc781699  B00001P4ZH   \n",
       "1  d476830bf9282e2b9033e2bb44bbb995  B00001P4ZH   \n",
       "2  455575557886d6dfeea5aa19577e5de4  B00001P4ZH   \n",
       "3  6895a59b470d8feee0f39da6c53a92e5  B00001WRSJ   \n",
       "4  7a2173c502da97c5bd5950eae7cd7430  B00001WRSJ   \n",
       "\n",
       "                                             context  \\\n",
       "0  I have had Koss headphones in the past, Pro 4A...   \n",
       "1  To anyone who hasn't tried all the various typ...   \n",
       "2  I have had many sub-$100 headphones from $5 Pa...   \n",
       "3  My sister's Bose headphones finally died and s...   \n",
       "4  Wow. Just wow. I'm a 22 yr old with a crazy ob...   \n",
       "\n",
       "                              question  \\\n",
       "0                     How is the bass?   \n",
       "1  Is this music song have a goo bass?   \n",
       "2                     How is the bass?   \n",
       "3               How is the audio bass?   \n",
       "4   Why do I have an incredible sound?   \n",
       "\n",
       "                                        answers.text answers.answer_start  \\\n",
       "0                                                 []                   []   \n",
       "1  [Bass is weak as expected, Bass is weak as exp...         [1302, 1302]   \n",
       "2          [The only fault in the sound is the bass]                [650]   \n",
       "3                          [the best of all of them]               [1609]   \n",
       "4  [The sound is so crisp, crazy obsession with s...            [141, 38]   \n",
       "\n",
       "  answers.answer_subj_level    answers.ans_subj_score  \\\n",
       "0                        []                        []   \n",
       "1                    [1, 1]    [0.5083333, 0.5083333]   \n",
       "2                       [2]               [0.6333333]   \n",
       "3                       [1]                     [0.3]   \n",
       "4                    [1, 1]  [0.40833333, 0.40833333]   \n",
       "\n",
       "  answers.is_ans_subjective  \n",
       "0                        []  \n",
       "1              [True, True]  \n",
       "2                    [True]  \n",
       "3                   [False]  \n",
       "4            [False, False]  "
      ]
     },
     "execution_count": 19,
     "metadata": {},
     "output_type": "execute_result"
    }
   ],
   "source": [
    "dfs[\"train\"].head()"
   ]
  },
  {
   "cell_type": "markdown",
   "id": "a23510fa-c53e-42ad-8dce-b6dc77b85503",
   "metadata": {},
   "source": [
    "# count question that start with certain phrases"
   ]
  },
  {
   "cell_type": "code",
   "execution_count": 20,
   "id": "b3849d8b-02e2-4255-a9bb-ae0622db9c8c",
   "metadata": {},
   "outputs": [],
   "source": [
    "counts = {}\n",
    "question_types = [\"What\", \"How\", \"Is\", \"Does\", \"Do\", \"Was\", \"Where\", \"Why\"]"
   ]
  },
  {
   "cell_type": "code",
   "execution_count": 21,
   "id": "9fcc99e5-c813-4ec8-b6f9-d9245a119ab7",
   "metadata": {},
   "outputs": [],
   "source": [
    "for q in question_types:\n",
    "    counts[q]=dfs[\"train\"][\"question\"].str.startswith(q).value_counts()[True]"
   ]
  },
  {
   "cell_type": "markdown",
   "id": "f1dde557-3a74-44b1-9fa1-78d3c3b664cd",
   "metadata": {},
   "source": [
    "## ploting "
   ]
  },
  {
   "cell_type": "code",
   "execution_count": 22,
   "id": "b7b320e7-4b94-44ad-8125-c9bd14d5f5e3",
   "metadata": {},
   "outputs": [
    {
     "data": {
      "image/png": "[encoded data removed]",
      "text/plain": [
       "<Figure size 640x480 with 1 Axes>"
      ]
     },
     "metadata": {},
     "output_type": "display_data"
    }
   ],
   "source": [
    "pd.Series(counts).sort_values().plot.barh()\n",
    "plt.title(\"frequency of question\")\n",
    "plt.show()"
   ]
  },
  {
   "cell_type": "code",
   "execution_count": 23,
   "id": "7e3bee80-9970-4007-91b3-7c37f588139c",
   "metadata": {},
   "outputs": [
    {
     "name": "stdout",
     "output_type": "stream",
     "text": [
      "How is the camera?\n",
      "How do you like the control?\n",
      "How fast is the charger?\n",
      "What is direction?\n",
      "What is the quality of the construction of the bag?\n",
      "What is your impression of the product?\n",
      "Is this how zoom works?\n",
      "Is sound clear?\n",
      "Is it a wireless keyboard?\n"
     ]
    }
   ],
   "source": [
    "few_question=[\"How\",\"What\",\"Is\"]\n",
    "\n",
    "for questions in few_question:\n",
    "    for question in (dfs[\"train\"][dfs[\"train\"].question.str.startswith(questions)].sample(n=3,random_state=42)['question']):\n",
    "        print(question)"
   ]
  },
  {
   "cell_type": "markdown",
   "id": "112e9f1f-abe7-4788-828d-a8dfcce2f783",
   "metadata": {},
   "source": [
    "# lets load the model"
   ]
  },
  {
   "cell_type": "code",
   "execution_count": 24,
   "id": "5792e777-79f3-41e7-a7c3-c2fbaa35aee3",
   "metadata": {},
   "outputs": [],
   "source": [
    "from transformers import AutoTokenizer"
   ]
  },
  {
   "cell_type": "code",
   "execution_count": 25,
   "id": "56ea3006-e02f-4683-b4e8-6e6aae3f1194",
   "metadata": {},
   "outputs": [
    {
     "name": "stderr",
     "output_type": "stream",
     "text": [
      "/home/nebiyu/miniconda3/envs/tune/lib/python3.10/site-packages/transformers/tokenization_utils_base.py:1601: FutureWarning: `clean_up_tokenization_spaces` was not set. It will be set to `True` by default. This behavior will be depracted in transformers v4.45, and will be then set to `False` by default. For more details check this issue: https://github.com/huggingface/transformers/issues/31884\n",
      "  warnings.warn(\n"
     ]
    }
   ],
   "source": [
    "model_name=\"deepset/minilm-uncased-squad2\"\n",
    "tokenizer=AutoTokenizer.from_pretrained(model_name)"
   ]
  },
  {
   "cell_type": "code",
   "execution_count": 26,
   "id": "4b5514ef-8c5f-4919-93a2-d6be01fc3d94",
   "metadata": {},
   "outputs": [],
   "source": [
    "import torch"
   ]
  },
  {
   "cell_type": "code",
   "execution_count": 27,
   "id": "5deaf7a8-a84b-4697-acbe-cabbc4010d66",
   "metadata": {},
   "outputs": [],
   "source": [
    "question = \"How much music can this hold?\"\n",
    "context = \"\"\"An MP3 is about 1 MB/minute, so about 6000 hours depending on \\\n",
    "file size.\"\"\"\n",
    "\n",
    "inputs=tokenizer(question,context,return_tensors=\"pt\")"
   ]
  },
  {
   "cell_type": "code",
   "execution_count": 28,
   "id": "b9bf0933-ab72-4f38-870e-b34189f5a15d",
   "metadata": {},
   "outputs": [
    {
     "data": {
      "text/plain": [
       "{'input_ids': tensor([[  101,  2129,  2172,  2189,  2064,  2023,  2907,  1029,   102,  2019,\n",
       "         23378,  2003,  2055,  1015, 16914,  1013,  3371,  1010,  2061,  2055,\n",
       "         25961,  2847,  5834,  2006,  5371,  2946,  1012,   102]]), 'token_type_ids': tensor([[0, 0, 0, 0, 0, 0, 0, 0, 0, 1, 1, 1, 1, 1, 1, 1, 1, 1, 1, 1, 1, 1, 1, 1,\n",
       "         1, 1, 1, 1]]), 'attention_mask': tensor([[1, 1, 1, 1, 1, 1, 1, 1, 1, 1, 1, 1, 1, 1, 1, 1, 1, 1, 1, 1, 1, 1, 1, 1,\n",
       "         1, 1, 1, 1]])}"
      ]
     },
     "execution_count": 28,
     "metadata": {},
     "output_type": "execute_result"
    }
   ],
   "source": [
    "inputs"
   ]
  },
  {
   "cell_type": "code",
   "execution_count": 29,
   "id": "1d0157ca-1b1f-4a2c-ac3f-ae3f23879bf5",
   "metadata": {},
   "outputs": [
    {
     "data": {
      "text/plain": [
       "'[CLS] how much music can this hold? [SEP] an mp3 is about 1 mb / minute, so about 6000 hours depending on file size. [SEP]'"
      ]
     },
     "execution_count": 29,
     "metadata": {},
     "output_type": "execute_result"
    }
   ],
   "source": [
    "tokenizer.decode(inputs[\"input_ids\"][0])"
   ]
  },
  {
   "cell_type": "code",
   "execution_count": 30,
   "id": "12bb8aff-8ede-4f53-993c-95e3164f8be3",
   "metadata": {},
   "outputs": [
    {
     "data": {
      "text/plain": [
       "'[CLS] how much music can this hold? [SEP] an mp3 is about 1 mb / minute, so about 6000 hours depending on file size. [SEP]'"
      ]
     },
     "execution_count": 30,
     "metadata": {},
     "output_type": "execute_result"
    }
   ],
   "source": [
    "tokenizer.decode(inputs[\"input_ids\"][0])"
   ]
  },
  {
   "cell_type": "markdown",
   "id": "93707454-97eb-4fad-ba23-e807a316c3a0",
   "metadata": {},
   "source": [
    "# pass input to the model"
   ]
  },
  {
   "cell_type": "code",
   "execution_count": 31,
   "id": "46171247-acad-43ff-bc42-bf250a125b10",
   "metadata": {},
   "outputs": [],
   "source": [
    "import torch\n",
    "from transformers import AutoModelForQuestionAnswering"
   ]
  },
  {
   "cell_type": "code",
   "execution_count": 32,
   "id": "a042108b-8ec5-4976-966d-209af447348f",
   "metadata": {},
   "outputs": [
    {
     "name": "stderr",
     "output_type": "stream",
     "text": [
      "Some weights of the model checkpoint at deepset/minilm-uncased-squad2 were not used when initializing BertForQuestionAnswering: ['bert.pooler.dense.bias', 'bert.pooler.dense.weight']\n",
      "- This IS expected if you are initializing BertForQuestionAnswering from the checkpoint of a model trained on another task or with another architecture (e.g. initializing a BertForSequenceClassification model from a BertForPreTraining model).\n",
      "- This IS NOT expected if you are initializing BertForQuestionAnswering from the checkpoint of a model that you expect to be exactly identical (initializing a BertForSequenceClassification model from a BertForSequenceClassification model).\n"
     ]
    }
   ],
   "source": [
    "model=AutoModelForQuestionAnswering.from_pretrained(model_name)"
   ]
  },
  {
   "cell_type": "code",
   "execution_count": 33,
   "id": "8dc492ce-04c5-48e1-b88f-715c677ec1a9",
   "metadata": {},
   "outputs": [
    {
     "name": "stdout",
     "output_type": "stream",
     "text": [
      "QuestionAnsweringModelOutput(loss=None, start_logits=tensor([[-0.9862, -4.7750, -5.4025, -5.2378, -5.2863, -5.5117, -4.9819, -6.1880,\n",
      "         -0.9862,  0.2596, -0.2144, -1.7136,  3.7806,  4.8561, -1.0546, -3.9097,\n",
      "         -1.7374, -4.5944, -1.4278,  3.9949,  5.0391, -0.2018, -3.0193, -4.8549,\n",
      "         -2.3107, -3.5110, -3.5713, -0.9862]]), end_logits=tensor([[-0.9623, -5.4733, -5.0326, -5.1639, -5.4278, -5.5151, -5.1749, -4.6233,\n",
      "         -0.9623, -3.7855, -0.8715, -3.7745, -3.0161, -1.1780,  0.1758, -2.7365,\n",
      "          4.8934,  0.3046, -3.1761, -3.2762,  0.8937,  5.6606, -0.3623, -4.9554,\n",
      "         -3.2531, -0.0914,  1.6211, -0.9623]]), hidden_states=None, attentions=None)\n"
     ]
    }
   ],
   "source": [
    "##pass the inputs\n",
    "with torch.no_grad():\n",
    "    outputs=model(**inputs)\n",
    "\n",
    "print(outputs)"
   ]
  },
  {
   "cell_type": "code",
   "execution_count": 34,
   "id": "f527617d-5c23-45cc-84aa-62e1271f1963",
   "metadata": {},
   "outputs": [],
   "source": [
    "#we get the start and end token\n",
    "start_logits=outputs.start_logits\n",
    "end_logits=outputs.end_logits"
   ]
  },
  {
   "cell_type": "code",
   "execution_count": 35,
   "id": "b140c13f-6a86-4f8f-b432-92820ec7f64e",
   "metadata": {},
   "outputs": [
    {
     "name": "stdout",
     "output_type": "stream",
     "text": [
      "torch.Size([1, 28])\n",
      "torch.Size([1, 28])\n",
      "torch.Size([1, 28])\n"
     ]
    }
   ],
   "source": [
    "print(start_logits.shape)\n",
    "print(end_logits.shape)\n",
    "print(inputs['input_ids'].shape)"
   ]
  },
  {
   "cell_type": "code",
   "execution_count": 36,
   "id": "e7009523-8505-49d1-b60b-85253725c190",
   "metadata": {},
   "outputs": [
    {
     "name": "stdout",
     "output_type": "stream",
     "text": [
      "tensor([[-0.9862, -4.7750, -5.4025, -5.2378, -5.2863, -5.5117, -4.9819, -6.1880,\n",
      "         -0.9862,  0.2596, -0.2144, -1.7136,  3.7806,  4.8561, -1.0546, -3.9097,\n",
      "         -1.7374, -4.5944, -1.4278,  3.9949,  5.0391, -0.2018, -3.0193, -4.8549,\n",
      "         -2.3107, -3.5110, -3.5713, -0.9862]])\n",
      "\n",
      "tensor([[-0.9623, -5.4733, -5.0326, -5.1639, -5.4278, -5.5151, -5.1749, -4.6233,\n",
      "         -0.9623, -3.7855, -0.8715, -3.7745, -3.0161, -1.1780,  0.1758, -2.7365,\n",
      "          4.8934,  0.3046, -3.1761, -3.2762,  0.8937,  5.6606, -0.3623, -4.9554,\n",
      "         -3.2531, -0.0914,  1.6211, -0.9623]])\n"
     ]
    }
   ],
   "source": [
    "print(start_logits)\n",
    "print()\n",
    "print(end_logits)"
   ]
  },
  {
   "cell_type": "markdown",
   "id": "12ef87aa-5ce4-466d-9885-08c6d2827d97",
   "metadata": {},
   "source": [
    "## extract answer"
   ]
  },
  {
   "cell_type": "code",
   "execution_count": 37,
   "id": "60e8fd5c-7165-4076-be51-2b01b820925f",
   "metadata": {},
   "outputs": [
    {
     "name": "stdout",
     "output_type": "stream",
     "text": [
      "question is How much music can this hold?\n",
      "answer is 6000 hours\n"
     ]
    }
   ],
   "source": [
    "start_idx=torch.argmax(start_logits)\n",
    "end_idx=torch.argmax(end_logits)+1\n",
    "answer_span=inputs['input_ids'][0][start_idx:end_idx]\n",
    "answer=tokenizer.decode(answer_span)\n",
    "\n",
    "print(f'question is {question}')\n",
    "print(f'answer is {answer}')"
   ]
  },
  {
   "cell_type": "markdown",
   "id": "e5ce0024-73c8-4f47-8196-ffa399887be3",
   "metadata": {},
   "source": [
    "# automate it with piepline"
   ]
  },
  {
   "cell_type": "code",
   "execution_count": 38,
   "id": "ac647ac1-8bfb-4280-a6ae-ad43df474f4a",
   "metadata": {},
   "outputs": [],
   "source": [
    "from transformers import pipeline"
   ]
  },
  {
   "cell_type": "code",
   "execution_count": 39,
   "id": "96d8edf2-cf96-4b29-bbb6-e94895abcb17",
   "metadata": {},
   "outputs": [],
   "source": [
    "pipe=pipeline(\"question-answering\",model=model,tokenizer=tokenizer)"
   ]
  },
  {
   "cell_type": "code",
   "execution_count": 40,
   "id": "09bb2ef0-62ba-4b6b-a883-5dd7c75134fd",
   "metadata": {},
   "outputs": [
    {
     "data": {
      "text/plain": [
       "[{'score': 0.2651605010032654, 'start': 38, 'end': 48, 'answer': '6000 hours'},\n",
       " {'score': 0.220830038189888,\n",
       "  'start': 16,\n",
       "  'end': 48,\n",
       "  'answer': '1 MB/minute, so about 6000 hours'},\n",
       " {'score': 0.10253624618053436,\n",
       "  'start': 16,\n",
       "  'end': 27,\n",
       "  'answer': '1 MB/minute'}]"
      ]
     },
     "execution_count": 40,
     "metadata": {},
     "output_type": "execute_result"
    }
   ],
   "source": [
    "pipe(question=question,context=context,top_k=3)"
   ]
  },
  {
   "cell_type": "markdown",
   "id": "925cd7b9-7c7e-4937-893a-fafec443d2bb",
   "metadata": {},
   "source": [
    "# more context size than model can handlem"
   ]
  },
  {
   "cell_type": "code",
   "execution_count": 41,
   "id": "669ae165-d7bc-4f3e-85a1-e6249c82db88",
   "metadata": {},
   "outputs": [],
   "source": [
    "example=dfs['train'].iloc[0][['question','context']]"
   ]
  },
  {
   "cell_type": "code",
   "execution_count": 42,
   "id": "f1ab7c44-fbef-4215-8154-b20e10c6f3fa",
   "metadata": {},
   "outputs": [
    {
     "name": "stderr",
     "output_type": "stream",
     "text": [
      "Truncation was not explicitly activated but `max_length` is provided a specific value, please use `truncation=True` to explicitly truncate examples to max length. Defaulting to 'longest_first' truncation strategy. If you encode pairs of sequences (GLUE-style) with the tokenizer you can select this strategy more precisely by providing a specific strategy to `truncation`.\n"
     ]
    }
   ],
   "source": [
    "tokenized_example=tokenizer(example['question'],example['context'],\n",
    "                           return_overflowing_tokens=True,max_length=100,stride=25\n",
    "                           )"
   ]
  },
  {
   "cell_type": "code",
   "execution_count": 43,
   "id": "210bd30d-ca44-4942-9625-9c42f4c0b906",
   "metadata": {},
   "outputs": [
    {
     "data": {
      "text/plain": [
       "{'input_ids': [[101, 2129, 2003, 1996, 3321, 1029, 102, 1045, 2031, 2018, 12849, 4757, 2132, 19093, 1999, 1996, 2627, 1010, 4013, 26424, 2050, 1998, 1053, 2480, 1011, 5585, 1012, 1996, 12849, 4757, 3417, 9331, 3217, 2003, 12109, 1998, 2038, 2307, 3321, 3433, 1012, 1996, 2147, 2307, 2007, 2026, 11924, 3042, 1998, 2064, 2022, 1000, 4565, 2039, 1000, 2000, 2022, 3344, 1999, 2026, 9055, 6598, 2030, 3274, 4524, 2302, 2893, 24514, 2098, 1012, 2027, 2024, 2200, 2422, 1998, 2079, 2025, 2514, 3082, 2030, 4562, 2091, 2006, 2115, 5551, 2130, 2044, 5962, 2000, 2189, 2007, 2068, 2006, 2035, 2154, 1012, 1996, 2614, 2003, 102], [101, 2129, 2003, 1996, 3321, 1029, 102, 1998, 2079, 2025, 2514, 3082, 2030, 4562, 2091, 2006, 2115, 5551, 2130, 2044, 5962, 2000, 2189, 2007, 2068, 2006, 2035, 2154, 1012, 1996, 2614, 2003, 2305, 1998, 2154, 2488, 2084, 2151, 4540, 1011, 13007, 2071, 2022, 1998, 2024, 2471, 2004, 2204, 2004, 1996, 4013, 26424, 2050, 1012, 2027, 2024, 1000, 2330, 2250, 1000, 2132, 19093, 2061, 2017, 3685, 2674, 1996, 3321, 2000, 1996, 10203, 4127, 1010, 2021, 2009, 3310, 2485, 1012, 2005, 1002, 3590, 1010, 2017, 3685, 2175, 3308, 1012, 102]], 'token_type_ids': [[0, 0, 0, 0, 0, 0, 0, 1, 1, 1, 1, 1, 1, 1, 1, 1, 1, 1, 1, 1, 1, 1, 1, 1, 1, 1, 1, 1, 1, 1, 1, 1, 1, 1, 1, 1, 1, 1, 1, 1, 1, 1, 1, 1, 1, 1, 1, 1, 1, 1, 1, 1, 1, 1, 1, 1, 1, 1, 1, 1, 1, 1, 1, 1, 1, 1, 1, 1, 1, 1, 1, 1, 1, 1, 1, 1, 1, 1, 1, 1, 1, 1, 1, 1, 1, 1, 1, 1, 1, 1, 1, 1, 1, 1, 1, 1, 1, 1, 1, 1], [0, 0, 0, 0, 0, 0, 0, 1, 1, 1, 1, 1, 1, 1, 1, 1, 1, 1, 1, 1, 1, 1, 1, 1, 1, 1, 1, 1, 1, 1, 1, 1, 1, 1, 1, 1, 1, 1, 1, 1, 1, 1, 1, 1, 1, 1, 1, 1, 1, 1, 1, 1, 1, 1, 1, 1, 1, 1, 1, 1, 1, 1, 1, 1, 1, 1, 1, 1, 1, 1, 1, 1, 1, 1, 1, 1, 1, 1, 1, 1, 1, 1, 1, 1, 1, 1, 1, 1]], 'attention_mask': [[1, 1, 1, 1, 1, 1, 1, 1, 1, 1, 1, 1, 1, 1, 1, 1, 1, 1, 1, 1, 1, 1, 1, 1, 1, 1, 1, 1, 1, 1, 1, 1, 1, 1, 1, 1, 1, 1, 1, 1, 1, 1, 1, 1, 1, 1, 1, 1, 1, 1, 1, 1, 1, 1, 1, 1, 1, 1, 1, 1, 1, 1, 1, 1, 1, 1, 1, 1, 1, 1, 1, 1, 1, 1, 1, 1, 1, 1, 1, 1, 1, 1, 1, 1, 1, 1, 1, 1, 1, 1, 1, 1, 1, 1, 1, 1, 1, 1, 1, 1], [1, 1, 1, 1, 1, 1, 1, 1, 1, 1, 1, 1, 1, 1, 1, 1, 1, 1, 1, 1, 1, 1, 1, 1, 1, 1, 1, 1, 1, 1, 1, 1, 1, 1, 1, 1, 1, 1, 1, 1, 1, 1, 1, 1, 1, 1, 1, 1, 1, 1, 1, 1, 1, 1, 1, 1, 1, 1, 1, 1, 1, 1, 1, 1, 1, 1, 1, 1, 1, 1, 1, 1, 1, 1, 1, 1, 1, 1, 1, 1, 1, 1, 1, 1, 1, 1, 1, 1]], 'overflow_to_sample_mapping': [0, 0]}"
      ]
     },
     "execution_count": 43,
     "metadata": {},
     "output_type": "execute_result"
    }
   ],
   "source": [
    "tokenized_example"
   ]
  },
  {
   "cell_type": "code",
   "execution_count": 44,
   "id": "e861db24-a75d-4bf5-b04a-ac33651fa7de",
   "metadata": {},
   "outputs": [
    {
     "name": "stdout",
     "output_type": "stream",
     "text": [
      "0 has 100 number of tokens \n",
      "1 has 88 number of tokens \n"
     ]
    }
   ],
   "source": [
    "for idx,tokens in enumerate(tokenized_example['input_ids']):\n",
    "    print(f\"{idx} has {len(tokens)} number of tokens \")"
   ]
  },
  {
   "cell_type": "code",
   "execution_count": 45,
   "id": "468d2cb3-a8da-4a87-a93d-b3f51bee6e03",
   "metadata": {
    "jupyter": {
     "source_hidden": true
    }
   },
   "outputs": [
    {
     "name": "stdout",
     "output_type": "stream",
     "text": [
      "[CLS] how is the bass? [SEP] i have had koss headphones in the past, pro 4aa and qz - 99. the koss portapro is portable and has great bass response. the work great with my android phone and can be \" rolled up \" to be carried in my motorcycle jacket or computer bag without getting crunched. they are very light and do not feel heavy or bear down on your ears even after listening to music with them on all day. the sound is [SEP]\n",
      "[CLS] how is the bass? [SEP] and do not feel heavy or bear down on your ears even after listening to music with them on all day. the sound is night and day better than any ear - bud could be and are almost as good as the pro 4aa. they are \" open air \" headphones so you cannot match the bass to the sealed types, but it comes close. for $ 32, you cannot go wrong. [SEP]\n"
     ]
    }
   ],
   "source": [
    "for window in tokenized_example['input_ids']:\n",
    "    print(f\"{tokenizer.decode(window)}\")"
   ]
  },
  {
   "cell_type": "markdown",
   "id": "dd57f244-3d72-408d-9c8a-b0739d66499b",
   "metadata": {},
   "source": [
    "# lets install some stuff"
   ]
  },
  {
   "cell_type": "markdown",
   "id": "7b460a60-8f96-4721-ad5e-0cac473d330a",
   "metadata": {},
   "source": [
    "## create a sub process"
   ]
  },
  {
   "cell_type": "code",
   "execution_count": 46,
   "id": "b05e6503-f239-4704-bcce-a94d6bc61bd7",
   "metadata": {},
   "outputs": [],
   "source": [
    "#!chown -R daemon:daemon elasticsearch-8.15.1"
   ]
  },
  {
   "cell_type": "code",
   "execution_count": 47,
   "id": "76d48f90-4b22-412c-8481-fa2bc8b8b188",
   "metadata": {},
   "outputs": [],
   "source": [
    "#new_password"
   ]
  },
  {
   "cell_type": "code",
   "execution_count": 48,
   "id": "2bbec7cc-e085-4cb0-a68b-d6bed6e51af1",
   "metadata": {},
   "outputs": [
    {
     "name": "stdout",
     "output_type": "stream",
     "text": [
      "Elasticsearch is running: {'name': '6bc420a281d4', 'cluster_name': 'docker-cluster', 'cluster_uuid': 'd-egv_--SbmpjvBgDQhTMQ', 'version': {'number': '8.11.1', 'build_flavor': 'default', 'build_type': 'docker', 'build_hash': '6f9ff581fbcde658e6f69d6ce03050f060d1fd0c', 'build_date': '2023-11-11T10:05:59.421038163Z', 'build_snapshot': False, 'lucene_version': '9.8.0', 'minimum_wire_compatibility_version': '7.17.0', 'minimum_index_compatibility_version': '7.0.0'}, 'tagline': 'You Know, for Search'}\n"
     ]
    }
   ],
   "source": [
    "import os\n",
    "import time\n",
    "import requests\n",
    "from subprocess import Popen, PIPE, STDOUT\n",
    "\n",
    "# Define the path to the Elasticsearch binary\n",
    "es_path = '/usr/share/elasticsearch/bin/elasticsearch'  # Update this to the correct path\n",
    "\n",
    "# Change ownership of Elasticsearch files without requiring a password\n",
    "#os.system('sudo chown -R daemon:daemon /usr/share/elasticsearch/bin/elasticsearch')  # Update this path as well\n",
    "\n",
    "# Start Elasticsearch server\n",
    "es_server = Popen(args=[es_path],\n",
    "                  stdout=PIPE, stderr=STDOUT)\n",
    "\n",
    "# Wait for Elasticsearch to start\n",
    "time.sleep(30)\n",
    "\n",
    "# Check if Elasticsearch is up and running\n",
    "try:\n",
    "    response = requests.get(\"http://localhost:9200/\", auth=('elastic', 'peQBjqFfi-FSUMDfjORi'))  # Update the password\n",
    "    response.raise_for_status()  # Raise an error for bad responses\n",
    "    print(\"Elasticsearch is running:\", response.json())\n",
    "except requests.exceptions.RequestException as e:\n",
    "    print(\"Error connecting to Elasticsearch:\", e)"
   ]
  },
  {
   "cell_type": "code",
   "execution_count": 49,
   "id": "f637b1f5-90f5-4314-a944-c77ce0e8e639",
   "metadata": {},
   "outputs": [],
   "source": [
    "#!curl -k -u -X GET \"https://localhost:9200/?pretty\""
   ]
  },
  {
   "cell_type": "markdown",
   "id": "b5443c52-9e7c-4955-b8f6-1e847e17d677",
   "metadata": {},
   "source": [
    "#\n",
    "* password is:peQBjqFfi-FSUMDfjORi"
   ]
  },
  {
   "cell_type": "markdown",
   "id": "afba0c39-1e5a-41c7-903e-e4c361c505a8",
   "metadata": {},
   "source": [
    "# add the document store"
   ]
  },
  {
   "cell_type": "code",
   "execution_count": 50,
   "id": "e43a5970-cfd5-47e2-8c9c-c352ffc3ab6d",
   "metadata": {},
   "outputs": [],
   "source": [
    "#new_password=\"peQBjqFfi-FSUMDfjORi\""
   ]
  },
  {
   "cell_type": "code",
   "execution_count": 51,
   "id": "dd01f6cb-5fcb-4795-9dbf-243f881e0cd3",
   "metadata": {},
   "outputs": [],
   "source": [
    "#!curl -k -u elastic:peQBjqFfi-FSUMDfjORi -X GET \"https://localhost:9200/?pretty\""
   ]
  },
  {
   "cell_type": "code",
   "execution_count": 52,
   "id": "34fa40c8-ff0d-4056-99b1-609ac71fd2c2",
   "metadata": {},
   "outputs": [
    {
     "name": "stdout",
     "output_type": "stream",
     "text": [
      "{\n",
      "  \"name\" : \"6bc420a281d4\",\n",
      "  \"cluster_name\" : \"docker-cluster\",\n",
      "  \"cluster_uuid\" : \"d-egv_--SbmpjvBgDQhTMQ\",\n",
      "  \"version\" : {\n",
      "    \"number\" : \"8.11.1\",\n",
      "    \"build_flavor\" : \"default\",\n",
      "    \"build_type\" : \"docker\",\n",
      "    \"build_hash\" : \"6f9ff581fbcde658e6f69d6ce03050f060d1fd0c\",\n",
      "    \"build_date\" : \"2023-11-11T10:05:59.421038163Z\",\n",
      "    \"build_snapshot\" : false,\n",
      "    \"lucene_version\" : \"9.8.0\",\n",
      "    \"minimum_wire_compatibility_version\" : \"7.17.0\",\n",
      "    \"minimum_index_compatibility_version\" : \"7.0.0\"\n",
      "  },\n",
      "  \"tagline\" : \"You Know, for Search\"\n",
      "}\n"
     ]
    }
   ],
   "source": [
    "!curl -X GET \"localhost:9200/\""
   ]
  },
  {
   "cell_type": "code",
   "execution_count": 53,
   "id": "0868ef5d-391e-4516-a7e6-925aece2abdd",
   "metadata": {},
   "outputs": [],
   "source": [
    "#!systemctl start elasticsearch"
   ]
  },
  {
   "cell_type": "code",
   "execution_count": 54,
   "id": "64f51c04-3df6-48b6-9ff5-db9db8fe45d3",
   "metadata": {},
   "outputs": [],
   "source": [
    "from haystack_integrations.document_stores.elasticsearch import ElasticsearchDocumentStore\n",
    "from haystack import Document\n",
    "#from elasticsearch import Elasticsearch\n",
    "\n",
    "# Initialize the Elasticsearch Document Store\n",
    "document_store = ElasticsearchDocumentStore(\n",
    "    hosts=[\"http://localhost:9200\"]\n",
    ")\n",
    "\n",
    "documents = [\n",
    "    Document(content=\"This is the first document.\"),\n",
    "    Document(content=\"This is the second document.\")\n",
    "]"
   ]
  },
  {
   "cell_type": "code",
   "execution_count": 75,
   "id": "f83b0d47-e964-4dc3-995d-fdff57f118ee",
   "metadata": {},
   "outputs": [
    {
     "name": "stdout",
     "output_type": "stream",
     "text": [
      "1875\n"
     ]
    }
   ],
   "source": [
    "print(document_store.count_documents())"
   ]
  },
  {
   "cell_type": "code",
   "execution_count": 80,
   "id": "79fc0844-2433-4bfb-b5c7-bdeb0b955374",
   "metadata": {},
   "outputs": [
    {
     "name": "stdout",
     "output_type": "stream",
     "text": [
      "1875\n"
     ]
    }
   ],
   "source": [
    "print(new_document_store.count_documents())"
   ]
  },
  {
   "cell_type": "code",
   "execution_count": 57,
   "id": "e9980e19-6971-4a34-8324-66fdd07a57ea",
   "metadata": {},
   "outputs": [],
   "source": [
    "# document_store.update_documents(documents)\n",
    "# print(document_store.count_documents())"
   ]
  },
  {
   "cell_type": "code",
   "execution_count": 58,
   "id": "d4a40805-8f19-4087-9447-2beb04bb41da",
   "metadata": {},
   "outputs": [],
   "source": [
    "new_document_store=ElasticsearchDocumentStore(\n",
    "    hosts=[\"http://localhost:9200\"]\n",
    ")"
   ]
  },
  {
   "cell_type": "code",
   "execution_count": 60,
   "id": "9381c890-d9f8-4c53-b4b3-73cbda69dcb4",
   "metadata": {},
   "outputs": [],
   "source": [
    "# new_document_store.delete_all_documents()"
   ]
  },
  {
   "cell_type": "code",
   "execution_count": 61,
   "id": "fe7be91a-2d51-48df-8fe0-1c5a8949329c",
   "metadata": {},
   "outputs": [],
   "source": [
    "#!curl -XDELETE 'http://localhost:9200/*'"
   ]
  },
  {
   "cell_type": "code",
   "execution_count": 62,
   "id": "b15a027b-c20b-481f-8a37-d1c1c88994db",
   "metadata": {},
   "outputs": [
    {
     "name": "stdout",
     "output_type": "stream",
     "text": [
      "health status index   uuid                   pri rep docs.count docs.deleted store.size pri.store.size dataset.size\n",
      "yellow open   default zvJpH83AQq2O3raPheqr3A   1   1       1875          877      3.6mb          3.6mb        3.6mb\n"
     ]
    }
   ],
   "source": [
    "!curl -X GET \"localhost:9200/_cat/indices?v\""
   ]
  },
  {
   "cell_type": "markdown",
   "id": "823e3356-0aaa-4e5b-b75b-786a33ea03b4",
   "metadata": {},
   "source": [
    "## for deleting document"
   ]
  },
  {
   "cell_type": "code",
   "execution_count": 63,
   "id": "851ecae5-1571-4fbb-a79c-b9c3d6f822f5",
   "metadata": {},
   "outputs": [
    {
     "name": "stdout",
     "output_type": "stream",
     "text": [
      "{\"took\":310,\"timed_out\":false,\"total\":1875,\"deleted\":1875,\"batches\":2,\"version_conflicts\":0,\"noops\":0,\"retries\":{\"bulk\":0,\"search\":0},\"throttled_millis\":0,\"requests_per_second\":-1.0,\"throttled_until_millis\":0,\"failures\":[]}"
     ]
    }
   ],
   "source": [
    "!curl -X POST \"localhost:9200/default/_delete_by_query\" -H'Content-Type: application/json' -d' {\"query\": {\"match_all\": {}}}'"
   ]
  },
  {
   "cell_type": "code",
   "execution_count": 64,
   "id": "bd35a530-f30b-4a7a-bf50-bab3ab15c4c2",
   "metadata": {
    "scrolled": true
   },
   "outputs": [],
   "source": [
    "#new_document_store.delete_all_documents()\n",
    "for split, df in dfs.items():\n",
    "    docs = [\n",
    "        Document(content= row[\"context\"],\n",
    "    meta={\"item_id\": row[\"title\"], \"question_id\": row[\"id\"],\n",
    "            \"split\": split}\n",
    "                )\n",
    "        for _,row in df.drop_duplicates(subset=\"context\").iterrows()]\n",
    "    new_document_store.write_documents(docs)"
   ]
  },
  {
   "cell_type": "code",
   "execution_count": 65,
   "id": "fec25d1e-ef38-4467-aae9-3e7dc127ec48",
   "metadata": {},
   "outputs": [
    {
     "name": "stdout",
     "output_type": "stream",
     "text": [
      "Number of documents is 1875\n"
     ]
    }
   ],
   "source": [
    "document_count = new_document_store.client.count(index='default')[\"count\"]\n",
    "print(f\"Number of documents is {document_count}\")"
   ]
  },
  {
   "cell_type": "markdown",
   "id": "033f2ab4-6d32-4b90-9364-7d8cffdea326",
   "metadata": {},
   "source": [
    "# initializing retriver"
   ]
  },
  {
   "cell_type": "code",
   "execution_count": 66,
   "id": "6451495a-2910-4f9d-a344-58131e1cc9cb",
   "metadata": {},
   "outputs": [],
   "source": [
    "from haystack_integrations.components.retrievers.elasticsearch import ElasticsearchBM25Retriever\n",
    "\n",
    "#assign retriver\n",
    "retriever=ElasticsearchBM25Retriever(document_store=new_document_store)"
   ]
  },
  {
   "cell_type": "code",
   "execution_count": 72,
   "id": "fd5551ee-1f47-4f48-a93a-a0bf109d1469",
   "metadata": {},
   "outputs": [
    {
     "ename": "FilterError",
     "evalue": "'operator' key missing in {'item_id': ['B0074BW614']}",
     "output_type": "error",
     "traceback": [
      "\u001b[0;31m---------------------------------------------------------------------------\u001b[0m",
      "\u001b[0;31mFilterError\u001b[0m                               Traceback (most recent call last)",
      "Cell \u001b[0;32mIn[72], line 10\u001b[0m\n\u001b[1;32m      2\u001b[0m query\u001b[38;5;241m=\u001b[39m\u001b[38;5;124m\"\u001b[39m\u001b[38;5;124mIs it good for reading?\u001b[39m\u001b[38;5;124m\"\u001b[39m\n\u001b[1;32m      3\u001b[0m filters\u001b[38;5;241m=\u001b[39m{\n\u001b[1;32m      4\u001b[0m     \u001b[38;5;124m\"\u001b[39m\u001b[38;5;124moperator\u001b[39m\u001b[38;5;124m\"\u001b[39m:\u001b[38;5;124m\"\u001b[39m\u001b[38;5;124mAND\u001b[39m\u001b[38;5;124m\"\u001b[39m ,\n\u001b[1;32m      5\u001b[0m      \u001b[38;5;124m\"\u001b[39m\u001b[38;5;124mconditions\u001b[39m\u001b[38;5;124m\"\u001b[39m:[\n\u001b[0;32m   (...)\u001b[0m\n\u001b[1;32m      8\u001b[0m          ]\n\u001b[1;32m      9\u001b[0m         }\n\u001b[0;32m---> 10\u001b[0m retriver_docs\u001b[38;5;241m=\u001b[39m\u001b[43mretriever\u001b[49m\u001b[38;5;241;43m.\u001b[39;49m\u001b[43mrun\u001b[49m\u001b[43m(\u001b[49m\n\u001b[1;32m     11\u001b[0m \u001b[43m    \u001b[49m\u001b[43mquery\u001b[49m\u001b[38;5;241;43m=\u001b[39;49m\u001b[43mquery\u001b[49m\u001b[43m,\u001b[49m\u001b[43mtop_k\u001b[49m\u001b[38;5;241;43m=\u001b[39;49m\u001b[38;5;241;43m3\u001b[39;49m\u001b[43m,\u001b[49m\u001b[43mfilters\u001b[49m\u001b[38;5;241;43m=\u001b[39;49m\u001b[43mfilters\u001b[49m\n\u001b[1;32m     12\u001b[0m \u001b[43m)\u001b[49m\n",
      "File \u001b[0;32m~/miniconda3/envs/tune/lib/python3.10/site-packages/haystack_integrations/components/retrievers/elasticsearch/bm25_retriever.py:132\u001b[0m, in \u001b[0;36mElasticsearchBM25Retriever.run\u001b[0;34m(self, query, filters, top_k)\u001b[0m\n\u001b[1;32m    120\u001b[0m \u001b[38;5;250m\u001b[39m\u001b[38;5;124;03m\"\"\"\u001b[39;00m\n\u001b[1;32m    121\u001b[0m \u001b[38;5;124;03mRetrieve documents using the BM25 keyword-based algorithm.\u001b[39;00m\n\u001b[1;32m    122\u001b[0m \n\u001b[0;32m   (...)\u001b[0m\n\u001b[1;32m    129\u001b[0m \u001b[38;5;124;03m    - `documents`: List of `Document`s that match the query.\u001b[39;00m\n\u001b[1;32m    130\u001b[0m \u001b[38;5;124;03m\"\"\"\u001b[39;00m\n\u001b[1;32m    131\u001b[0m filters \u001b[38;5;241m=\u001b[39m apply_filter_policy(\u001b[38;5;28mself\u001b[39m\u001b[38;5;241m.\u001b[39m_filter_policy, \u001b[38;5;28mself\u001b[39m\u001b[38;5;241m.\u001b[39m_filters, filters)\n\u001b[0;32m--> 132\u001b[0m docs \u001b[38;5;241m=\u001b[39m \u001b[38;5;28;43mself\u001b[39;49m\u001b[38;5;241;43m.\u001b[39;49m\u001b[43m_document_store\u001b[49m\u001b[38;5;241;43m.\u001b[39;49m\u001b[43m_bm25_retrieval\u001b[49m\u001b[43m(\u001b[49m\n\u001b[1;32m    133\u001b[0m \u001b[43m    \u001b[49m\u001b[43mquery\u001b[49m\u001b[38;5;241;43m=\u001b[39;49m\u001b[43mquery\u001b[49m\u001b[43m,\u001b[49m\n\u001b[1;32m    134\u001b[0m \u001b[43m    \u001b[49m\u001b[43mfilters\u001b[49m\u001b[38;5;241;43m=\u001b[39;49m\u001b[43mfilters\u001b[49m\u001b[43m,\u001b[49m\n\u001b[1;32m    135\u001b[0m \u001b[43m    \u001b[49m\u001b[43mfuzziness\u001b[49m\u001b[38;5;241;43m=\u001b[39;49m\u001b[38;5;28;43mself\u001b[39;49m\u001b[38;5;241;43m.\u001b[39;49m\u001b[43m_fuzziness\u001b[49m\u001b[43m,\u001b[49m\n\u001b[1;32m    136\u001b[0m \u001b[43m    \u001b[49m\u001b[43mtop_k\u001b[49m\u001b[38;5;241;43m=\u001b[39;49m\u001b[43mtop_k\u001b[49m\u001b[43m \u001b[49m\u001b[38;5;129;43;01mor\u001b[39;49;00m\u001b[43m \u001b[49m\u001b[38;5;28;43mself\u001b[39;49m\u001b[38;5;241;43m.\u001b[39;49m\u001b[43m_top_k\u001b[49m\u001b[43m,\u001b[49m\n\u001b[1;32m    137\u001b[0m \u001b[43m    \u001b[49m\u001b[43mscale_score\u001b[49m\u001b[38;5;241;43m=\u001b[39;49m\u001b[38;5;28;43mself\u001b[39;49m\u001b[38;5;241;43m.\u001b[39;49m\u001b[43m_scale_score\u001b[49m\u001b[43m,\u001b[49m\n\u001b[1;32m    138\u001b[0m \u001b[43m\u001b[49m\u001b[43m)\u001b[49m\n\u001b[1;32m    139\u001b[0m \u001b[38;5;28;01mreturn\u001b[39;00m {\u001b[38;5;124m\"\u001b[39m\u001b[38;5;124mdocuments\u001b[39m\u001b[38;5;124m\"\u001b[39m: docs}\n",
      "File \u001b[0;32m~/miniconda3/envs/tune/lib/python3.10/site-packages/haystack_integrations/document_stores/elasticsearch/document_store.py:393\u001b[0m, in \u001b[0;36mElasticsearchDocumentStore._bm25_retrieval\u001b[0;34m(self, query, filters, fuzziness, top_k, scale_score)\u001b[0m\n\u001b[1;32m    374\u001b[0m body: Dict[\u001b[38;5;28mstr\u001b[39m, Any] \u001b[38;5;241m=\u001b[39m {\n\u001b[1;32m    375\u001b[0m     \u001b[38;5;124m\"\u001b[39m\u001b[38;5;124msize\u001b[39m\u001b[38;5;124m\"\u001b[39m: top_k,\n\u001b[1;32m    376\u001b[0m     \u001b[38;5;124m\"\u001b[39m\u001b[38;5;124mquery\u001b[39m\u001b[38;5;124m\"\u001b[39m: {\n\u001b[0;32m   (...)\u001b[0m\n\u001b[1;32m    389\u001b[0m     },\n\u001b[1;32m    390\u001b[0m }\n\u001b[1;32m    392\u001b[0m \u001b[38;5;28;01mif\u001b[39;00m filters:\n\u001b[0;32m--> 393\u001b[0m     body[\u001b[38;5;124m\"\u001b[39m\u001b[38;5;124mquery\u001b[39m\u001b[38;5;124m\"\u001b[39m][\u001b[38;5;124m\"\u001b[39m\u001b[38;5;124mbool\u001b[39m\u001b[38;5;124m\"\u001b[39m][\u001b[38;5;124m\"\u001b[39m\u001b[38;5;124mfilter\u001b[39m\u001b[38;5;124m\"\u001b[39m] \u001b[38;5;241m=\u001b[39m \u001b[43m_normalize_filters\u001b[49m\u001b[43m(\u001b[49m\u001b[43mfilters\u001b[49m\u001b[43m)\u001b[49m\n\u001b[1;32m    395\u001b[0m documents \u001b[38;5;241m=\u001b[39m \u001b[38;5;28mself\u001b[39m\u001b[38;5;241m.\u001b[39m_search_documents(\u001b[38;5;241m*\u001b[39m\u001b[38;5;241m*\u001b[39mbody)\n\u001b[1;32m    397\u001b[0m \u001b[38;5;28;01mif\u001b[39;00m scale_score:\n",
      "File \u001b[0;32m~/miniconda3/envs/tune/lib/python3.10/site-packages/haystack_integrations/document_stores/elasticsearch/filters.py:21\u001b[0m, in \u001b[0;36m_normalize_filters\u001b[0;34m(filters)\u001b[0m\n\u001b[1;32m     19\u001b[0m \u001b[38;5;28;01mif\u001b[39;00m \u001b[38;5;124m\"\u001b[39m\u001b[38;5;124mfield\u001b[39m\u001b[38;5;124m\"\u001b[39m \u001b[38;5;129;01min\u001b[39;00m filters:\n\u001b[1;32m     20\u001b[0m     \u001b[38;5;28;01mreturn\u001b[39;00m {\u001b[38;5;124m\"\u001b[39m\u001b[38;5;124mbool\u001b[39m\u001b[38;5;124m\"\u001b[39m: {\u001b[38;5;124m\"\u001b[39m\u001b[38;5;124mmust\u001b[39m\u001b[38;5;124m\"\u001b[39m: _parse_comparison_condition(filters)}}\n\u001b[0;32m---> 21\u001b[0m \u001b[38;5;28;01mreturn\u001b[39;00m \u001b[43m_parse_logical_condition\u001b[49m\u001b[43m(\u001b[49m\u001b[43mfilters\u001b[49m\u001b[43m)\u001b[49m\n",
      "File \u001b[0;32m~/miniconda3/envs/tune/lib/python3.10/site-packages/haystack_integrations/document_stores/elasticsearch/filters.py:33\u001b[0m, in \u001b[0;36m_parse_logical_condition\u001b[0;34m(condition)\u001b[0m\n\u001b[1;32m     30\u001b[0m     \u001b[38;5;28;01mraise\u001b[39;00m FilterError(msg)\n\u001b[1;32m     32\u001b[0m operator \u001b[38;5;241m=\u001b[39m condition[\u001b[38;5;124m\"\u001b[39m\u001b[38;5;124moperator\u001b[39m\u001b[38;5;124m\"\u001b[39m]\n\u001b[0;32m---> 33\u001b[0m conditions \u001b[38;5;241m=\u001b[39m [_parse_comparison_condition(c) \u001b[38;5;28;01mfor\u001b[39;00m c \u001b[38;5;129;01min\u001b[39;00m condition[\u001b[38;5;124m\"\u001b[39m\u001b[38;5;124mconditions\u001b[39m\u001b[38;5;124m\"\u001b[39m]]\n\u001b[1;32m     34\u001b[0m \u001b[38;5;28;01mif\u001b[39;00m \u001b[38;5;28mlen\u001b[39m(conditions) \u001b[38;5;241m>\u001b[39m \u001b[38;5;241m1\u001b[39m:\n\u001b[1;32m     35\u001b[0m     conditions \u001b[38;5;241m=\u001b[39m _normalize_ranges(conditions)\n",
      "File \u001b[0;32m~/miniconda3/envs/tune/lib/python3.10/site-packages/haystack_integrations/document_stores/elasticsearch/filters.py:33\u001b[0m, in \u001b[0;36m<listcomp>\u001b[0;34m(.0)\u001b[0m\n\u001b[1;32m     30\u001b[0m     \u001b[38;5;28;01mraise\u001b[39;00m FilterError(msg)\n\u001b[1;32m     32\u001b[0m operator \u001b[38;5;241m=\u001b[39m condition[\u001b[38;5;124m\"\u001b[39m\u001b[38;5;124moperator\u001b[39m\u001b[38;5;124m\"\u001b[39m]\n\u001b[0;32m---> 33\u001b[0m conditions \u001b[38;5;241m=\u001b[39m [\u001b[43m_parse_comparison_condition\u001b[49m\u001b[43m(\u001b[49m\u001b[43mc\u001b[49m\u001b[43m)\u001b[49m \u001b[38;5;28;01mfor\u001b[39;00m c \u001b[38;5;129;01min\u001b[39;00m condition[\u001b[38;5;124m\"\u001b[39m\u001b[38;5;124mconditions\u001b[39m\u001b[38;5;124m\"\u001b[39m]]\n\u001b[1;32m     34\u001b[0m \u001b[38;5;28;01mif\u001b[39;00m \u001b[38;5;28mlen\u001b[39m(conditions) \u001b[38;5;241m>\u001b[39m \u001b[38;5;241m1\u001b[39m:\n\u001b[1;32m     35\u001b[0m     conditions \u001b[38;5;241m=\u001b[39m _normalize_ranges(conditions)\n",
      "File \u001b[0;32m~/miniconda3/envs/tune/lib/python3.10/site-packages/haystack_integrations/document_stores/elasticsearch/filters.py:197\u001b[0m, in \u001b[0;36m_parse_comparison_condition\u001b[0;34m(condition)\u001b[0m\n\u001b[1;32m    193\u001b[0m \u001b[38;5;28;01mdef\u001b[39;00m \u001b[38;5;21m_parse_comparison_condition\u001b[39m(condition: Dict[\u001b[38;5;28mstr\u001b[39m, Any]) \u001b[38;5;241m-\u001b[39m\u001b[38;5;241m>\u001b[39m Dict[\u001b[38;5;28mstr\u001b[39m, Any]:\n\u001b[1;32m    194\u001b[0m     \u001b[38;5;28;01mif\u001b[39;00m \u001b[38;5;124m\"\u001b[39m\u001b[38;5;124mfield\u001b[39m\u001b[38;5;124m\"\u001b[39m \u001b[38;5;129;01mnot\u001b[39;00m \u001b[38;5;129;01min\u001b[39;00m condition:\n\u001b[1;32m    195\u001b[0m         \u001b[38;5;66;03m# 'field' key is only found in comparison dictionaries.\u001b[39;00m\n\u001b[1;32m    196\u001b[0m         \u001b[38;5;66;03m# We assume this is a logic dictionary since it's not present.\u001b[39;00m\n\u001b[0;32m--> 197\u001b[0m         \u001b[38;5;28;01mreturn\u001b[39;00m \u001b[43m_parse_logical_condition\u001b[49m\u001b[43m(\u001b[49m\u001b[43mcondition\u001b[49m\u001b[43m)\u001b[49m\n\u001b[1;32m    198\u001b[0m     field: \u001b[38;5;28mstr\u001b[39m \u001b[38;5;241m=\u001b[39m condition[\u001b[38;5;124m\"\u001b[39m\u001b[38;5;124mfield\u001b[39m\u001b[38;5;124m\"\u001b[39m]\n\u001b[1;32m    200\u001b[0m     \u001b[38;5;28;01mif\u001b[39;00m field\u001b[38;5;241m.\u001b[39mstartswith(\u001b[38;5;124m\"\u001b[39m\u001b[38;5;124mmeta.\u001b[39m\u001b[38;5;124m\"\u001b[39m):\n\u001b[1;32m    201\u001b[0m         \u001b[38;5;66;03m# Remove the \"meta.\" prefix if present.\u001b[39;00m\n\u001b[1;32m    202\u001b[0m         \u001b[38;5;66;03m# Documents are flattened when using the ElasticSearchDocumentStore\u001b[39;00m\n\u001b[1;32m    203\u001b[0m         \u001b[38;5;66;03m# so we don't need to specify the \"meta.\" prefix.\u001b[39;00m\n\u001b[1;32m    204\u001b[0m         \u001b[38;5;66;03m# Instead of raising an error we handle it gracefully.\u001b[39;00m\n",
      "File \u001b[0;32m~/miniconda3/envs/tune/lib/python3.10/site-packages/haystack_integrations/document_stores/elasticsearch/filters.py:27\u001b[0m, in \u001b[0;36m_parse_logical_condition\u001b[0;34m(condition)\u001b[0m\n\u001b[1;32m     25\u001b[0m \u001b[38;5;28;01mif\u001b[39;00m \u001b[38;5;124m\"\u001b[39m\u001b[38;5;124moperator\u001b[39m\u001b[38;5;124m\"\u001b[39m \u001b[38;5;129;01mnot\u001b[39;00m \u001b[38;5;129;01min\u001b[39;00m condition:\n\u001b[1;32m     26\u001b[0m     msg \u001b[38;5;241m=\u001b[39m \u001b[38;5;124mf\u001b[39m\u001b[38;5;124m\"\u001b[39m\u001b[38;5;124m'\u001b[39m\u001b[38;5;124moperator\u001b[39m\u001b[38;5;124m'\u001b[39m\u001b[38;5;124m key missing in \u001b[39m\u001b[38;5;132;01m{\u001b[39;00mcondition\u001b[38;5;132;01m}\u001b[39;00m\u001b[38;5;124m\"\u001b[39m\n\u001b[0;32m---> 27\u001b[0m     \u001b[38;5;28;01mraise\u001b[39;00m FilterError(msg)\n\u001b[1;32m     28\u001b[0m \u001b[38;5;28;01mif\u001b[39;00m \u001b[38;5;124m\"\u001b[39m\u001b[38;5;124mconditions\u001b[39m\u001b[38;5;124m\"\u001b[39m \u001b[38;5;129;01mnot\u001b[39;00m \u001b[38;5;129;01min\u001b[39;00m condition:\n\u001b[1;32m     29\u001b[0m     msg \u001b[38;5;241m=\u001b[39m \u001b[38;5;124mf\u001b[39m\u001b[38;5;124m\"\u001b[39m\u001b[38;5;124m'\u001b[39m\u001b[38;5;124mconditions\u001b[39m\u001b[38;5;124m'\u001b[39m\u001b[38;5;124m key missing in \u001b[39m\u001b[38;5;132;01m{\u001b[39;00mcondition\u001b[38;5;132;01m}\u001b[39;00m\u001b[38;5;124m\"\u001b[39m\n",
      "\u001b[0;31mFilterError\u001b[0m: 'operator' key missing in {'item_id': ['B0074BW614']}"
     ]
    }
   ],
   "source": [
    "item_id=\"B0074BW614\"\n",
    "query=\"Is it good for reading?\"\n",
    "filters={\n",
    "    \"operator\":\"AND\" ,\n",
    "     \"conditions\":[\n",
    "         {'item_id':['B0074BW614']},\n",
    "          {'split':['train']}\n",
    "         ]\n",
    "        }\n",
    "retriver_docs=retriever.run(\n",
    "    query=query,top_k=3,filters=filters\n",
    ")"
   ]
  },
  {
   "cell_type": "code",
   "execution_count": null,
   "id": "fd8392d1-2e2c-4fd4-b0e3-36e5297737e9",
   "metadata": {},
   "outputs": [],
   "source": []
  }
 ],
 "metadata": {
  "kernelspec": {
   "display_name": "Python 3 (ipykernel)",
   "language": "python",
   "name": "python3"
  },
  "language_info": {
   "codemirror_mode": {
    "name": "ipython",
    "version": 3
   },
   "file_extension": ".py",
   "mimetype": "text/x-python",
   "name": "python",
   "nbconvert_exporter": "python",
   "pygments_lexer": "ipython3",
   "version": "3.10.14"
  }
 },
 "nbformat": 4,
 "nbformat_minor": 5
}
